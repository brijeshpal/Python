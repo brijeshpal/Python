{
 "cells": [
  {
   "cell_type": "markdown",
   "id": "eb9442f1",
   "metadata": {},
   "source": [
    "Boolean Variable"
   ]
  },
  {
   "cell_type": "code",
   "execution_count": 1,
   "id": "d7f33c8b",
   "metadata": {},
   "outputs": [
    {
     "name": "stdout",
     "output_type": "stream",
     "text": [
      "True False\n"
     ]
    }
   ],
   "source": [
    " print(True,False)"
   ]
  },
  {
   "cell_type": "code",
   "execution_count": 5,
   "id": "2b82057f",
   "metadata": {},
   "outputs": [
    {
     "data": {
      "text/plain": [
       "bool"
      ]
     },
     "execution_count": 5,
     "metadata": {},
     "output_type": "execute_result"
    }
   ],
   "source": [
    "type(True)"
   ]
  },
  {
   "cell_type": "code",
   "execution_count": 52,
   "id": "80baaee5",
   "metadata": {},
   "outputs": [
    {
     "name": "stdout",
     "output_type": "stream",
     "text": [
      "True\n",
      "True\n",
      "False\n",
      "True\n",
      "True\n"
     ]
    }
   ],
   "source": [
    "first=\"Brijesh\"\n",
    "print(first.isalnum())\n",
    "print(first.isalpha())\n",
    "print(first.isspace())\n",
    "second=\"456\"\n",
    "print(second.isalnum())\n",
    "print(second.isdigit())"
   ]
  },
  {
   "cell_type": "code",
   "execution_count": 48,
   "id": "ee2af2a1",
   "metadata": {},
   "outputs": [
    {
     "name": "stdout",
     "output_type": "stream",
     "text": [
      "True\n",
      "True\n",
      "False\n",
      "True\n",
      "False\n",
      "False\n",
      "False\n",
      "False\n",
      "True\n"
     ]
    }
   ],
   "source": [
    "print(first.isalnum())#check if all char are alphanumeric\n",
    "print(first.isalpha())#check if all char in the string are alphabetic\n",
    "print(first.isdigit())#test if string contains digits\n",
    "print(first.istitle())#test if string contains title words\n",
    "print(first.isupper())#test if string contains upper case\n",
    "print(first.islower())#test if string contains lower case\n",
    "print(first.isspace())#test if string contains spaces\n",
    "print(first.endswith('r'))#test if string endswith \"r\"\n",
    "print(first.startswith('B'))#test if string startswith \"B\""
   ]
  },
  {
   "cell_type": "markdown",
   "id": "f3cbb557",
   "metadata": {},
   "source": [
    "Boolean and Logical Operators"
   ]
  },
  {
   "cell_type": "code",
   "execution_count": 19,
   "id": "5c68c0f6",
   "metadata": {},
   "outputs": [
    {
     "data": {
      "text/plain": [
       "True"
      ]
     },
     "execution_count": 19,
     "metadata": {},
     "output_type": "execute_result"
    }
   ],
   "source": [
    "#AND Operator\n",
    "True and True "
   ]
  },
  {
   "cell_type": "code",
   "execution_count": 20,
   "id": "9f65b9c4",
   "metadata": {},
   "outputs": [
    {
     "data": {
      "text/plain": [
       "False"
      ]
     },
     "execution_count": 20,
     "metadata": {},
     "output_type": "execute_result"
    }
   ],
   "source": [
    "True and False"
   ]
  },
  {
   "cell_type": "code",
   "execution_count": 21,
   "id": "a357305e",
   "metadata": {},
   "outputs": [
    {
     "data": {
      "text/plain": [
       "False"
      ]
     },
     "execution_count": 21,
     "metadata": {},
     "output_type": "execute_result"
    }
   ],
   "source": [
    "False and True"
   ]
  },
  {
   "cell_type": "code",
   "execution_count": 22,
   "id": "285f73c2",
   "metadata": {},
   "outputs": [
    {
     "data": {
      "text/plain": [
       "False"
      ]
     },
     "execution_count": 22,
     "metadata": {},
     "output_type": "execute_result"
    }
   ],
   "source": [
    "False and False"
   ]
  },
  {
   "cell_type": "code",
   "execution_count": 23,
   "id": "53c036fc",
   "metadata": {},
   "outputs": [
    {
     "data": {
      "text/plain": [
       "True"
      ]
     },
     "execution_count": 23,
     "metadata": {},
     "output_type": "execute_result"
    }
   ],
   "source": [
    "#OR Operator\n",
    "True or True"
   ]
  },
  {
   "cell_type": "code",
   "execution_count": 25,
   "id": "0c994a4a",
   "metadata": {},
   "outputs": [
    {
     "data": {
      "text/plain": [
       "True"
      ]
     },
     "execution_count": 25,
     "metadata": {},
     "output_type": "execute_result"
    }
   ],
   "source": [
    "True or False"
   ]
  },
  {
   "cell_type": "code",
   "execution_count": 26,
   "id": "5137aa60",
   "metadata": {},
   "outputs": [
    {
     "data": {
      "text/plain": [
       "True"
      ]
     },
     "execution_count": 26,
     "metadata": {},
     "output_type": "execute_result"
    }
   ],
   "source": [
    "False or True "
   ]
  },
  {
   "cell_type": "code",
   "execution_count": 27,
   "id": "be5071fd",
   "metadata": {},
   "outputs": [
    {
     "data": {
      "text/plain": [
       "False"
      ]
     },
     "execution_count": 27,
     "metadata": {},
     "output_type": "execute_result"
    }
   ],
   "source": [
    "False or False"
   ]
  },
  {
   "cell_type": "code",
   "execution_count": 28,
   "id": "cdab24c9",
   "metadata": {},
   "outputs": [
    {
     "data": {
      "text/plain": [
       "False"
      ]
     },
     "execution_count": 28,
     "metadata": {},
     "output_type": "execute_result"
    }
   ],
   "source": [
    "#NOT Operator\n",
    "not True"
   ]
  },
  {
   "cell_type": "code",
   "execution_count": 29,
   "id": "b6090eb3",
   "metadata": {},
   "outputs": [
    {
     "data": {
      "text/plain": [
       "True"
      ]
     },
     "execution_count": 29,
     "metadata": {},
     "output_type": "execute_result"
    }
   ],
   "source": [
    "not False"
   ]
  },
  {
   "cell_type": "code",
   "execution_count": 30,
   "id": "522bfd5d",
   "metadata": {},
   "outputs": [
    {
     "data": {
      "text/plain": [
       "True"
      ]
     },
     "execution_count": 30,
     "metadata": {},
     "output_type": "execute_result"
    }
   ],
   "source": [
    "First=\"Brijesh Kumar\"\n",
    "second=\"456\"\n",
    "first.isalpha() or second.isdigit()"
   ]
  },
  {
   "cell_type": "code",
   "execution_count": 53,
   "id": "605e150f",
   "metadata": {},
   "outputs": [
    {
     "data": {
      "text/plain": [
       "True"
      ]
     },
     "execution_count": 53,
     "metadata": {},
     "output_type": "execute_result"
    }
   ],
   "source": [
    "First=\"Brijesh\"\n",
    "second=\"456\"\n",
    "first.isalpha() and second.isdigit()"
   ]
  },
  {
   "cell_type": "markdown",
   "id": "48ccea50",
   "metadata": {},
   "source": [
    "# Lists"
   ]
  },
  {
   "cell_type": "markdown",
   "id": "4b1ffc59",
   "metadata": {},
   "source": [
    "It is changeable and mutable.\n",
    "its represented under Square brackets []"
   ]
  },
  {
   "cell_type": "code",
   "execution_count": 54,
   "id": "044182e5",
   "metadata": {},
   "outputs": [
    {
     "data": {
      "text/plain": [
       "list"
      ]
     },
     "execution_count": 54,
     "metadata": {},
     "output_type": "execute_result"
    }
   ],
   "source": [
    "type([]) "
   ]
  },
  {
   "cell_type": "code",
   "execution_count": 55,
   "id": "0a34dfd6",
   "metadata": {},
   "outputs": [
    {
     "data": {
      "text/plain": [
       "list"
      ]
     },
     "execution_count": 55,
     "metadata": {},
     "output_type": "execute_result"
    }
   ],
   "source": [
    "first=[]\n",
    "type(first)"
   ]
  },
  {
   "cell_type": "code",
   "execution_count": 57,
   "id": "9d2970cd",
   "metadata": {},
   "outputs": [
    {
     "data": {
      "text/plain": [
       "list"
      ]
     },
     "execution_count": 57,
     "metadata": {},
     "output_type": "execute_result"
    }
   ],
   "source": [
    "lst=[\"1\"]\n",
    "type(lst)"
   ]
  },
  {
   "cell_type": "code",
   "execution_count": 59,
   "id": "a1a45822",
   "metadata": {},
   "outputs": [
    {
     "data": {
      "text/plain": [
       "list"
      ]
     },
     "execution_count": 59,
     "metadata": {},
     "output_type": "execute_result"
    }
   ],
   "source": [
    "second=list()\n",
    "type(second)"
   ]
  },
  {
   "cell_type": "code",
   "execution_count": 62,
   "id": "fbbd0636",
   "metadata": {},
   "outputs": [
    {
     "name": "stdout",
     "output_type": "stream",
     "text": [
      "<class 'list'>\n",
      "['math', 'physics', 100, 99, 87]\n",
      "5\n"
     ]
    }
   ],
   "source": [
    "lst=[\"math\",\"physics\",100,99,87]\n",
    "print(type(lst))\n",
    "print(lst)\n",
    "print(len(lst))"
   ]
  },
  {
   "cell_type": "markdown",
   "id": "a39680c6",
   "metadata": {},
   "source": [
    "# Append (inbuilt function of List)"
   ]
  },
  {
   "cell_type": "code",
   "execution_count": 74,
   "id": "46dafd9c",
   "metadata": {},
   "outputs": [
    {
     "name": "stdout",
     "output_type": "stream",
     "text": [
      "['math', 'physics', 100, 99, 87, 'Brijesh', 'Kumar', 'Brijesh', 'Brijesh', 'Brijesh']\n"
     ]
    }
   ],
   "source": [
    "lst.append(\"Brijesh\")#only one element should be added at end of the list\n",
    "print(lst)"
   ]
  },
  {
   "cell_type": "code",
   "execution_count": 79,
   "id": "201fee48",
   "metadata": {},
   "outputs": [
    {
     "data": {
      "text/plain": [
       "['math',\n",
       " 'physics',\n",
       " 100,\n",
       " 99,\n",
       " 87,\n",
       " 'Brijesh',\n",
       " 'Kumar',\n",
       " 'Brijesh',\n",
       " 'Brijesh',\n",
       " 'Brijesh',\n",
       " ['Movie', 'ticket', 89]]"
      ]
     },
     "execution_count": 79,
     "metadata": {},
     "output_type": "execute_result"
    }
   ],
   "source": [
    "#nested append \n",
    "lst.append([\"Movie\",\"ticket\",89])\n",
    "lst"
   ]
  },
  {
   "cell_type": "code",
   "execution_count": 78,
   "id": "b5e03e0f",
   "metadata": {},
   "outputs": [
    {
     "name": "stdout",
     "output_type": "stream",
     "text": [
      "87\n",
      "Kumar\n",
      "['physics', 100, 99, 87, 'Brijesh', 'Kumar', 'Brijesh', 'Brijesh', 'Brijesh']\n",
      "['math', 'physics', 100, 99, 87, 'Brijesh', 'Kumar', 'Brijesh', 'Brijesh', 'Brijesh']\n",
      "['physics', 100, 99, 87]\n"
     ]
    }
   ],
   "source": [
    "#indexing in list\n",
    "print(lst[4])\n",
    "print(lst[6])\n",
    "print(lst[1:])\n",
    "print(lst[0:])\n",
    "print(lst[1:5])#index 1 se lekar 5th ke pahle wale index print hoga"
   ]
  },
  {
   "cell_type": "markdown",
   "id": "9072785e",
   "metadata": {},
   "source": [
    "#Insert"
   ]
  },
  {
   "cell_type": "code",
   "execution_count": 69,
   "id": "47448cc0",
   "metadata": {},
   "outputs": [
    {
     "data": {
      "text/plain": [
       "['math', 'physics', 100, 99, 87, 'Brijesh', 'Kumar']"
      ]
     },
     "execution_count": 69,
     "metadata": {},
     "output_type": "execute_result"
    }
   ],
   "source": [
    "lst.insert(6,\"Kumar\")#kaha pr insert karna h position dena padega,\n",
    "#first parameter is a index value \n",
    "#second parameter is a value to be inserted\n",
    "lst"
   ]
  },
  {
   "cell_type": "markdown",
   "id": "59757f23",
   "metadata": {},
   "source": [
    "#extend method"
   ]
  },
  {
   "cell_type": "code",
   "execution_count": 80,
   "id": "7c617233",
   "metadata": {},
   "outputs": [],
   "source": [
    "lst=[1,2,5,6,\"holi\"]"
   ]
  },
  {
   "cell_type": "code",
   "execution_count": 81,
   "id": "9c52117d",
   "metadata": {},
   "outputs": [
    {
     "name": "stdout",
     "output_type": "stream",
     "text": [
      "[1, 2, 5, 6, 'holi', 8, 9]\n"
     ]
    }
   ],
   "source": [
    "lst.extend([8,9])\n",
    "print(lst)"
   ]
  },
  {
   "cell_type": "markdown",
   "id": "acb9f541",
   "metadata": {},
   "source": [
    "#various operation in list"
   ]
  },
  {
   "cell_type": "code",
   "execution_count": 87,
   "id": "707e782a",
   "metadata": {},
   "outputs": [
    {
     "data": {
      "text/plain": [
       "27"
      ]
     },
     "execution_count": 87,
     "metadata": {},
     "output_type": "execute_result"
    }
   ],
   "source": [
    "lst=[1,5,8,4,9]\n",
    "sum(lst)"
   ]
  },
  {
   "cell_type": "code",
   "execution_count": 93,
   "id": "dca49e41",
   "metadata": {},
   "outputs": [
    {
     "data": {
      "text/plain": [
       "[1,\n",
       " 1,\n",
       " 1,\n",
       " 1,\n",
       " 3,\n",
       " 3,\n",
       " 5,\n",
       " 6,\n",
       " 7,\n",
       " 8,\n",
       " 6,\n",
       " 4,\n",
       " 5,\n",
       " 6,\n",
       " 7,\n",
       " 1,\n",
       " 1,\n",
       " 1,\n",
       " 1,\n",
       " 3,\n",
       " 3,\n",
       " 5,\n",
       " 6,\n",
       " 7,\n",
       " 8,\n",
       " 6,\n",
       " 4,\n",
       " 5,\n",
       " 6,\n",
       " 7,\n",
       " 1,\n",
       " 1,\n",
       " 1,\n",
       " 1,\n",
       " 3,\n",
       " 3,\n",
       " 5,\n",
       " 6,\n",
       " 7,\n",
       " 8,\n",
       " 6,\n",
       " 4,\n",
       " 5,\n",
       " 6,\n",
       " 7]"
      ]
     },
     "execution_count": 93,
     "metadata": {},
     "output_type": "execute_result"
    }
   ],
   "source": [
    "lst*3#3 times lst append hogi"
   ]
  },
  {
   "cell_type": "markdown",
   "id": "d8e3f3ac",
   "metadata": {},
   "source": [
    "#Pop() Method"
   ]
  },
  {
   "cell_type": "code",
   "execution_count": 88,
   "id": "b89139c8",
   "metadata": {},
   "outputs": [
    {
     "data": {
      "text/plain": [
       "9"
      ]
     },
     "execution_count": 88,
     "metadata": {},
     "output_type": "execute_result"
    }
   ],
   "source": [
    "lst.pop()#by default if we did not give the value then last index value pop"
   ]
  },
  {
   "cell_type": "code",
   "execution_count": 89,
   "id": "9da13c9b",
   "metadata": {},
   "outputs": [
    {
     "data": {
      "text/plain": [
       "4"
      ]
     },
     "execution_count": 89,
     "metadata": {},
     "output_type": "execute_result"
    }
   ],
   "source": [
    "lst.pop(3)#3=index value"
   ]
  },
  {
   "cell_type": "markdown",
   "id": "d0879980",
   "metadata": {},
   "source": [
    "\n",
    "#count=calculate total occurrence of given element of list"
   ]
  },
  {
   "cell_type": "code",
   "execution_count": 92,
   "id": "98d362f2",
   "metadata": {},
   "outputs": [
    {
     "name": "stdout",
     "output_type": "stream",
     "text": [
      "2\n",
      "4\n",
      "1\n",
      "8\n"
     ]
    }
   ],
   "source": [
    "lst=[1,1,1,1,3,3,5,6,7,8,6,4,5,6,7]\n",
    "print(lst.count(5))\n",
    "print(lst.count(1))\n",
    "print(min(lst))\n",
    "print(max(lst))"
   ]
  },
  {
   "cell_type": "markdown",
   "id": "cc795ebe",
   "metadata": {},
   "source": [
    "# SETS"
   ]
  },
  {
   "cell_type": "markdown",
   "id": "b0109731",
   "metadata": {},
   "source": [
    "A set is an unordered collection data type that is iterable,mutable,and has no duplicate elements.Python set class represents the mathematical notion of a set.This is based on a data structure known as a hash table\n",
    "Represented by {} \n",
    "\n",
    "it does not support indexing"
   ]
  },
  {
   "cell_type": "code",
   "execution_count": 94,
   "id": "e74829f0",
   "metadata": {},
   "outputs": [
    {
     "name": "stdout",
     "output_type": "stream",
     "text": [
      "set()\n",
      "<class 'set'>\n"
     ]
    }
   ],
   "source": [
    "#emty set\n",
    "first=set()\n",
    "print(first)\n",
    "print(type(first))"
   ]
  },
  {
   "cell_type": "code",
   "execution_count": 96,
   "id": "7ab0b4cd",
   "metadata": {},
   "outputs": [
    {
     "data": {
      "text/plain": [
       "{1, 3, 5, 6}"
      ]
     },
     "execution_count": 96,
     "metadata": {},
     "output_type": "execute_result"
    }
   ],
   "source": [
    "# No duplicate element\n",
    "second={1,1,1,3,5,3,6,5}\n",
    "second"
   ]
  },
  {
   "cell_type": "code",
   "execution_count": 97,
   "id": "9f580aa6",
   "metadata": {},
   "outputs": [
    {
     "name": "stdout",
     "output_type": "stream",
     "text": [
      "{'Kiran', 'Pavnesh', 'Brijesh'}\n",
      "<class 'set'>\n"
     ]
    }
   ],
   "source": [
    "first={\"Brijesh\",\"Pavnesh\",\"Kiran\"}\n",
    "print(first)\n",
    "print(type(first))"
   ]
  },
  {
   "cell_type": "markdown",
   "id": "07d9e2d6",
   "metadata": {},
   "source": [
    " Inbuilt function in sets"
   ]
  },
  {
   "cell_type": "code",
   "execution_count": 99,
   "id": "4b2f41c7",
   "metadata": {},
   "outputs": [
    {
     "data": {
      "text/plain": [
       "{'Bhaiya', 'Brijesh', 'Kiran', 'Pavnesh'}"
      ]
     },
     "execution_count": 99,
     "metadata": {},
     "output_type": "execute_result"
    }
   ],
   "source": [
    "first.add(\"Bhaiya\")\n",
    "first"
   ]
  },
  {
   "cell_type": "code",
   "execution_count": 114,
   "id": "ab64e2fa",
   "metadata": {},
   "outputs": [],
   "source": [
    "first1={\"Gold\",\"Silver\",\"Bronze\",\"Medal\"}\n",
    "first2={\"Gold\",\"Silver\",\"Bronze\",\"Medal\",\"RIO\"}"
   ]
  },
  {
   "cell_type": "code",
   "execution_count": null,
   "id": "f012b28e",
   "metadata": {},
   "outputs": [],
   "source": [
    "# first2.intersection(first1)"
   ]
  },
  {
   "cell_type": "code",
   "execution_count": 122,
   "id": "d6b44162",
   "metadata": {},
   "outputs": [
    {
     "data": {
      "text/plain": [
       "set()"
      ]
     },
     "execution_count": 122,
     "metadata": {},
     "output_type": "execute_result"
    }
   ],
   "source": [
    "first2.difference(first1)"
   ]
  },
  {
   "cell_type": "markdown",
   "id": "7231c5be",
   "metadata": {},
   "source": [
    "# Dictionaries"
   ]
  },
  {
   "cell_type": "markdown",
   "id": "eaef03bc",
   "metadata": {},
   "source": [
    "A dictionary is a collection which is unordered,changeable and indexed. In python dictionaries are written with curly brackets,and they have keys and values."
   ]
  },
  {
   "cell_type": "code",
   "execution_count": 1,
   "id": "2389bf6b",
   "metadata": {},
   "outputs": [
    {
     "data": {
      "text/plain": [
       "dict"
      ]
     },
     "execution_count": 1,
     "metadata": {},
     "output_type": "execute_result"
    }
   ],
   "source": [
    "dic={}\n",
    "type(dic)"
   ]
  },
  {
   "cell_type": "code",
   "execution_count": 2,
   "id": "fbef1809",
   "metadata": {},
   "outputs": [
    {
     "data": {
      "text/plain": [
       "set"
      ]
     },
     "execution_count": 2,
     "metadata": {},
     "output_type": "execute_result"
    }
   ],
   "source": [
    "dic={1,2,3,4,5}\n",
    "type(dic)"
   ]
  },
  {
   "cell_type": "code",
   "execution_count": 7,
   "id": "441e26b6",
   "metadata": {},
   "outputs": [
    {
     "name": "stdout",
     "output_type": "stream",
     "text": [
      "<class 'builtin_function_or_method'>\n",
      "{'car1': 'Ferari', 'car2': 'BMW', 'car3': 'MERCI'}\n"
     ]
    }
   ],
   "source": [
    "# Let create a dictionary\n",
    "first={\"car1\":\"Ferari\",\"car2\":\"BMW\",\"car3\":\"MERCI\"}\n",
    "print(type(first.values))\n",
    "print(first)"
   ]
  },
  {
   "cell_type": "code",
   "execution_count": 5,
   "id": "e4c82a8c",
   "metadata": {},
   "outputs": [
    {
     "data": {
      "text/plain": [
       "'Ferari'"
      ]
     },
     "execution_count": 5,
     "metadata": {},
     "output_type": "execute_result"
    }
   ],
   "source": [
    "#Access the item values based on keys\n",
    "first['car1']"
   ]
  },
  {
   "cell_type": "code",
   "execution_count": 6,
   "id": "c97a0740",
   "metadata": {},
   "outputs": [
    {
     "name": "stdout",
     "output_type": "stream",
     "text": [
      "car1\n",
      "car2\n",
      "car3\n"
     ]
    }
   ],
   "source": [
    "# we can even loop throught the dictionaries keys\n",
    "\n",
    "for i in first:\n",
    "    print(i)"
   ]
  },
  {
   "cell_type": "code",
   "execution_count": 7,
   "id": "c1a5c46c",
   "metadata": {},
   "outputs": [
    {
     "name": "stdout",
     "output_type": "stream",
     "text": [
      "Ferari\n",
      "BMW\n",
      "MERCI\n"
     ]
    }
   ],
   "source": [
    "# we can even loop throught the dictionaries keys\n",
    "\n",
    "for x in first.values():\n",
    "    print(x)"
   ]
  },
  {
   "cell_type": "code",
   "execution_count": 8,
   "id": "4909c0e6",
   "metadata": {},
   "outputs": [
    {
     "name": "stdout",
     "output_type": "stream",
     "text": [
      "('car1', 'Ferari')\n",
      "('car2', 'BMW')\n",
      "('car3', 'MERCI')\n"
     ]
    }
   ],
   "source": [
    "# we can also check both keys and values\n",
    "for x in first.items():\n",
    "    print(x)"
   ]
  },
  {
   "cell_type": "code",
   "execution_count": 9,
   "id": "b2214d5b",
   "metadata": {},
   "outputs": [
    {
     "data": {
      "text/plain": [
       "{'car1': 'Ferari', 'car2': 'BMW', 'car3': 'MERCI', 'car4': 'audi'}"
      ]
     },
     "execution_count": 9,
     "metadata": {},
     "output_type": "execute_result"
    }
   ],
   "source": [
    "#adding item in dictionary\n",
    "first['car4']='audi'\n",
    "first"
   ]
  },
  {
   "cell_type": "markdown",
   "id": "7c5ee630",
   "metadata": {},
   "source": [
    "Nested Dictionary"
   ]
  },
  {
   "cell_type": "code",
   "execution_count": 12,
   "id": "f4f018ec",
   "metadata": {},
   "outputs": [
    {
     "name": "stdout",
     "output_type": "stream",
     "text": [
      "{'car1': {'mercedes': 1960}, 'car2': {'Audi': 1970}, 'car3': {'Ambassador': 1980}}\n"
     ]
    }
   ],
   "source": [
    "car1_model={'mercedes':1960}\n",
    "car2_model={'Audi':1970}\n",
    "car3_model={'Ambassador':1980}\n",
    "\n",
    "car_type={'car1':car1_model,'car2':car2_model,'car3':car3_model}\n",
    "print(car_type)"
   ]
  },
  {
   "cell_type": "code",
   "execution_count": 13,
   "id": "eed78da1",
   "metadata": {},
   "outputs": [
    {
     "name": "stdout",
     "output_type": "stream",
     "text": [
      "{'mercedes': 1960}\n"
     ]
    }
   ],
   "source": [
    "print(car_type['car1'])"
   ]
  },
  {
   "cell_type": "code",
   "execution_count": 14,
   "id": "9ba521f4",
   "metadata": {},
   "outputs": [
    {
     "name": "stdout",
     "output_type": "stream",
     "text": [
      "1970\n"
     ]
    }
   ],
   "source": [
    "print(car_type['car2']['Audi'])"
   ]
  },
  {
   "cell_type": "markdown",
   "id": "10803bcf",
   "metadata": {},
   "source": [
    "# Tuples"
   ]
  },
  {
   "cell_type": "code",
   "execution_count": 15,
   "id": "f4811c4d",
   "metadata": {},
   "outputs": [
    {
     "data": {
      "text/plain": [
       "tuple"
      ]
     },
     "execution_count": 15,
     "metadata": {},
     "output_type": "execute_result"
    }
   ],
   "source": [
    "# not changeable sequence of element , ordered and represented by ()\n",
    "# Empty Tuple\n",
    "first=tuple()\n",
    "type(first)"
   ]
  },
  {
   "cell_type": "code",
   "execution_count": 18,
   "id": "1c7e2b65",
   "metadata": {},
   "outputs": [
    {
     "name": "stdout",
     "output_type": "stream",
     "text": [
      "<class 'tuple'>\n",
      "Pavnesh\n",
      "('Brijesh', 'Pavnesh', 'Kiran')\n"
     ]
    }
   ],
   "source": [
    "first=(\"Brijesh\",\"Pavnesh\",\"Kiran\")\n",
    "print(type(first))\n",
    "print(first[1])#index\n",
    "print(first)"
   ]
  },
  {
   "cell_type": "code",
   "execution_count": 19,
   "id": "3dc1f0fa",
   "metadata": {},
   "outputs": [
    {
     "ename": "TypeError",
     "evalue": "'tuple' object does not support item assignment",
     "output_type": "error",
     "traceback": [
      "\u001b[1;31m---------------------------------------------------------------------------\u001b[0m",
      "\u001b[1;31mTypeError\u001b[0m                                 Traceback (most recent call last)",
      "Cell \u001b[1;32mIn[19], line 1\u001b[0m\n\u001b[1;32m----> 1\u001b[0m first[\u001b[38;5;241m0\u001b[39m]\u001b[38;5;241m=\u001b[39m\u001b[38;5;124m\"\u001b[39m\u001b[38;5;124mKumar\u001b[39m\u001b[38;5;124m\"\u001b[39m\n",
      "\u001b[1;31mTypeError\u001b[0m: 'tuple' object does not support item assignment"
     ]
    }
   ],
   "source": [
    "first[0]=\"Kumar\"#tuple object does not support item assignment"
   ]
  },
  {
   "cell_type": "code",
   "execution_count": 20,
   "id": "3c690be7",
   "metadata": {},
   "outputs": [
    {
     "name": "stdout",
     "output_type": "stream",
     "text": [
      "<class 'tuple'>\n",
      "('Faltu', 'Yunis')\n"
     ]
    }
   ],
   "source": [
    "# Only Replace is possible\n",
    "first=('Faltu','Yunis')\n",
    "print(type(first))\n",
    "print(first)"
   ]
  },
  {
   "cell_type": "code",
   "execution_count": 22,
   "id": "7dd84fc4",
   "metadata": {},
   "outputs": [
    {
     "data": {
      "text/plain": [
       "1"
      ]
     },
     "execution_count": 22,
     "metadata": {},
     "output_type": "execute_result"
    }
   ],
   "source": [
    "#inbuilt function\n",
    "first.count('Faltu')"
   ]
  },
  {
   "cell_type": "code",
   "execution_count": 23,
   "id": "6193b046",
   "metadata": {},
   "outputs": [
    {
     "data": {
      "text/plain": [
       "1"
      ]
     },
     "execution_count": 23,
     "metadata": {},
     "output_type": "execute_result"
    }
   ],
   "source": [
    "first.index('Yunis')"
   ]
  },
  {
   "cell_type": "code",
   "execution_count": 24,
   "id": "660a4249",
   "metadata": {},
   "outputs": [
    {
     "data": {
      "text/plain": [
       "0"
      ]
     },
     "execution_count": 24,
     "metadata": {},
     "output_type": "execute_result"
    }
   ],
   "source": [
    "first.count('Ajay')"
   ]
  },
  {
   "cell_type": "markdown",
   "id": "c813475b",
   "metadata": {},
   "source": [
    "# Numpy"
   ]
  },
  {
   "cell_type": "markdown",
   "id": "00807dc7",
   "metadata": {},
   "source": [
    "NumPy is a general-purpose array-processing package.it provides a high-performance multidimensional array object, and tools for working with these arrays is the fundamental package for scientific computing with python."
   ]
  },
  {
   "cell_type": "markdown",
   "id": "ff6afff2",
   "metadata": {},
   "source": [
    "What is an array and difference between list and array "
   ]
  },
  {
   "cell_type": "markdown",
   "id": "4164359b",
   "metadata": {},
   "source": [
    "An aaray is similar type data structure. In python lists can contain values corresponding to different data types, arrays in python can only contain values corresponding to same data type."
   ]
  },
  {
   "cell_type": "code",
   "execution_count": null,
   "id": "a18165ca",
   "metadata": {},
   "outputs": [],
   "source": []
  },
  {
   "cell_type": "code",
   "execution_count": 5,
   "id": "45f6d0dc",
   "metadata": {},
   "outputs": [
    {
     "name": "stdout",
     "output_type": "stream",
     "text": [
      "<class 'numpy.ndarray'>\n",
      "[1 2 3 4 5 6]\n",
      "(6,)\n",
      "6\n",
      "<class 'list'>\n"
     ]
    }
   ],
   "source": [
    "#importing numpy\n",
    "import numpy as bri\n",
    "\n",
    "first=[1,2,3,4,5,6]\n",
    "arr=bri.array(first)\n",
    "print(type(arr))\n",
    "print(arr)\n",
    "print(arr.shape)#for dimensional\n",
    "print(arr.size)\n",
    "print(type(first))\n"
   ]
  },
  {
   "cell_type": "code",
   "execution_count": 32,
   "id": "0422613c",
   "metadata": {},
   "outputs": [
    {
     "name": "stdout",
     "output_type": "stream",
     "text": [
      "[[3 7 5 3 8 9]\n",
      " [2 6 8 9 5 3]\n",
      " [4 7 8 2 5 9]]\n",
      "(3, 6)\n",
      "18\n",
      "<class 'numpy.ndarray'>\n"
     ]
    }
   ],
   "source": [
    "# multinested array\n",
    "first=[3,7,5,3,8,9]\n",
    "second=[2,6,8,9,5,3]\n",
    "third=[4,7,8,2,5,9]\n",
    "brr=bri.array([first,second,third])\n",
    "print(brr)\n",
    "print(brr.shape)\n",
    "print(brr.size)\n",
    "print(type(brr))"
   ]
  },
  {
   "cell_type": "code",
   "execution_count": 36,
   "id": "bd332bfb",
   "metadata": {},
   "outputs": [
    {
     "name": "stdout",
     "output_type": "stream",
     "text": [
      "[[3 7]\n",
      " [5 3]\n",
      " [8 9]\n",
      " [2 6]\n",
      " [8 9]\n",
      " [5 3]\n",
      " [4 7]\n",
      " [8 2]\n",
      " [5 9]]\n",
      "[[3 7 5]\n",
      " [3 8 9]\n",
      " [2 6 8]\n",
      " [9 5 3]\n",
      " [4 7 8]\n",
      " [2 5 9]]\n"
     ]
    }
   ],
   "source": [
    "# Reshape the array\n",
    "print(brr.reshape(9,2))#jitna size rahega utne me hi reshape ho payega\n",
    "print(brr.reshape(6,3))"
   ]
  },
  {
   "cell_type": "markdown",
   "id": "68fcffb1",
   "metadata": {},
   "source": [
    " Indexing"
   ]
  },
  {
   "cell_type": "code",
   "execution_count": 40,
   "id": "400ca4b4",
   "metadata": {},
   "outputs": [
    {
     "data": {
      "text/plain": [
       "array([1, 2, 3, 4, 5, 6])"
      ]
     },
     "execution_count": 40,
     "metadata": {},
     "output_type": "execute_result"
    }
   ],
   "source": [
    "# Accessing the array elements\n",
    "\n",
    "arr"
   ]
  },
  {
   "cell_type": "code",
   "execution_count": 41,
   "id": "5b718d8b",
   "metadata": {},
   "outputs": [
    {
     "data": {
      "text/plain": [
       "4"
      ]
     },
     "execution_count": 41,
     "metadata": {},
     "output_type": "execute_result"
    }
   ],
   "source": [
    "arr[3]"
   ]
  },
  {
   "cell_type": "code",
   "execution_count": 42,
   "id": "bb234bb5",
   "metadata": {},
   "outputs": [
    {
     "data": {
      "text/plain": [
       "array([[3, 7, 5, 3, 8, 9],\n",
       "       [2, 6, 8, 9, 5, 3],\n",
       "       [4, 7, 8, 2, 5, 9]])"
      ]
     },
     "execution_count": 42,
     "metadata": {},
     "output_type": "execute_result"
    }
   ],
   "source": [
    "brr"
   ]
  },
  {
   "cell_type": "code",
   "execution_count": 45,
   "id": "a2babf4f",
   "metadata": {},
   "outputs": [
    {
     "data": {
      "text/plain": [
       "array([[5, 3]])"
      ]
     },
     "execution_count": 45,
     "metadata": {},
     "output_type": "execute_result"
    }
   ],
   "source": [
    "brr[0:1,2:4]\n",
    "\n",
    "\n",
    "# 0:1 0=start row index  1=jaha tk print karna h usse ek aage\n",
    "#2:4  2=start column index,,  4=jaha tk print karna h ussse ek aage"
   ]
  },
  {
   "cell_type": "code",
   "execution_count": 46,
   "id": "bca5893c",
   "metadata": {},
   "outputs": [
    {
     "data": {
      "text/plain": [
       "array([[9, 5]])"
      ]
     },
     "execution_count": 46,
     "metadata": {},
     "output_type": "execute_result"
    }
   ],
   "source": [
    "brr[1:2,3:5]"
   ]
  },
  {
   "cell_type": "code",
   "execution_count": 47,
   "id": "ab2377cf",
   "metadata": {},
   "outputs": [
    {
     "data": {
      "text/plain": [
       "array([[8, 9, 5],\n",
       "       [8, 2, 5]])"
      ]
     },
     "execution_count": 47,
     "metadata": {},
     "output_type": "execute_result"
    }
   ],
   "source": [
    "brr[1:,2:5]"
   ]
  },
  {
   "cell_type": "code",
   "execution_count": 48,
   "id": "ac9788d3",
   "metadata": {},
   "outputs": [
    {
     "data": {
      "text/plain": [
       "array([[3, 7, 5, 3, 8, 9],\n",
       "       [2, 6, 8, 9, 5, 3],\n",
       "       [4, 7, 8, 2, 5, 9]])"
      ]
     },
     "execution_count": 48,
     "metadata": {},
     "output_type": "execute_result"
    }
   ],
   "source": [
    "brr[:,:]"
   ]
  },
  {
   "cell_type": "code",
   "execution_count": 50,
   "id": "bd99e2ec",
   "metadata": {},
   "outputs": [
    {
     "name": "stdout",
     "output_type": "stream",
     "text": [
      "[0 1 2 3 4 5 6 7 8 9]\n"
     ]
    }
   ],
   "source": [
    "arr=bri.arange(0,10)\n",
    "print(arr)"
   ]
  },
  {
   "cell_type": "code",
   "execution_count": 52,
   "id": "5510be23",
   "metadata": {},
   "outputs": [
    {
     "data": {
      "text/plain": [
       "array([0, 2, 4, 6, 8])"
      ]
     },
     "execution_count": 52,
     "metadata": {},
     "output_type": "execute_result"
    }
   ],
   "source": [
    "arr=bri.arange(0,10,step=2)\n",
    "arr"
   ]
  },
  {
   "cell_type": "code",
   "execution_count": 53,
   "id": "9f74ab32",
   "metadata": {},
   "outputs": [
    {
     "data": {
      "text/plain": [
       "array([ 1.        ,  1.18367347,  1.36734694,  1.55102041,  1.73469388,\n",
       "        1.91836735,  2.10204082,  2.28571429,  2.46938776,  2.65306122,\n",
       "        2.83673469,  3.02040816,  3.20408163,  3.3877551 ,  3.57142857,\n",
       "        3.75510204,  3.93877551,  4.12244898,  4.30612245,  4.48979592,\n",
       "        4.67346939,  4.85714286,  5.04081633,  5.2244898 ,  5.40816327,\n",
       "        5.59183673,  5.7755102 ,  5.95918367,  6.14285714,  6.32653061,\n",
       "        6.51020408,  6.69387755,  6.87755102,  7.06122449,  7.24489796,\n",
       "        7.42857143,  7.6122449 ,  7.79591837,  7.97959184,  8.16326531,\n",
       "        8.34693878,  8.53061224,  8.71428571,  8.89795918,  9.08163265,\n",
       "        9.26530612,  9.44897959,  9.63265306,  9.81632653, 10.        ])"
      ]
     },
     "execution_count": 53,
     "metadata": {},
     "output_type": "execute_result"
    }
   ],
   "source": [
    "bri.linspace (1,10,50)"
   ]
  },
  {
   "cell_type": "code",
   "execution_count": 54,
   "id": "93de5740",
   "metadata": {},
   "outputs": [
    {
     "data": {
      "text/plain": [
       "array([  0,   2,   4, 100, 100])"
      ]
     },
     "execution_count": 54,
     "metadata": {},
     "output_type": "execute_result"
    }
   ],
   "source": [
    "#copy() function and broadcasting\n",
    "\n",
    "arr[3:]=100\n",
    "arr"
   ]
  },
  {
   "cell_type": "code",
   "execution_count": 55,
   "id": "cf8ad44d",
   "metadata": {},
   "outputs": [],
   "source": [
    "arr1=arr"
   ]
  },
  {
   "cell_type": "code",
   "execution_count": 56,
   "id": "a7a68591",
   "metadata": {},
   "outputs": [
    {
     "data": {
      "text/plain": [
       "array([  0,   2,   4, 500, 500])"
      ]
     },
     "execution_count": 56,
     "metadata": {},
     "output_type": "execute_result"
    }
   ],
   "source": [
    "arr1[3:]=500\n",
    "arr1"
   ]
  },
  {
   "cell_type": "code",
   "execution_count": 57,
   "id": "35b663b4",
   "metadata": {},
   "outputs": [],
   "source": [
    "arr1=arr.copy()"
   ]
  },
  {
   "cell_type": "code",
   "execution_count": 58,
   "id": "23adf9ee",
   "metadata": {},
   "outputs": [
    {
     "name": "stdout",
     "output_type": "stream",
     "text": [
      "[  0   2   4 500 500]\n"
     ]
    },
    {
     "data": {
      "text/plain": [
       "array([   0,    2,    4, 1000, 1000])"
      ]
     },
     "execution_count": 58,
     "metadata": {},
     "output_type": "execute_result"
    }
   ],
   "source": [
    "print(arr)\n",
    "arr1[3:]=1000\n",
    "arr1"
   ]
  },
  {
   "cell_type": "code",
   "execution_count": 65,
   "id": "b1310d3e",
   "metadata": {},
   "outputs": [
    {
     "name": "stdout",
     "output_type": "stream",
     "text": [
      "[ True False False False False]\n",
      "[  0.   1.   2. 250. 250.]\n",
      "[0 2]\n"
     ]
    }
   ],
   "source": [
    "# Some conditions very useful in exploratory data Analysis\n",
    "val=2\n",
    "print(arr<2)\n",
    "print(arr/2)\n",
    "print(arr[arr<=2])   #for to know kaun sa element 2 se less h or equal h "
   ]
  },
  {
   "cell_type": "code",
   "execution_count": 61,
   "id": "0a3b0344",
   "metadata": {},
   "outputs": [
    {
     "data": {
      "text/plain": [
       "array([[ 0,  1],\n",
       "       [ 2,  3],\n",
       "       [ 4,  5],\n",
       "       [ 6,  7],\n",
       "       [ 8,  9],\n",
       "       [10, 11],\n",
       "       [12, 13],\n",
       "       [14, 15],\n",
       "       [16, 17],\n",
       "       [18, 19]])"
      ]
     },
     "execution_count": 61,
     "metadata": {},
     "output_type": "execute_result"
    }
   ],
   "source": [
    "# Create arrays and reshape\n",
    "\n",
    "bri.arange(0,20).reshape(10,2)"
   ]
  },
  {
   "cell_type": "code",
   "execution_count": 67,
   "id": "53f1568b",
   "metadata": {},
   "outputs": [
    {
     "data": {
      "text/plain": [
       "array([[ 0,  1,  4,  9, 16],\n",
       "       [25, 36, 49, 64, 81]])"
      ]
     },
     "execution_count": 67,
     "metadata": {},
     "output_type": "execute_result"
    }
   ],
   "source": [
    "arr1=bri.arange(0,10).reshape(2,5)\n",
    "arr2=bri.arange(0,10).reshape(2,5)\n",
    "arr1*arr2"
   ]
  },
  {
   "cell_type": "code",
   "execution_count": 68,
   "id": "549c8845",
   "metadata": {},
   "outputs": [
    {
     "data": {
      "text/plain": [
       "array([1., 1., 1., 1.])"
      ]
     },
     "execution_count": 68,
     "metadata": {},
     "output_type": "execute_result"
    }
   ],
   "source": [
    "bri.ones(4)"
   ]
  },
  {
   "cell_type": "code",
   "execution_count": 69,
   "id": "36b4b9e1",
   "metadata": {},
   "outputs": [
    {
     "data": {
      "text/plain": [
       "array([1, 1, 1, 1])"
      ]
     },
     "execution_count": 69,
     "metadata": {},
     "output_type": "execute_result"
    }
   ],
   "source": [
    "bri.ones(4,dtype=int)"
   ]
  },
  {
   "cell_type": "code",
   "execution_count": 70,
   "id": "5825dd30",
   "metadata": {},
   "outputs": [
    {
     "data": {
      "text/plain": [
       "array([1., 1., 1., 1.])"
      ]
     },
     "execution_count": 70,
     "metadata": {},
     "output_type": "execute_result"
    }
   ],
   "source": [
    "bri.ones(4,dtype=float)"
   ]
  },
  {
   "cell_type": "code",
   "execution_count": 72,
   "id": "1dfa20b1",
   "metadata": {},
   "outputs": [
    {
     "data": {
      "text/plain": [
       "array([[1, 1, 1, 1, 1],\n",
       "       [1, 1, 1, 1, 1]])"
      ]
     },
     "execution_count": 72,
     "metadata": {},
     "output_type": "execute_result"
    }
   ],
   "source": [
    "bri.ones((2,5),dtype=int)# 2D array"
   ]
  },
  {
   "cell_type": "code",
   "execution_count": 71,
   "id": "67e4c3ca",
   "metadata": {},
   "outputs": [
    {
     "data": {
      "text/plain": [
       "array([[0.70299516, 0.07598583, 0.43911221, 0.61519889],\n",
       "       [0.29098865, 0.33330542, 0.9381977 , 0.58238492],\n",
       "       [0.26999719, 0.43167631, 0.69605005, 0.2471945 ],\n",
       "       [0.75074941, 0.57310488, 0.20899654, 0.23467747]])"
      ]
     },
     "execution_count": 71,
     "metadata": {},
     "output_type": "execute_result"
    }
   ],
   "source": [
    "##random distribution\n",
    "\n",
    "bri.random.rand(4,4)"
   ]
  },
  {
   "cell_type": "code",
   "execution_count": 75,
   "id": "37d4014a",
   "metadata": {},
   "outputs": [
    {
     "data": {
      "text/plain": [
       "array([[3, 8, 6, 4],\n",
       "       [7, 8, 8, 3]])"
      ]
     },
     "execution_count": 75,
     "metadata": {},
     "output_type": "execute_result"
    }
   ],
   "source": [
    "bri.random.randint(0,10,8).reshape(2,4)"
   ]
  },
  {
   "cell_type": "code",
   "execution_count": 76,
   "id": "3d16cb84",
   "metadata": {},
   "outputs": [
    {
     "data": {
      "text/plain": [
       "array([[0.78229268, 0.96446458, 0.02452124, 0.15565006, 0.94700769]])"
      ]
     },
     "execution_count": 76,
     "metadata": {},
     "output_type": "execute_result"
    }
   ],
   "source": [
    "bri.random.random_sample((1,5))"
   ]
  },
  {
   "cell_type": "markdown",
   "id": "44f082c2",
   "metadata": {},
   "source": [
    "# Pandas"
   ]
  },
  {
   "cell_type": "markdown",
   "id": "83782109",
   "metadata": {},
   "source": [
    "Pandas is an open source, BSD-licensed library providing high-performance, easy-to-use data structures and data analysis tools for the python programming language.\n",
    "\n",
    "\n",
    "\n",
    "Agenda \n",
    "\n",
    "\n",
    "  .What is Data frames?\n",
    "  .What is data Series?\n",
    "  .Different operation in pandas\n",
    "  \n",
    "  \n",
    "  in R programming lan index start from 1 \n",
    "  nd in python programming lan index start from 0"
   ]
  },
  {
   "cell_type": "code",
   "execution_count": 29,
   "id": "8345f552",
   "metadata": {},
   "outputs": [],
   "source": [
    "# import pandas ,,,,both ar important for EDA\n",
    "import pandas as ku\n",
    "import numpy as bri"
   ]
  },
  {
   "cell_type": "code",
   "execution_count": 10,
   "id": "83f2d4c3",
   "metadata": {},
   "outputs": [
    {
     "data": {
      "text/html": [
       "<div>\n",
       "<style scoped>\n",
       "    .dataframe tbody tr th:only-of-type {\n",
       "        vertical-align: middle;\n",
       "    }\n",
       "\n",
       "    .dataframe tbody tr th {\n",
       "        vertical-align: top;\n",
       "    }\n",
       "\n",
       "    .dataframe thead th {\n",
       "        text-align: right;\n",
       "    }\n",
       "</style>\n",
       "<table border=\"1\" class=\"dataframe\">\n",
       "  <thead>\n",
       "    <tr style=\"text-align: right;\">\n",
       "      <th></th>\n",
       "      <th>column1</th>\n",
       "      <th>column2</th>\n",
       "      <th>column3</th>\n",
       "      <th>column4</th>\n",
       "    </tr>\n",
       "  </thead>\n",
       "  <tbody>\n",
       "    <tr>\n",
       "      <th>row1</th>\n",
       "      <td>0</td>\n",
       "      <td>1</td>\n",
       "      <td>2</td>\n",
       "      <td>3</td>\n",
       "    </tr>\n",
       "    <tr>\n",
       "      <th>row2</th>\n",
       "      <td>4</td>\n",
       "      <td>5</td>\n",
       "      <td>6</td>\n",
       "      <td>7</td>\n",
       "    </tr>\n",
       "    <tr>\n",
       "      <th>row3</th>\n",
       "      <td>8</td>\n",
       "      <td>9</td>\n",
       "      <td>10</td>\n",
       "      <td>11</td>\n",
       "    </tr>\n",
       "    <tr>\n",
       "      <th>row4</th>\n",
       "      <td>12</td>\n",
       "      <td>13</td>\n",
       "      <td>14</td>\n",
       "      <td>15</td>\n",
       "    </tr>\n",
       "    <tr>\n",
       "      <th>row5</th>\n",
       "      <td>16</td>\n",
       "      <td>17</td>\n",
       "      <td>18</td>\n",
       "      <td>19</td>\n",
       "    </tr>\n",
       "  </tbody>\n",
       "</table>\n",
       "</div>"
      ],
      "text/plain": [
       "      column1  column2  column3  column4\n",
       "row1        0        1        2        3\n",
       "row2        4        5        6        7\n",
       "row3        8        9       10       11\n",
       "row4       12       13       14       15\n",
       "row5       16       17       18       19"
      ]
     },
     "execution_count": 10,
     "metadata": {},
     "output_type": "execute_result"
    }
   ],
   "source": [
    "# Dataframe\n",
    "\n",
    "pal=ku.DataFrame(bri.arange(0,20).reshape(5,4),index=[\"row1\",\"row2\",'row3',\"row4\",\"row5\"],columns=[\"column1\",\"column2\",\"column3\",\"column4\"])\n",
    "pal.head()"
   ]
  },
  {
   "cell_type": "code",
   "execution_count": 12,
   "id": "ce404507",
   "metadata": {},
   "outputs": [],
   "source": [
    "pal.to_csv('Test1.csv') #to chnage in CSV format"
   ]
  },
  {
   "cell_type": "code",
   "execution_count": 11,
   "id": "4cf3c86b",
   "metadata": {},
   "outputs": [
    {
     "name": "stdout",
     "output_type": "stream",
     "text": [
      "column1    0\n",
      "column2    1\n",
      "column3    2\n",
      "column4    3\n",
      "Name: row1, dtype: int32\n",
      "<class 'pandas.core.series.Series'>\n"
     ]
    }
   ],
   "source": [
    "# acccessing the elements\n",
    "# 1) .loc=focusing on only row indexes (data series)\n",
    "# 2) iloc=focusing on both row and column(data frame)\n",
    "\n",
    "print(pal.loc['row1'])\n",
    "print(type(pal.loc[\"row1\"])) #type=Data Series"
   ]
  },
  {
   "cell_type": "code",
   "execution_count": 13,
   "id": "74d8f932",
   "metadata": {},
   "outputs": [
    {
     "name": "stdout",
     "output_type": "stream",
     "text": [
      "      column1  column2\n",
      "row1        0        1\n",
      "row2        4        5\n",
      "row3        8        9\n",
      "<class 'pandas.core.frame.DataFrame'>\n"
     ]
    }
   ],
   "source": [
    "print(pal.iloc[0:3,0:2])\n",
    "print(type(pal.iloc[0:2,0:2]))# type=Dataframe"
   ]
  },
  {
   "cell_type": "code",
   "execution_count": 14,
   "id": "dbd4a94d",
   "metadata": {},
   "outputs": [
    {
     "data": {
      "text/plain": [
       "array([[ 1,  2,  3],\n",
       "       [ 5,  6,  7],\n",
       "       [ 9, 10, 11],\n",
       "       [13, 14, 15],\n",
       "       [17, 18, 19]])"
      ]
     },
     "execution_count": 14,
     "metadata": {},
     "output_type": "execute_result"
    }
   ],
   "source": [
    "# convert Dataframes into array\n",
    "\n",
    "pal.iloc[:,1:].values"
   ]
  },
  {
   "cell_type": "code",
   "execution_count": 8,
   "id": "7b23169f",
   "metadata": {},
   "outputs": [
    {
     "data": {
      "text/plain": [
       "(5, 3)"
      ]
     },
     "execution_count": 8,
     "metadata": {},
     "output_type": "execute_result"
    }
   ],
   "source": [
    "pal.iloc[:,1:].values.shape"
   ]
  },
  {
   "cell_type": "code",
   "execution_count": 15,
   "id": "94647c55",
   "metadata": {},
   "outputs": [
    {
     "data": {
      "text/plain": [
       "column1    0\n",
       "column2    0\n",
       "column3    0\n",
       "column4    0\n",
       "dtype: int64"
      ]
     },
     "execution_count": 15,
     "metadata": {},
     "output_type": "execute_result"
    }
   ],
   "source": [
    "# How to check the Null Condition\n",
    "\n",
    "pal.isnull().sum()"
   ]
  },
  {
   "cell_type": "code",
   "execution_count": 10,
   "id": "054e27e7",
   "metadata": {},
   "outputs": [
    {
     "data": {
      "text/html": [
       "<div>\n",
       "<style scoped>\n",
       "    .dataframe tbody tr th:only-of-type {\n",
       "        vertical-align: middle;\n",
       "    }\n",
       "\n",
       "    .dataframe tbody tr th {\n",
       "        vertical-align: top;\n",
       "    }\n",
       "\n",
       "    .dataframe thead th {\n",
       "        text-align: right;\n",
       "    }\n",
       "</style>\n",
       "<table border=\"1\" class=\"dataframe\">\n",
       "  <thead>\n",
       "    <tr style=\"text-align: right;\">\n",
       "      <th></th>\n",
       "      <th>column1</th>\n",
       "      <th>column2</th>\n",
       "      <th>column3</th>\n",
       "      <th>column4</th>\n",
       "    </tr>\n",
       "  </thead>\n",
       "  <tbody>\n",
       "    <tr>\n",
       "      <th>row1</th>\n",
       "      <td>0</td>\n",
       "      <td>1</td>\n",
       "      <td>2</td>\n",
       "      <td>3</td>\n",
       "    </tr>\n",
       "    <tr>\n",
       "      <th>row2</th>\n",
       "      <td>4</td>\n",
       "      <td>5</td>\n",
       "      <td>6</td>\n",
       "      <td>7</td>\n",
       "    </tr>\n",
       "    <tr>\n",
       "      <th>row3</th>\n",
       "      <td>8</td>\n",
       "      <td>9</td>\n",
       "      <td>10</td>\n",
       "      <td>11</td>\n",
       "    </tr>\n",
       "    <tr>\n",
       "      <th>row4</th>\n",
       "      <td>12</td>\n",
       "      <td>13</td>\n",
       "      <td>14</td>\n",
       "      <td>15</td>\n",
       "    </tr>\n",
       "    <tr>\n",
       "      <th>row5</th>\n",
       "      <td>16</td>\n",
       "      <td>17</td>\n",
       "      <td>18</td>\n",
       "      <td>19</td>\n",
       "    </tr>\n",
       "  </tbody>\n",
       "</table>\n",
       "</div>"
      ],
      "text/plain": [
       "      column1  column2  column3  column4\n",
       "row1        0        1        2        3\n",
       "row2        4        5        6        7\n",
       "row3        8        9       10       11\n",
       "row4       12       13       14       15\n",
       "row5       16       17       18       19"
      ]
     },
     "execution_count": 10,
     "metadata": {},
     "output_type": "execute_result"
    }
   ],
   "source": [
    "pal"
   ]
  },
  {
   "cell_type": "code",
   "execution_count": 14,
   "id": "822edc20",
   "metadata": {},
   "outputs": [
    {
     "data": {
      "text/plain": [
       "row1     0\n",
       "row2     4\n",
       "row3     8\n",
       "row4    12\n",
       "row5    16\n",
       "Name: column1, dtype: int32"
      ]
     },
     "execution_count": 14,
     "metadata": {},
     "output_type": "execute_result"
    }
   ],
   "source": [
    "pal[\"column1\"] #one column print"
   ]
  },
  {
   "cell_type": "code",
   "execution_count": 15,
   "id": "a5bf2e0b",
   "metadata": {},
   "outputs": [
    {
     "data": {
      "text/html": [
       "<div>\n",
       "<style scoped>\n",
       "    .dataframe tbody tr th:only-of-type {\n",
       "        vertical-align: middle;\n",
       "    }\n",
       "\n",
       "    .dataframe tbody tr th {\n",
       "        vertical-align: top;\n",
       "    }\n",
       "\n",
       "    .dataframe thead th {\n",
       "        text-align: right;\n",
       "    }\n",
       "</style>\n",
       "<table border=\"1\" class=\"dataframe\">\n",
       "  <thead>\n",
       "    <tr style=\"text-align: right;\">\n",
       "      <th></th>\n",
       "      <th>column1</th>\n",
       "      <th>column3</th>\n",
       "    </tr>\n",
       "  </thead>\n",
       "  <tbody>\n",
       "    <tr>\n",
       "      <th>row1</th>\n",
       "      <td>0</td>\n",
       "      <td>2</td>\n",
       "    </tr>\n",
       "    <tr>\n",
       "      <th>row2</th>\n",
       "      <td>4</td>\n",
       "      <td>6</td>\n",
       "    </tr>\n",
       "    <tr>\n",
       "      <th>row3</th>\n",
       "      <td>8</td>\n",
       "      <td>10</td>\n",
       "    </tr>\n",
       "    <tr>\n",
       "      <th>row4</th>\n",
       "      <td>12</td>\n",
       "      <td>14</td>\n",
       "    </tr>\n",
       "    <tr>\n",
       "      <th>row5</th>\n",
       "      <td>16</td>\n",
       "      <td>18</td>\n",
       "    </tr>\n",
       "  </tbody>\n",
       "</table>\n",
       "</div>"
      ],
      "text/plain": [
       "      column1  column3\n",
       "row1        0        2\n",
       "row2        4        6\n",
       "row3        8       10\n",
       "row4       12       14\n",
       "row5       16       18"
      ]
     },
     "execution_count": 15,
     "metadata": {},
     "output_type": "execute_result"
    }
   ],
   "source": [
    "pal[[\"column1\",\"column3\"]] # two column print"
   ]
  },
  {
   "cell_type": "code",
   "execution_count": 11,
   "id": "31c9860b",
   "metadata": {},
   "outputs": [
    {
     "data": {
      "text/plain": [
       "column1  column2  column3  column4\n",
       "0        1        2        3          1\n",
       "4        5        6        7          1\n",
       "8        9        10       11         1\n",
       "12       13       14       15         1\n",
       "16       17       18       19         1\n",
       "Name: count, dtype: int64"
      ]
     },
     "execution_count": 11,
     "metadata": {},
     "output_type": "execute_result"
    }
   ],
   "source": [
    "pal.value_counts()"
   ]
  },
  {
   "cell_type": "code",
   "execution_count": 12,
   "id": "95149a72",
   "metadata": {},
   "outputs": [
    {
     "data": {
      "text/plain": [
       "column1\n",
       "0     1\n",
       "4     1\n",
       "8     1\n",
       "12    1\n",
       "16    1\n",
       "Name: count, dtype: int64"
      ]
     },
     "execution_count": 12,
     "metadata": {},
     "output_type": "execute_result"
    }
   ],
   "source": [
    "pal[\"column1\"].value_counts()"
   ]
  },
  {
   "cell_type": "code",
   "execution_count": 13,
   "id": "f711d719",
   "metadata": {},
   "outputs": [
    {
     "data": {
      "text/plain": [
       "array([ 0,  4,  8, 12, 16])"
      ]
     },
     "execution_count": 13,
     "metadata": {},
     "output_type": "execute_result"
    }
   ],
   "source": [
    "pal[\"column1\"].unique()"
   ]
  },
  {
   "cell_type": "code",
   "execution_count": 25,
   "id": "0f8be7bf",
   "metadata": {
    "scrolled": true
   },
   "outputs": [
    {
     "data": {
      "text/html": [
       "<div>\n",
       "<style scoped>\n",
       "    .dataframe tbody tr th:only-of-type {\n",
       "        vertical-align: middle;\n",
       "    }\n",
       "\n",
       "    .dataframe tbody tr th {\n",
       "        vertical-align: top;\n",
       "    }\n",
       "\n",
       "    .dataframe thead th {\n",
       "        text-align: right;\n",
       "    }\n",
       "</style>\n",
       "<table border=\"1\" class=\"dataframe\">\n",
       "  <thead>\n",
       "    <tr style=\"text-align: right;\">\n",
       "      <th></th>\n",
       "      <th>age</th>\n",
       "      <th>sex</th>\n",
       "      <th>cp</th>\n",
       "      <th>trestbps</th>\n",
       "      <th>chol</th>\n",
       "      <th>fbs</th>\n",
       "      <th>restecg</th>\n",
       "      <th>thalach</th>\n",
       "      <th>exang</th>\n",
       "      <th>oldpeak</th>\n",
       "      <th>slope</th>\n",
       "      <th>ca</th>\n",
       "      <th>thal</th>\n",
       "      <th>target</th>\n",
       "    </tr>\n",
       "  </thead>\n",
       "  <tbody>\n",
       "    <tr>\n",
       "      <th>0</th>\n",
       "      <td>52</td>\n",
       "      <td>1</td>\n",
       "      <td>0</td>\n",
       "      <td>125</td>\n",
       "      <td>212</td>\n",
       "      <td>0</td>\n",
       "      <td>1</td>\n",
       "      <td>168</td>\n",
       "      <td>0</td>\n",
       "      <td>1.0</td>\n",
       "      <td>2</td>\n",
       "      <td>2</td>\n",
       "      <td>3</td>\n",
       "      <td>0</td>\n",
       "    </tr>\n",
       "    <tr>\n",
       "      <th>1</th>\n",
       "      <td>53</td>\n",
       "      <td>1</td>\n",
       "      <td>0</td>\n",
       "      <td>140</td>\n",
       "      <td>203</td>\n",
       "      <td>1</td>\n",
       "      <td>0</td>\n",
       "      <td>155</td>\n",
       "      <td>1</td>\n",
       "      <td>3.1</td>\n",
       "      <td>0</td>\n",
       "      <td>0</td>\n",
       "      <td>3</td>\n",
       "      <td>0</td>\n",
       "    </tr>\n",
       "    <tr>\n",
       "      <th>2</th>\n",
       "      <td>70</td>\n",
       "      <td>1</td>\n",
       "      <td>0</td>\n",
       "      <td>145</td>\n",
       "      <td>174</td>\n",
       "      <td>0</td>\n",
       "      <td>1</td>\n",
       "      <td>125</td>\n",
       "      <td>1</td>\n",
       "      <td>2.6</td>\n",
       "      <td>0</td>\n",
       "      <td>0</td>\n",
       "      <td>3</td>\n",
       "      <td>0</td>\n",
       "    </tr>\n",
       "    <tr>\n",
       "      <th>3</th>\n",
       "      <td>61</td>\n",
       "      <td>1</td>\n",
       "      <td>0</td>\n",
       "      <td>148</td>\n",
       "      <td>203</td>\n",
       "      <td>0</td>\n",
       "      <td>1</td>\n",
       "      <td>161</td>\n",
       "      <td>0</td>\n",
       "      <td>0.0</td>\n",
       "      <td>2</td>\n",
       "      <td>1</td>\n",
       "      <td>3</td>\n",
       "      <td>0</td>\n",
       "    </tr>\n",
       "    <tr>\n",
       "      <th>4</th>\n",
       "      <td>62</td>\n",
       "      <td>0</td>\n",
       "      <td>0</td>\n",
       "      <td>138</td>\n",
       "      <td>294</td>\n",
       "      <td>1</td>\n",
       "      <td>1</td>\n",
       "      <td>106</td>\n",
       "      <td>0</td>\n",
       "      <td>1.9</td>\n",
       "      <td>1</td>\n",
       "      <td>3</td>\n",
       "      <td>2</td>\n",
       "      <td>0</td>\n",
       "    </tr>\n",
       "    <tr>\n",
       "      <th>...</th>\n",
       "      <td>...</td>\n",
       "      <td>...</td>\n",
       "      <td>...</td>\n",
       "      <td>...</td>\n",
       "      <td>...</td>\n",
       "      <td>...</td>\n",
       "      <td>...</td>\n",
       "      <td>...</td>\n",
       "      <td>...</td>\n",
       "      <td>...</td>\n",
       "      <td>...</td>\n",
       "      <td>...</td>\n",
       "      <td>...</td>\n",
       "      <td>...</td>\n",
       "    </tr>\n",
       "    <tr>\n",
       "      <th>1020</th>\n",
       "      <td>59</td>\n",
       "      <td>1</td>\n",
       "      <td>1</td>\n",
       "      <td>140</td>\n",
       "      <td>221</td>\n",
       "      <td>0</td>\n",
       "      <td>1</td>\n",
       "      <td>164</td>\n",
       "      <td>1</td>\n",
       "      <td>0.0</td>\n",
       "      <td>2</td>\n",
       "      <td>0</td>\n",
       "      <td>2</td>\n",
       "      <td>1</td>\n",
       "    </tr>\n",
       "    <tr>\n",
       "      <th>1021</th>\n",
       "      <td>60</td>\n",
       "      <td>1</td>\n",
       "      <td>0</td>\n",
       "      <td>125</td>\n",
       "      <td>258</td>\n",
       "      <td>0</td>\n",
       "      <td>0</td>\n",
       "      <td>141</td>\n",
       "      <td>1</td>\n",
       "      <td>2.8</td>\n",
       "      <td>1</td>\n",
       "      <td>1</td>\n",
       "      <td>3</td>\n",
       "      <td>0</td>\n",
       "    </tr>\n",
       "    <tr>\n",
       "      <th>1022</th>\n",
       "      <td>47</td>\n",
       "      <td>1</td>\n",
       "      <td>0</td>\n",
       "      <td>110</td>\n",
       "      <td>275</td>\n",
       "      <td>0</td>\n",
       "      <td>0</td>\n",
       "      <td>118</td>\n",
       "      <td>1</td>\n",
       "      <td>1.0</td>\n",
       "      <td>1</td>\n",
       "      <td>1</td>\n",
       "      <td>2</td>\n",
       "      <td>0</td>\n",
       "    </tr>\n",
       "    <tr>\n",
       "      <th>1023</th>\n",
       "      <td>50</td>\n",
       "      <td>0</td>\n",
       "      <td>0</td>\n",
       "      <td>110</td>\n",
       "      <td>254</td>\n",
       "      <td>0</td>\n",
       "      <td>0</td>\n",
       "      <td>159</td>\n",
       "      <td>0</td>\n",
       "      <td>0.0</td>\n",
       "      <td>2</td>\n",
       "      <td>0</td>\n",
       "      <td>2</td>\n",
       "      <td>1</td>\n",
       "    </tr>\n",
       "    <tr>\n",
       "      <th>1024</th>\n",
       "      <td>54</td>\n",
       "      <td>1</td>\n",
       "      <td>0</td>\n",
       "      <td>120</td>\n",
       "      <td>188</td>\n",
       "      <td>0</td>\n",
       "      <td>1</td>\n",
       "      <td>113</td>\n",
       "      <td>0</td>\n",
       "      <td>1.4</td>\n",
       "      <td>1</td>\n",
       "      <td>1</td>\n",
       "      <td>3</td>\n",
       "      <td>0</td>\n",
       "    </tr>\n",
       "  </tbody>\n",
       "</table>\n",
       "<p>1025 rows × 14 columns</p>\n",
       "</div>"
      ],
      "text/plain": [
       "      age  sex  cp  trestbps  chol  fbs  restecg  thalach  exang  oldpeak  \\\n",
       "0      52    1   0       125   212    0        1      168      0      1.0   \n",
       "1      53    1   0       140   203    1        0      155      1      3.1   \n",
       "2      70    1   0       145   174    0        1      125      1      2.6   \n",
       "3      61    1   0       148   203    0        1      161      0      0.0   \n",
       "4      62    0   0       138   294    1        1      106      0      1.9   \n",
       "...   ...  ...  ..       ...   ...  ...      ...      ...    ...      ...   \n",
       "1020   59    1   1       140   221    0        1      164      1      0.0   \n",
       "1021   60    1   0       125   258    0        0      141      1      2.8   \n",
       "1022   47    1   0       110   275    0        0      118      1      1.0   \n",
       "1023   50    0   0       110   254    0        0      159      0      0.0   \n",
       "1024   54    1   0       120   188    0        1      113      0      1.4   \n",
       "\n",
       "      slope  ca  thal  target  \n",
       "0         2   2     3       0  \n",
       "1         0   0     3       0  \n",
       "2         0   0     3       0  \n",
       "3         2   1     3       0  \n",
       "4         1   3     2       0  \n",
       "...     ...  ..   ...     ...  \n",
       "1020      2   0     2       1  \n",
       "1021      1   1     3       0  \n",
       "1022      1   1     2       0  \n",
       "1023      2   0     2       1  \n",
       "1024      1   1     3       0  \n",
       "\n",
       "[1025 rows x 14 columns]"
      ]
     },
     "execution_count": 25,
     "metadata": {},
     "output_type": "execute_result"
    }
   ],
   "source": [
    "a=ku.read_csv(\"D:/Python/heart.csv\")\n",
    "a"
   ]
  },
  {
   "cell_type": "code",
   "execution_count": null,
   "id": "3df5b65a",
   "metadata": {},
   "outputs": [],
   "source": [
    "#b=ku.read_csv('test.csv',sep=';')"
   ]
  },
  {
   "cell_type": "code",
   "execution_count": 17,
   "id": "09e578cc",
   "metadata": {
    "scrolled": true
   },
   "outputs": [
    {
     "name": "stdout",
     "output_type": "stream",
     "text": [
      "<class 'pandas.core.frame.DataFrame'>\n",
      "RangeIndex: 1025 entries, 0 to 1024\n",
      "Data columns (total 14 columns):\n",
      " #   Column    Non-Null Count  Dtype  \n",
      "---  ------    --------------  -----  \n",
      " 0   age       1025 non-null   int64  \n",
      " 1   sex       1025 non-null   int64  \n",
      " 2   cp        1025 non-null   int64  \n",
      " 3   trestbps  1025 non-null   int64  \n",
      " 4   chol      1025 non-null   int64  \n",
      " 5   fbs       1025 non-null   int64  \n",
      " 6   restecg   1025 non-null   int64  \n",
      " 7   thalach   1025 non-null   int64  \n",
      " 8   exang     1025 non-null   int64  \n",
      " 9   oldpeak   1025 non-null   float64\n",
      " 10  slope     1025 non-null   int64  \n",
      " 11  ca        1025 non-null   int64  \n",
      " 12  thal      1025 non-null   int64  \n",
      " 13  target    1025 non-null   int64  \n",
      "dtypes: float64(1), int64(13)\n",
      "memory usage: 112.2 KB\n"
     ]
    }
   ],
   "source": [
    "a.info()"
   ]
  },
  {
   "cell_type": "code",
   "execution_count": 18,
   "id": "8bd8f6fd",
   "metadata": {},
   "outputs": [
    {
     "data": {
      "text/html": [
       "<div>\n",
       "<style scoped>\n",
       "    .dataframe tbody tr th:only-of-type {\n",
       "        vertical-align: middle;\n",
       "    }\n",
       "\n",
       "    .dataframe tbody tr th {\n",
       "        vertical-align: top;\n",
       "    }\n",
       "\n",
       "    .dataframe thead th {\n",
       "        text-align: right;\n",
       "    }\n",
       "</style>\n",
       "<table border=\"1\" class=\"dataframe\">\n",
       "  <thead>\n",
       "    <tr style=\"text-align: right;\">\n",
       "      <th></th>\n",
       "      <th>age</th>\n",
       "      <th>sex</th>\n",
       "      <th>cp</th>\n",
       "      <th>trestbps</th>\n",
       "      <th>chol</th>\n",
       "      <th>fbs</th>\n",
       "      <th>restecg</th>\n",
       "      <th>thalach</th>\n",
       "      <th>exang</th>\n",
       "      <th>oldpeak</th>\n",
       "      <th>slope</th>\n",
       "      <th>ca</th>\n",
       "      <th>thal</th>\n",
       "      <th>target</th>\n",
       "    </tr>\n",
       "  </thead>\n",
       "  <tbody>\n",
       "    <tr>\n",
       "      <th>count</th>\n",
       "      <td>1025.000000</td>\n",
       "      <td>1025.000000</td>\n",
       "      <td>1025.000000</td>\n",
       "      <td>1025.000000</td>\n",
       "      <td>1025.00000</td>\n",
       "      <td>1025.000000</td>\n",
       "      <td>1025.000000</td>\n",
       "      <td>1025.000000</td>\n",
       "      <td>1025.000000</td>\n",
       "      <td>1025.000000</td>\n",
       "      <td>1025.000000</td>\n",
       "      <td>1025.000000</td>\n",
       "      <td>1025.000000</td>\n",
       "      <td>1025.000000</td>\n",
       "    </tr>\n",
       "    <tr>\n",
       "      <th>mean</th>\n",
       "      <td>54.434146</td>\n",
       "      <td>0.695610</td>\n",
       "      <td>0.942439</td>\n",
       "      <td>131.611707</td>\n",
       "      <td>246.00000</td>\n",
       "      <td>0.149268</td>\n",
       "      <td>0.529756</td>\n",
       "      <td>149.114146</td>\n",
       "      <td>0.336585</td>\n",
       "      <td>1.071512</td>\n",
       "      <td>1.385366</td>\n",
       "      <td>0.754146</td>\n",
       "      <td>2.323902</td>\n",
       "      <td>0.513171</td>\n",
       "    </tr>\n",
       "    <tr>\n",
       "      <th>std</th>\n",
       "      <td>9.072290</td>\n",
       "      <td>0.460373</td>\n",
       "      <td>1.029641</td>\n",
       "      <td>17.516718</td>\n",
       "      <td>51.59251</td>\n",
       "      <td>0.356527</td>\n",
       "      <td>0.527878</td>\n",
       "      <td>23.005724</td>\n",
       "      <td>0.472772</td>\n",
       "      <td>1.175053</td>\n",
       "      <td>0.617755</td>\n",
       "      <td>1.030798</td>\n",
       "      <td>0.620660</td>\n",
       "      <td>0.500070</td>\n",
       "    </tr>\n",
       "    <tr>\n",
       "      <th>min</th>\n",
       "      <td>29.000000</td>\n",
       "      <td>0.000000</td>\n",
       "      <td>0.000000</td>\n",
       "      <td>94.000000</td>\n",
       "      <td>126.00000</td>\n",
       "      <td>0.000000</td>\n",
       "      <td>0.000000</td>\n",
       "      <td>71.000000</td>\n",
       "      <td>0.000000</td>\n",
       "      <td>0.000000</td>\n",
       "      <td>0.000000</td>\n",
       "      <td>0.000000</td>\n",
       "      <td>0.000000</td>\n",
       "      <td>0.000000</td>\n",
       "    </tr>\n",
       "    <tr>\n",
       "      <th>25%</th>\n",
       "      <td>48.000000</td>\n",
       "      <td>0.000000</td>\n",
       "      <td>0.000000</td>\n",
       "      <td>120.000000</td>\n",
       "      <td>211.00000</td>\n",
       "      <td>0.000000</td>\n",
       "      <td>0.000000</td>\n",
       "      <td>132.000000</td>\n",
       "      <td>0.000000</td>\n",
       "      <td>0.000000</td>\n",
       "      <td>1.000000</td>\n",
       "      <td>0.000000</td>\n",
       "      <td>2.000000</td>\n",
       "      <td>0.000000</td>\n",
       "    </tr>\n",
       "    <tr>\n",
       "      <th>50%</th>\n",
       "      <td>56.000000</td>\n",
       "      <td>1.000000</td>\n",
       "      <td>1.000000</td>\n",
       "      <td>130.000000</td>\n",
       "      <td>240.00000</td>\n",
       "      <td>0.000000</td>\n",
       "      <td>1.000000</td>\n",
       "      <td>152.000000</td>\n",
       "      <td>0.000000</td>\n",
       "      <td>0.800000</td>\n",
       "      <td>1.000000</td>\n",
       "      <td>0.000000</td>\n",
       "      <td>2.000000</td>\n",
       "      <td>1.000000</td>\n",
       "    </tr>\n",
       "    <tr>\n",
       "      <th>75%</th>\n",
       "      <td>61.000000</td>\n",
       "      <td>1.000000</td>\n",
       "      <td>2.000000</td>\n",
       "      <td>140.000000</td>\n",
       "      <td>275.00000</td>\n",
       "      <td>0.000000</td>\n",
       "      <td>1.000000</td>\n",
       "      <td>166.000000</td>\n",
       "      <td>1.000000</td>\n",
       "      <td>1.800000</td>\n",
       "      <td>2.000000</td>\n",
       "      <td>1.000000</td>\n",
       "      <td>3.000000</td>\n",
       "      <td>1.000000</td>\n",
       "    </tr>\n",
       "    <tr>\n",
       "      <th>max</th>\n",
       "      <td>77.000000</td>\n",
       "      <td>1.000000</td>\n",
       "      <td>3.000000</td>\n",
       "      <td>200.000000</td>\n",
       "      <td>564.00000</td>\n",
       "      <td>1.000000</td>\n",
       "      <td>2.000000</td>\n",
       "      <td>202.000000</td>\n",
       "      <td>1.000000</td>\n",
       "      <td>6.200000</td>\n",
       "      <td>2.000000</td>\n",
       "      <td>4.000000</td>\n",
       "      <td>3.000000</td>\n",
       "      <td>1.000000</td>\n",
       "    </tr>\n",
       "  </tbody>\n",
       "</table>\n",
       "</div>"
      ],
      "text/plain": [
       "               age          sex           cp     trestbps        chol  \\\n",
       "count  1025.000000  1025.000000  1025.000000  1025.000000  1025.00000   \n",
       "mean     54.434146     0.695610     0.942439   131.611707   246.00000   \n",
       "std       9.072290     0.460373     1.029641    17.516718    51.59251   \n",
       "min      29.000000     0.000000     0.000000    94.000000   126.00000   \n",
       "25%      48.000000     0.000000     0.000000   120.000000   211.00000   \n",
       "50%      56.000000     1.000000     1.000000   130.000000   240.00000   \n",
       "75%      61.000000     1.000000     2.000000   140.000000   275.00000   \n",
       "max      77.000000     1.000000     3.000000   200.000000   564.00000   \n",
       "\n",
       "               fbs      restecg      thalach        exang      oldpeak  \\\n",
       "count  1025.000000  1025.000000  1025.000000  1025.000000  1025.000000   \n",
       "mean      0.149268     0.529756   149.114146     0.336585     1.071512   \n",
       "std       0.356527     0.527878    23.005724     0.472772     1.175053   \n",
       "min       0.000000     0.000000    71.000000     0.000000     0.000000   \n",
       "25%       0.000000     0.000000   132.000000     0.000000     0.000000   \n",
       "50%       0.000000     1.000000   152.000000     0.000000     0.800000   \n",
       "75%       0.000000     1.000000   166.000000     1.000000     1.800000   \n",
       "max       1.000000     2.000000   202.000000     1.000000     6.200000   \n",
       "\n",
       "             slope           ca         thal       target  \n",
       "count  1025.000000  1025.000000  1025.000000  1025.000000  \n",
       "mean      1.385366     0.754146     2.323902     0.513171  \n",
       "std       0.617755     1.030798     0.620660     0.500070  \n",
       "min       0.000000     0.000000     0.000000     0.000000  \n",
       "25%       1.000000     0.000000     2.000000     0.000000  \n",
       "50%       1.000000     0.000000     2.000000     1.000000  \n",
       "75%       2.000000     1.000000     3.000000     1.000000  \n",
       "max       2.000000     4.000000     3.000000     1.000000  "
      ]
     },
     "execution_count": 18,
     "metadata": {},
     "output_type": "execute_result"
    }
   ],
   "source": [
    "a.describe()"
   ]
  },
  {
   "cell_type": "code",
   "execution_count": 19,
   "id": "4e1b0453",
   "metadata": {},
   "outputs": [],
   "source": [
    "#csv=comma separated value "
   ]
  },
  {
   "cell_type": "code",
   "execution_count": 20,
   "id": "3a6dd6e3",
   "metadata": {},
   "outputs": [
    {
     "data": {
      "text/plain": [
       "age\n",
       "58    68\n",
       "57    57\n",
       "54    53\n",
       "59    46\n",
       "52    43\n",
       "51    39\n",
       "56    39\n",
       "62    37\n",
       "60    37\n",
       "44    36\n",
       "64    34\n",
       "41    32\n",
       "63    32\n",
       "67    31\n",
       "61    31\n",
       "55    30\n",
       "65    27\n",
       "43    26\n",
       "42    26\n",
       "53    26\n",
       "66    25\n",
       "45    25\n",
       "48    23\n",
       "46    23\n",
       "50    21\n",
       "47    18\n",
       "49    17\n",
       "35    15\n",
       "39    14\n",
       "70    14\n",
       "68    12\n",
       "38    12\n",
       "71    11\n",
       "40    11\n",
       "69     9\n",
       "37     6\n",
       "34     6\n",
       "29     4\n",
       "76     3\n",
       "77     3\n",
       "74     3\n",
       "Name: count, dtype: int64"
      ]
     },
     "execution_count": 20,
     "metadata": {},
     "output_type": "execute_result"
    }
   ],
   "source": [
    "a['age'].value_counts()"
   ]
  },
  {
   "cell_type": "code",
   "execution_count": 22,
   "id": "69ee03a5",
   "metadata": {},
   "outputs": [
    {
     "data": {
      "text/html": [
       "<div>\n",
       "<style scoped>\n",
       "    .dataframe tbody tr th:only-of-type {\n",
       "        vertical-align: middle;\n",
       "    }\n",
       "\n",
       "    .dataframe tbody tr th {\n",
       "        vertical-align: top;\n",
       "    }\n",
       "\n",
       "    .dataframe thead th {\n",
       "        text-align: right;\n",
       "    }\n",
       "</style>\n",
       "<table border=\"1\" class=\"dataframe\">\n",
       "  <thead>\n",
       "    <tr style=\"text-align: right;\">\n",
       "      <th></th>\n",
       "      <th>age</th>\n",
       "      <th>sex</th>\n",
       "      <th>cp</th>\n",
       "      <th>trestbps</th>\n",
       "      <th>chol</th>\n",
       "      <th>fbs</th>\n",
       "      <th>restecg</th>\n",
       "      <th>thalach</th>\n",
       "      <th>exang</th>\n",
       "      <th>oldpeak</th>\n",
       "      <th>slope</th>\n",
       "      <th>ca</th>\n",
       "      <th>thal</th>\n",
       "      <th>target</th>\n",
       "    </tr>\n",
       "  </thead>\n",
       "  <tbody>\n",
       "    <tr>\n",
       "      <th>0</th>\n",
       "      <td>52</td>\n",
       "      <td>1</td>\n",
       "      <td>0</td>\n",
       "      <td>125</td>\n",
       "      <td>212</td>\n",
       "      <td>0</td>\n",
       "      <td>1</td>\n",
       "      <td>168</td>\n",
       "      <td>0</td>\n",
       "      <td>1.0</td>\n",
       "      <td>2</td>\n",
       "      <td>2</td>\n",
       "      <td>3</td>\n",
       "      <td>0</td>\n",
       "    </tr>\n",
       "    <tr>\n",
       "      <th>1</th>\n",
       "      <td>53</td>\n",
       "      <td>1</td>\n",
       "      <td>0</td>\n",
       "      <td>140</td>\n",
       "      <td>203</td>\n",
       "      <td>1</td>\n",
       "      <td>0</td>\n",
       "      <td>155</td>\n",
       "      <td>1</td>\n",
       "      <td>3.1</td>\n",
       "      <td>0</td>\n",
       "      <td>0</td>\n",
       "      <td>3</td>\n",
       "      <td>0</td>\n",
       "    </tr>\n",
       "    <tr>\n",
       "      <th>2</th>\n",
       "      <td>70</td>\n",
       "      <td>1</td>\n",
       "      <td>0</td>\n",
       "      <td>145</td>\n",
       "      <td>174</td>\n",
       "      <td>0</td>\n",
       "      <td>1</td>\n",
       "      <td>125</td>\n",
       "      <td>1</td>\n",
       "      <td>2.6</td>\n",
       "      <td>0</td>\n",
       "      <td>0</td>\n",
       "      <td>3</td>\n",
       "      <td>0</td>\n",
       "    </tr>\n",
       "    <tr>\n",
       "      <th>3</th>\n",
       "      <td>61</td>\n",
       "      <td>1</td>\n",
       "      <td>0</td>\n",
       "      <td>148</td>\n",
       "      <td>203</td>\n",
       "      <td>0</td>\n",
       "      <td>1</td>\n",
       "      <td>161</td>\n",
       "      <td>0</td>\n",
       "      <td>0.0</td>\n",
       "      <td>2</td>\n",
       "      <td>1</td>\n",
       "      <td>3</td>\n",
       "      <td>0</td>\n",
       "    </tr>\n",
       "    <tr>\n",
       "      <th>6</th>\n",
       "      <td>58</td>\n",
       "      <td>1</td>\n",
       "      <td>0</td>\n",
       "      <td>114</td>\n",
       "      <td>318</td>\n",
       "      <td>0</td>\n",
       "      <td>2</td>\n",
       "      <td>140</td>\n",
       "      <td>0</td>\n",
       "      <td>4.4</td>\n",
       "      <td>0</td>\n",
       "      <td>3</td>\n",
       "      <td>1</td>\n",
       "      <td>0</td>\n",
       "    </tr>\n",
       "    <tr>\n",
       "      <th>...</th>\n",
       "      <td>...</td>\n",
       "      <td>...</td>\n",
       "      <td>...</td>\n",
       "      <td>...</td>\n",
       "      <td>...</td>\n",
       "      <td>...</td>\n",
       "      <td>...</td>\n",
       "      <td>...</td>\n",
       "      <td>...</td>\n",
       "      <td>...</td>\n",
       "      <td>...</td>\n",
       "      <td>...</td>\n",
       "      <td>...</td>\n",
       "      <td>...</td>\n",
       "    </tr>\n",
       "    <tr>\n",
       "      <th>1019</th>\n",
       "      <td>47</td>\n",
       "      <td>1</td>\n",
       "      <td>0</td>\n",
       "      <td>112</td>\n",
       "      <td>204</td>\n",
       "      <td>0</td>\n",
       "      <td>1</td>\n",
       "      <td>143</td>\n",
       "      <td>0</td>\n",
       "      <td>0.1</td>\n",
       "      <td>2</td>\n",
       "      <td>0</td>\n",
       "      <td>2</td>\n",
       "      <td>1</td>\n",
       "    </tr>\n",
       "    <tr>\n",
       "      <th>1020</th>\n",
       "      <td>59</td>\n",
       "      <td>1</td>\n",
       "      <td>1</td>\n",
       "      <td>140</td>\n",
       "      <td>221</td>\n",
       "      <td>0</td>\n",
       "      <td>1</td>\n",
       "      <td>164</td>\n",
       "      <td>1</td>\n",
       "      <td>0.0</td>\n",
       "      <td>2</td>\n",
       "      <td>0</td>\n",
       "      <td>2</td>\n",
       "      <td>1</td>\n",
       "    </tr>\n",
       "    <tr>\n",
       "      <th>1021</th>\n",
       "      <td>60</td>\n",
       "      <td>1</td>\n",
       "      <td>0</td>\n",
       "      <td>125</td>\n",
       "      <td>258</td>\n",
       "      <td>0</td>\n",
       "      <td>0</td>\n",
       "      <td>141</td>\n",
       "      <td>1</td>\n",
       "      <td>2.8</td>\n",
       "      <td>1</td>\n",
       "      <td>1</td>\n",
       "      <td>3</td>\n",
       "      <td>0</td>\n",
       "    </tr>\n",
       "    <tr>\n",
       "      <th>1022</th>\n",
       "      <td>47</td>\n",
       "      <td>1</td>\n",
       "      <td>0</td>\n",
       "      <td>110</td>\n",
       "      <td>275</td>\n",
       "      <td>0</td>\n",
       "      <td>0</td>\n",
       "      <td>118</td>\n",
       "      <td>1</td>\n",
       "      <td>1.0</td>\n",
       "      <td>1</td>\n",
       "      <td>1</td>\n",
       "      <td>2</td>\n",
       "      <td>0</td>\n",
       "    </tr>\n",
       "    <tr>\n",
       "      <th>1024</th>\n",
       "      <td>54</td>\n",
       "      <td>1</td>\n",
       "      <td>0</td>\n",
       "      <td>120</td>\n",
       "      <td>188</td>\n",
       "      <td>0</td>\n",
       "      <td>1</td>\n",
       "      <td>113</td>\n",
       "      <td>0</td>\n",
       "      <td>1.4</td>\n",
       "      <td>1</td>\n",
       "      <td>1</td>\n",
       "      <td>3</td>\n",
       "      <td>0</td>\n",
       "    </tr>\n",
       "  </tbody>\n",
       "</table>\n",
       "<p>713 rows × 14 columns</p>\n",
       "</div>"
      ],
      "text/plain": [
       "      age  sex  cp  trestbps  chol  fbs  restecg  thalach  exang  oldpeak  \\\n",
       "0      52    1   0       125   212    0        1      168      0      1.0   \n",
       "1      53    1   0       140   203    1        0      155      1      3.1   \n",
       "2      70    1   0       145   174    0        1      125      1      2.6   \n",
       "3      61    1   0       148   203    0        1      161      0      0.0   \n",
       "6      58    1   0       114   318    0        2      140      0      4.4   \n",
       "...   ...  ...  ..       ...   ...  ...      ...      ...    ...      ...   \n",
       "1019   47    1   0       112   204    0        1      143      0      0.1   \n",
       "1020   59    1   1       140   221    0        1      164      1      0.0   \n",
       "1021   60    1   0       125   258    0        0      141      1      2.8   \n",
       "1022   47    1   0       110   275    0        0      118      1      1.0   \n",
       "1024   54    1   0       120   188    0        1      113      0      1.4   \n",
       "\n",
       "      slope  ca  thal  target  \n",
       "0         2   2     3       0  \n",
       "1         0   0     3       0  \n",
       "2         0   0     3       0  \n",
       "3         2   1     3       0  \n",
       "6         0   3     1       0  \n",
       "...     ...  ..   ...     ...  \n",
       "1019      2   0     2       1  \n",
       "1020      2   0     2       1  \n",
       "1021      1   1     3       0  \n",
       "1022      1   1     2       0  \n",
       "1024      1   1     3       0  \n",
       "\n",
       "[713 rows x 14 columns]"
      ]
     },
     "execution_count": 22,
     "metadata": {},
     "output_type": "execute_result"
    }
   ],
   "source": [
    "a[a['sex']>0.1]"
   ]
  },
  {
   "cell_type": "markdown",
   "id": "99447f58",
   "metadata": {},
   "source": [
    "# CSV"
   ]
  },
  {
   "cell_type": "code",
   "execution_count": 24,
   "id": "9cc505f7",
   "metadata": {},
   "outputs": [],
   "source": [
    "from io import StringIO,BytesIO"
   ]
  },
  {
   "cell_type": "code",
   "execution_count": 26,
   "id": "7bfafee3",
   "metadata": {},
   "outputs": [
    {
     "data": {
      "text/plain": [
       "<_io.StringIO at 0x22a9d51e200>"
      ]
     },
     "execution_count": 26,
     "metadata": {},
     "output_type": "execute_result"
    }
   ],
   "source": [
    "StringIO()\n",
    "\n",
    "#Init signature: StringIO(initial_value='', newline='\\n')\n",
    "#Docstring:     \n",
    "#  StringIO = Text I/O implementation using an in-memory buffer.or convert string into text file"
   ]
  },
  {
   "cell_type": "code",
   "execution_count": 27,
   "id": "9e2ee63c",
   "metadata": {},
   "outputs": [
    {
     "data": {
      "text/plain": [
       "str"
      ]
     },
     "execution_count": 27,
     "metadata": {},
     "output_type": "execute_result"
    }
   ],
   "source": [
    "data=('col1,col2,col3\\n'\n",
    "     'x,y,1\\n'\n",
    "     'a,b,2\\n'\n",
    "     'c,d,3')\n",
    "type(data)"
   ]
  },
  {
   "cell_type": "code",
   "execution_count": 30,
   "id": "6ab54b87",
   "metadata": {},
   "outputs": [
    {
     "data": {
      "text/html": [
       "<div>\n",
       "<style scoped>\n",
       "    .dataframe tbody tr th:only-of-type {\n",
       "        vertical-align: middle;\n",
       "    }\n",
       "\n",
       "    .dataframe tbody tr th {\n",
       "        vertical-align: top;\n",
       "    }\n",
       "\n",
       "    .dataframe thead th {\n",
       "        text-align: right;\n",
       "    }\n",
       "</style>\n",
       "<table border=\"1\" class=\"dataframe\">\n",
       "  <thead>\n",
       "    <tr style=\"text-align: right;\">\n",
       "      <th></th>\n",
       "      <th>col1</th>\n",
       "      <th>col2</th>\n",
       "      <th>col3</th>\n",
       "    </tr>\n",
       "  </thead>\n",
       "  <tbody>\n",
       "    <tr>\n",
       "      <th>0</th>\n",
       "      <td>x</td>\n",
       "      <td>y</td>\n",
       "      <td>1</td>\n",
       "    </tr>\n",
       "    <tr>\n",
       "      <th>1</th>\n",
       "      <td>a</td>\n",
       "      <td>b</td>\n",
       "      <td>2</td>\n",
       "    </tr>\n",
       "    <tr>\n",
       "      <th>2</th>\n",
       "      <td>c</td>\n",
       "      <td>d</td>\n",
       "      <td>3</td>\n",
       "    </tr>\n",
       "  </tbody>\n",
       "</table>\n",
       "</div>"
      ],
      "text/plain": [
       "  col1 col2  col3\n",
       "0    x    y     1\n",
       "1    a    b     2\n",
       "2    c    d     3"
      ]
     },
     "execution_count": 30,
     "metadata": {},
     "output_type": "execute_result"
    }
   ],
   "source": [
    "ku.read_csv(StringIO(data))"
   ]
  },
  {
   "cell_type": "code",
   "execution_count": 32,
   "id": "11f55c00",
   "metadata": {},
   "outputs": [
    {
     "data": {
      "text/html": [
       "<div>\n",
       "<style scoped>\n",
       "    .dataframe tbody tr th:only-of-type {\n",
       "        vertical-align: middle;\n",
       "    }\n",
       "\n",
       "    .dataframe tbody tr th {\n",
       "        vertical-align: top;\n",
       "    }\n",
       "\n",
       "    .dataframe thead th {\n",
       "        text-align: right;\n",
       "    }\n",
       "</style>\n",
       "<table border=\"1\" class=\"dataframe\">\n",
       "  <thead>\n",
       "    <tr style=\"text-align: right;\">\n",
       "      <th></th>\n",
       "      <th>col1</th>\n",
       "      <th>col3</th>\n",
       "    </tr>\n",
       "  </thead>\n",
       "  <tbody>\n",
       "    <tr>\n",
       "      <th>0</th>\n",
       "      <td>x</td>\n",
       "      <td>1</td>\n",
       "    </tr>\n",
       "    <tr>\n",
       "      <th>1</th>\n",
       "      <td>a</td>\n",
       "      <td>2</td>\n",
       "    </tr>\n",
       "    <tr>\n",
       "      <th>2</th>\n",
       "      <td>c</td>\n",
       "      <td>3</td>\n",
       "    </tr>\n",
       "  </tbody>\n",
       "</table>\n",
       "</div>"
      ],
      "text/plain": [
       "  col1  col3\n",
       "0    x     1\n",
       "1    a     2\n",
       "2    c     3"
      ]
     },
     "execution_count": 32,
     "metadata": {},
     "output_type": "execute_result"
    }
   ],
   "source": [
    "# Read from specific columns\n",
    "a=ku.read_csv(StringIO(data),usecols=['col1','col3'])\n",
    "a"
   ]
  },
  {
   "cell_type": "code",
   "execution_count": 33,
   "id": "d669f23c",
   "metadata": {},
   "outputs": [],
   "source": [
    "a.to_csv('Test.csv')"
   ]
  },
  {
   "cell_type": "code",
   "execution_count": 41,
   "id": "bd9d207a",
   "metadata": {},
   "outputs": [
    {
     "name": "stdout",
     "output_type": "stream",
     "text": [
      "a,b,c,d\n",
      "1,2,3,4\n",
      "5,6,7,8\n",
      "9,10,11,12\n"
     ]
    }
   ],
   "source": [
    "# Specifying columns data types\n",
    "\n",
    "data=('a,b,c,d\\n'\n",
    "     '1,2,3,4\\n'\n",
    "     '5,6,7,8\\n'\n",
    "     '9,10,11,12')\n",
    "\n",
    "print(data)"
   ]
  },
  {
   "cell_type": "code",
   "execution_count": 42,
   "id": "769874f7",
   "metadata": {},
   "outputs": [
    {
     "data": {
      "text/html": [
       "<div>\n",
       "<style scoped>\n",
       "    .dataframe tbody tr th:only-of-type {\n",
       "        vertical-align: middle;\n",
       "    }\n",
       "\n",
       "    .dataframe tbody tr th {\n",
       "        vertical-align: top;\n",
       "    }\n",
       "\n",
       "    .dataframe thead th {\n",
       "        text-align: right;\n",
       "    }\n",
       "</style>\n",
       "<table border=\"1\" class=\"dataframe\">\n",
       "  <thead>\n",
       "    <tr style=\"text-align: right;\">\n",
       "      <th></th>\n",
       "      <th>a</th>\n",
       "      <th>b</th>\n",
       "      <th>c</th>\n",
       "      <th>d</th>\n",
       "    </tr>\n",
       "  </thead>\n",
       "  <tbody>\n",
       "    <tr>\n",
       "      <th>0</th>\n",
       "      <td>1</td>\n",
       "      <td>2</td>\n",
       "      <td>3</td>\n",
       "      <td>4</td>\n",
       "    </tr>\n",
       "    <tr>\n",
       "      <th>1</th>\n",
       "      <td>5</td>\n",
       "      <td>6</td>\n",
       "      <td>7</td>\n",
       "      <td>8</td>\n",
       "    </tr>\n",
       "    <tr>\n",
       "      <th>2</th>\n",
       "      <td>9</td>\n",
       "      <td>10</td>\n",
       "      <td>11</td>\n",
       "      <td>12</td>\n",
       "    </tr>\n",
       "  </tbody>\n",
       "</table>\n",
       "</div>"
      ],
      "text/plain": [
       "   a   b   c   d\n",
       "0  1   2   3   4\n",
       "1  5   6   7   8\n",
       "2  9  10  11  12"
      ]
     },
     "execution_count": 42,
     "metadata": {},
     "output_type": "execute_result"
    }
   ],
   "source": [
    "a=ku.read_csv(StringIO(data),dtype=object)\n",
    "a\n",
    "\n",
    "# OBJECT or str= all the data is string\n",
    "# Integer = all the data is integer\n",
    "# Float = all the data is floating"
   ]
  },
  {
   "cell_type": "code",
   "execution_count": 38,
   "id": "849d5410",
   "metadata": {},
   "outputs": [
    {
     "data": {
      "text/plain": [
       "0    1\n",
       "1    5\n",
       "2    9\n",
       "Name: a, dtype: object"
      ]
     },
     "execution_count": 38,
     "metadata": {},
     "output_type": "execute_result"
    }
   ],
   "source": [
    "a['a']\n",
    "\n",
    "#datatype = object or str"
   ]
  },
  {
   "cell_type": "code",
   "execution_count": 40,
   "id": "83e91b08",
   "metadata": {},
   "outputs": [
    {
     "data": {
      "text/plain": [
       "'5'"
      ]
     },
     "execution_count": 40,
     "metadata": {},
     "output_type": "execute_result"
    }
   ],
   "source": [
    "a['a'][1]\n",
    "# gives a string value='5'"
   ]
  },
  {
   "cell_type": "code",
   "execution_count": 44,
   "id": "fec7b4bf",
   "metadata": {},
   "outputs": [
    {
     "data": {
      "text/html": [
       "<div>\n",
       "<style scoped>\n",
       "    .dataframe tbody tr th:only-of-type {\n",
       "        vertical-align: middle;\n",
       "    }\n",
       "\n",
       "    .dataframe tbody tr th {\n",
       "        vertical-align: top;\n",
       "    }\n",
       "\n",
       "    .dataframe thead th {\n",
       "        text-align: right;\n",
       "    }\n",
       "</style>\n",
       "<table border=\"1\" class=\"dataframe\">\n",
       "  <thead>\n",
       "    <tr style=\"text-align: right;\">\n",
       "      <th></th>\n",
       "      <th>a</th>\n",
       "      <th>b</th>\n",
       "      <th>c</th>\n",
       "      <th>d</th>\n",
       "    </tr>\n",
       "  </thead>\n",
       "  <tbody>\n",
       "    <tr>\n",
       "      <th>0</th>\n",
       "      <td>1</td>\n",
       "      <td>2</td>\n",
       "      <td>3</td>\n",
       "      <td>4</td>\n",
       "    </tr>\n",
       "    <tr>\n",
       "      <th>1</th>\n",
       "      <td>5</td>\n",
       "      <td>6</td>\n",
       "      <td>7</td>\n",
       "      <td>8</td>\n",
       "    </tr>\n",
       "    <tr>\n",
       "      <th>2</th>\n",
       "      <td>9</td>\n",
       "      <td>10</td>\n",
       "      <td>11</td>\n",
       "      <td>12</td>\n",
       "    </tr>\n",
       "  </tbody>\n",
       "</table>\n",
       "</div>"
      ],
      "text/plain": [
       "   a   b   c   d\n",
       "0  1   2   3   4\n",
       "1  5   6   7   8\n",
       "2  9  10  11  12"
      ]
     },
     "execution_count": 44,
     "metadata": {},
     "output_type": "execute_result"
    }
   ],
   "source": [
    "a=ku.read_csv(StringIO(data),dtype=int)\n",
    "a\n",
    "\n",
    "# OBJECT= all the data is string\n",
    "# Integer = all the data is integer\n",
    "# Float = all the data is floating"
   ]
  },
  {
   "cell_type": "code",
   "execution_count": 45,
   "id": "2d4f2992",
   "metadata": {},
   "outputs": [
    {
     "data": {
      "text/plain": [
       "0    1\n",
       "1    5\n",
       "2    9\n",
       "Name: a, dtype: int32"
      ]
     },
     "execution_count": 45,
     "metadata": {},
     "output_type": "execute_result"
    }
   ],
   "source": [
    "a['a']\n",
    "# data type= integer"
   ]
  },
  {
   "cell_type": "code",
   "execution_count": 46,
   "id": "cfdbcd45",
   "metadata": {},
   "outputs": [
    {
     "data": {
      "text/html": [
       "<div>\n",
       "<style scoped>\n",
       "    .dataframe tbody tr th:only-of-type {\n",
       "        vertical-align: middle;\n",
       "    }\n",
       "\n",
       "    .dataframe tbody tr th {\n",
       "        vertical-align: top;\n",
       "    }\n",
       "\n",
       "    .dataframe thead th {\n",
       "        text-align: right;\n",
       "    }\n",
       "</style>\n",
       "<table border=\"1\" class=\"dataframe\">\n",
       "  <thead>\n",
       "    <tr style=\"text-align: right;\">\n",
       "      <th></th>\n",
       "      <th>a</th>\n",
       "      <th>b</th>\n",
       "      <th>c</th>\n",
       "      <th>d</th>\n",
       "    </tr>\n",
       "  </thead>\n",
       "  <tbody>\n",
       "    <tr>\n",
       "      <th>0</th>\n",
       "      <td>1.0</td>\n",
       "      <td>2.0</td>\n",
       "      <td>3.0</td>\n",
       "      <td>4.0</td>\n",
       "    </tr>\n",
       "    <tr>\n",
       "      <th>1</th>\n",
       "      <td>5.0</td>\n",
       "      <td>6.0</td>\n",
       "      <td>7.0</td>\n",
       "      <td>8.0</td>\n",
       "    </tr>\n",
       "    <tr>\n",
       "      <th>2</th>\n",
       "      <td>9.0</td>\n",
       "      <td>10.0</td>\n",
       "      <td>11.0</td>\n",
       "      <td>12.0</td>\n",
       "    </tr>\n",
       "  </tbody>\n",
       "</table>\n",
       "</div>"
      ],
      "text/plain": [
       "     a     b     c     d\n",
       "0  1.0   2.0   3.0   4.0\n",
       "1  5.0   6.0   7.0   8.0\n",
       "2  9.0  10.0  11.0  12.0"
      ]
     },
     "execution_count": 46,
     "metadata": {},
     "output_type": "execute_result"
    }
   ],
   "source": [
    "a=ku.read_csv(StringIO(data),dtype=float)\n",
    "a\n",
    "\n",
    "# OBJECT or str= all the data is string\n",
    "# Integer = all the data is integer\n",
    "# Float = all the data is floating"
   ]
  },
  {
   "cell_type": "code",
   "execution_count": 47,
   "id": "723a3ace",
   "metadata": {},
   "outputs": [
    {
     "data": {
      "text/plain": [
       "0    1.0\n",
       "1    5.0\n",
       "2    9.0\n",
       "Name: a, dtype: float64"
      ]
     },
     "execution_count": 47,
     "metadata": {},
     "output_type": "execute_result"
    }
   ],
   "source": [
    "a['a']"
   ]
  },
  {
   "cell_type": "code",
   "execution_count": 52,
   "id": "41752b5f",
   "metadata": {},
   "outputs": [
    {
     "data": {
      "text/html": [
       "<div>\n",
       "<style scoped>\n",
       "    .dataframe tbody tr th:only-of-type {\n",
       "        vertical-align: middle;\n",
       "    }\n",
       "\n",
       "    .dataframe tbody tr th {\n",
       "        vertical-align: top;\n",
       "    }\n",
       "\n",
       "    .dataframe thead th {\n",
       "        text-align: right;\n",
       "    }\n",
       "</style>\n",
       "<table border=\"1\" class=\"dataframe\">\n",
       "  <thead>\n",
       "    <tr style=\"text-align: right;\">\n",
       "      <th></th>\n",
       "      <th>a</th>\n",
       "      <th>b</th>\n",
       "      <th>c</th>\n",
       "      <th>d</th>\n",
       "    </tr>\n",
       "  </thead>\n",
       "  <tbody>\n",
       "    <tr>\n",
       "      <th>0</th>\n",
       "      <td>1</td>\n",
       "      <td>2</td>\n",
       "      <td>3.0</td>\n",
       "      <td>4</td>\n",
       "    </tr>\n",
       "    <tr>\n",
       "      <th>1</th>\n",
       "      <td>5</td>\n",
       "      <td>6</td>\n",
       "      <td>7.0</td>\n",
       "      <td>8</td>\n",
       "    </tr>\n",
       "    <tr>\n",
       "      <th>2</th>\n",
       "      <td>9</td>\n",
       "      <td>10</td>\n",
       "      <td>11.0</td>\n",
       "      <td>12</td>\n",
       "    </tr>\n",
       "  </tbody>\n",
       "</table>\n",
       "</div>"
      ],
      "text/plain": [
       "   a   b     c   d\n",
       "0  1   2   3.0   4\n",
       "1  5   6   7.0   8\n",
       "2  9  10  11.0  12"
      ]
     },
     "execution_count": 52,
     "metadata": {},
     "output_type": "execute_result"
    }
   ],
   "source": [
    "a=ku.read_csv(StringIO(data),dtype={'b':int,'c':float,'a':'int64','d':str})\n",
    "a"
   ]
  },
  {
   "cell_type": "code",
   "execution_count": 53,
   "id": "24410abf",
   "metadata": {},
   "outputs": [
    {
     "name": "stdout",
     "output_type": "stream",
     "text": [
      "<class 'numpy.int64'>\n",
      "<class 'numpy.int32'>\n",
      "<class 'numpy.float64'>\n",
      "<class 'str'>\n"
     ]
    }
   ],
   "source": [
    "print(type(a['a'][1]))\n",
    "print(type(a['b'][1]))\n",
    "print(type(a['c'][1]))\n",
    "print(type(a['d'][1]))"
   ]
  },
  {
   "cell_type": "code",
   "execution_count": 54,
   "id": "1af354a5",
   "metadata": {},
   "outputs": [
    {
     "data": {
      "text/plain": [
       "a      int64\n",
       "b      int32\n",
       "c    float64\n",
       "d     object\n",
       "dtype: object"
      ]
     },
     "execution_count": 54,
     "metadata": {},
     "output_type": "execute_result"
    }
   ],
   "source": [
    "# to check all the data types\n",
    "a.dtypes"
   ]
  },
  {
   "cell_type": "code",
   "execution_count": null,
   "id": "02e758e9",
   "metadata": {},
   "outputs": [],
   "source": []
  },
  {
   "cell_type": "code",
   "execution_count": 57,
   "id": "75f391e2",
   "metadata": {},
   "outputs": [],
   "source": [
    "data=('index,a,b,c\\n'\n",
    "     '4,apple,bat,67\\n'\n",
    "     '8,Banana,cow,8.6\\n'\n",
    "     '12,orange,ball,45')"
   ]
  },
  {
   "cell_type": "code",
   "execution_count": 58,
   "id": "598052ac",
   "metadata": {},
   "outputs": [
    {
     "data": {
      "text/html": [
       "<div>\n",
       "<style scoped>\n",
       "    .dataframe tbody tr th:only-of-type {\n",
       "        vertical-align: middle;\n",
       "    }\n",
       "\n",
       "    .dataframe tbody tr th {\n",
       "        vertical-align: top;\n",
       "    }\n",
       "\n",
       "    .dataframe thead th {\n",
       "        text-align: right;\n",
       "    }\n",
       "</style>\n",
       "<table border=\"1\" class=\"dataframe\">\n",
       "  <thead>\n",
       "    <tr style=\"text-align: right;\">\n",
       "      <th></th>\n",
       "      <th>a</th>\n",
       "      <th>b</th>\n",
       "      <th>c</th>\n",
       "    </tr>\n",
       "    <tr>\n",
       "      <th>index</th>\n",
       "      <th></th>\n",
       "      <th></th>\n",
       "      <th></th>\n",
       "    </tr>\n",
       "  </thead>\n",
       "  <tbody>\n",
       "    <tr>\n",
       "      <th>4</th>\n",
       "      <td>apple</td>\n",
       "      <td>bat</td>\n",
       "      <td>67.0</td>\n",
       "    </tr>\n",
       "    <tr>\n",
       "      <th>8</th>\n",
       "      <td>Banana</td>\n",
       "      <td>cow</td>\n",
       "      <td>8.6</td>\n",
       "    </tr>\n",
       "    <tr>\n",
       "      <th>12</th>\n",
       "      <td>orange</td>\n",
       "      <td>ball</td>\n",
       "      <td>45.0</td>\n",
       "    </tr>\n",
       "  </tbody>\n",
       "</table>\n",
       "</div>"
      ],
      "text/plain": [
       "            a     b     c\n",
       "index                    \n",
       "4       apple   bat  67.0\n",
       "8      Banana   cow   8.6\n",
       "12     orange  ball  45.0"
      ]
     },
     "execution_count": 58,
     "metadata": {},
     "output_type": "execute_result"
    }
   ],
   "source": [
    "ku.read_csv(StringIO(data),index_col=0)"
   ]
  },
  {
   "cell_type": "code",
   "execution_count": 59,
   "id": "2a89e1aa",
   "metadata": {},
   "outputs": [
    {
     "data": {
      "text/html": [
       "<div>\n",
       "<style scoped>\n",
       "    .dataframe tbody tr th:only-of-type {\n",
       "        vertical-align: middle;\n",
       "    }\n",
       "\n",
       "    .dataframe tbody tr th {\n",
       "        vertical-align: top;\n",
       "    }\n",
       "\n",
       "    .dataframe thead th {\n",
       "        text-align: right;\n",
       "    }\n",
       "</style>\n",
       "<table border=\"1\" class=\"dataframe\">\n",
       "  <thead>\n",
       "    <tr style=\"text-align: right;\">\n",
       "      <th></th>\n",
       "      <th>index</th>\n",
       "      <th>b</th>\n",
       "      <th>c</th>\n",
       "    </tr>\n",
       "    <tr>\n",
       "      <th>a</th>\n",
       "      <th></th>\n",
       "      <th></th>\n",
       "      <th></th>\n",
       "    </tr>\n",
       "  </thead>\n",
       "  <tbody>\n",
       "    <tr>\n",
       "      <th>apple</th>\n",
       "      <td>4</td>\n",
       "      <td>bat</td>\n",
       "      <td>67.0</td>\n",
       "    </tr>\n",
       "    <tr>\n",
       "      <th>Banana</th>\n",
       "      <td>8</td>\n",
       "      <td>cow</td>\n",
       "      <td>8.6</td>\n",
       "    </tr>\n",
       "    <tr>\n",
       "      <th>orange</th>\n",
       "      <td>12</td>\n",
       "      <td>ball</td>\n",
       "      <td>45.0</td>\n",
       "    </tr>\n",
       "  </tbody>\n",
       "</table>\n",
       "</div>"
      ],
      "text/plain": [
       "        index     b     c\n",
       "a                        \n",
       "apple       4   bat  67.0\n",
       "Banana      8   cow   8.6\n",
       "orange     12  ball  45.0"
      ]
     },
     "execution_count": 59,
     "metadata": {},
     "output_type": "execute_result"
    }
   ],
   "source": [
    "ku.read_csv(StringIO(data),index_col=1)"
   ]
  },
  {
   "cell_type": "code",
   "execution_count": 60,
   "id": "8132c4d5",
   "metadata": {},
   "outputs": [
    {
     "data": {
      "text/html": [
       "<div>\n",
       "<style scoped>\n",
       "    .dataframe tbody tr th:only-of-type {\n",
       "        vertical-align: middle;\n",
       "    }\n",
       "\n",
       "    .dataframe tbody tr th {\n",
       "        vertical-align: top;\n",
       "    }\n",
       "\n",
       "    .dataframe thead th {\n",
       "        text-align: right;\n",
       "    }\n",
       "</style>\n",
       "<table border=\"1\" class=\"dataframe\">\n",
       "  <thead>\n",
       "    <tr style=\"text-align: right;\">\n",
       "      <th></th>\n",
       "      <th>index</th>\n",
       "      <th>a</th>\n",
       "      <th>c</th>\n",
       "    </tr>\n",
       "    <tr>\n",
       "      <th>b</th>\n",
       "      <th></th>\n",
       "      <th></th>\n",
       "      <th></th>\n",
       "    </tr>\n",
       "  </thead>\n",
       "  <tbody>\n",
       "    <tr>\n",
       "      <th>bat</th>\n",
       "      <td>4</td>\n",
       "      <td>apple</td>\n",
       "      <td>67.0</td>\n",
       "    </tr>\n",
       "    <tr>\n",
       "      <th>cow</th>\n",
       "      <td>8</td>\n",
       "      <td>Banana</td>\n",
       "      <td>8.6</td>\n",
       "    </tr>\n",
       "    <tr>\n",
       "      <th>ball</th>\n",
       "      <td>12</td>\n",
       "      <td>orange</td>\n",
       "      <td>45.0</td>\n",
       "    </tr>\n",
       "  </tbody>\n",
       "</table>\n",
       "</div>"
      ],
      "text/plain": [
       "      index       a     c\n",
       "b                        \n",
       "bat       4   apple  67.0\n",
       "cow       8  Banana   8.6\n",
       "ball     12  orange  45.0"
      ]
     },
     "execution_count": 60,
     "metadata": {},
     "output_type": "execute_result"
    }
   ],
   "source": [
    "ku.read_csv(StringIO(data),index_col=2)"
   ]
  },
  {
   "cell_type": "code",
   "execution_count": 61,
   "id": "09a6881a",
   "metadata": {},
   "outputs": [
    {
     "data": {
      "text/html": [
       "<div>\n",
       "<style scoped>\n",
       "    .dataframe tbody tr th:only-of-type {\n",
       "        vertical-align: middle;\n",
       "    }\n",
       "\n",
       "    .dataframe tbody tr th {\n",
       "        vertical-align: top;\n",
       "    }\n",
       "\n",
       "    .dataframe thead th {\n",
       "        text-align: right;\n",
       "    }\n",
       "</style>\n",
       "<table border=\"1\" class=\"dataframe\">\n",
       "  <thead>\n",
       "    <tr style=\"text-align: right;\">\n",
       "      <th></th>\n",
       "      <th>index</th>\n",
       "      <th>a</th>\n",
       "      <th>b</th>\n",
       "    </tr>\n",
       "    <tr>\n",
       "      <th>c</th>\n",
       "      <th></th>\n",
       "      <th></th>\n",
       "      <th></th>\n",
       "    </tr>\n",
       "  </thead>\n",
       "  <tbody>\n",
       "    <tr>\n",
       "      <th>67.0</th>\n",
       "      <td>4</td>\n",
       "      <td>apple</td>\n",
       "      <td>bat</td>\n",
       "    </tr>\n",
       "    <tr>\n",
       "      <th>8.6</th>\n",
       "      <td>8</td>\n",
       "      <td>Banana</td>\n",
       "      <td>cow</td>\n",
       "    </tr>\n",
       "    <tr>\n",
       "      <th>45.0</th>\n",
       "      <td>12</td>\n",
       "      <td>orange</td>\n",
       "      <td>ball</td>\n",
       "    </tr>\n",
       "  </tbody>\n",
       "</table>\n",
       "</div>"
      ],
      "text/plain": [
       "      index       a     b\n",
       "c                        \n",
       "67.0      4   apple   bat\n",
       "8.6       8  Banana   cow\n",
       "45.0     12  orange  ball"
      ]
     },
     "execution_count": 61,
     "metadata": {},
     "output_type": "execute_result"
    }
   ],
   "source": [
    "ku.read_csv(StringIO(data),index_col=3)"
   ]
  },
  {
   "cell_type": "code",
   "execution_count": 62,
   "id": "000cffd1",
   "metadata": {},
   "outputs": [],
   "source": [
    "data=('a,b,c\\n'\n",
    "     '4,apple,bat\\n'\n",
    "     '8,Banana,cow\\n'\n",
    "     '12,orange,ball')"
   ]
  },
  {
   "cell_type": "code",
   "execution_count": 64,
   "id": "9e3c20c7",
   "metadata": {},
   "outputs": [
    {
     "data": {
      "text/html": [
       "<div>\n",
       "<style scoped>\n",
       "    .dataframe tbody tr th:only-of-type {\n",
       "        vertical-align: middle;\n",
       "    }\n",
       "\n",
       "    .dataframe tbody tr th {\n",
       "        vertical-align: top;\n",
       "    }\n",
       "\n",
       "    .dataframe thead th {\n",
       "        text-align: right;\n",
       "    }\n",
       "</style>\n",
       "<table border=\"1\" class=\"dataframe\">\n",
       "  <thead>\n",
       "    <tr style=\"text-align: right;\">\n",
       "      <th></th>\n",
       "      <th>b</th>\n",
       "      <th>c</th>\n",
       "    </tr>\n",
       "    <tr>\n",
       "      <th>a</th>\n",
       "      <th></th>\n",
       "      <th></th>\n",
       "    </tr>\n",
       "  </thead>\n",
       "  <tbody>\n",
       "    <tr>\n",
       "      <th>4</th>\n",
       "      <td>apple</td>\n",
       "      <td>bat</td>\n",
       "    </tr>\n",
       "    <tr>\n",
       "      <th>8</th>\n",
       "      <td>Banana</td>\n",
       "      <td>cow</td>\n",
       "    </tr>\n",
       "    <tr>\n",
       "      <th>12</th>\n",
       "      <td>orange</td>\n",
       "      <td>ball</td>\n",
       "    </tr>\n",
       "  </tbody>\n",
       "</table>\n",
       "</div>"
      ],
      "text/plain": [
       "         b     c\n",
       "a               \n",
       "4    apple   bat\n",
       "8   Banana   cow\n",
       "12  orange  ball"
      ]
     },
     "execution_count": 64,
     "metadata": {},
     "output_type": "execute_result"
    }
   ],
   "source": [
    "ku.read_csv(StringIO(data),index_col=0)"
   ]
  },
  {
   "cell_type": "code",
   "execution_count": 65,
   "id": "7ed0a247",
   "metadata": {},
   "outputs": [
    {
     "data": {
      "text/html": [
       "<div>\n",
       "<style scoped>\n",
       "    .dataframe tbody tr th:only-of-type {\n",
       "        vertical-align: middle;\n",
       "    }\n",
       "\n",
       "    .dataframe tbody tr th {\n",
       "        vertical-align: top;\n",
       "    }\n",
       "\n",
       "    .dataframe thead th {\n",
       "        text-align: right;\n",
       "    }\n",
       "</style>\n",
       "<table border=\"1\" class=\"dataframe\">\n",
       "  <thead>\n",
       "    <tr style=\"text-align: right;\">\n",
       "      <th></th>\n",
       "      <th>a</th>\n",
       "      <th>b</th>\n",
       "      <th>c</th>\n",
       "    </tr>\n",
       "  </thead>\n",
       "  <tbody>\n",
       "    <tr>\n",
       "      <th>0</th>\n",
       "      <td>4</td>\n",
       "      <td>apple</td>\n",
       "      <td>bat</td>\n",
       "    </tr>\n",
       "    <tr>\n",
       "      <th>1</th>\n",
       "      <td>8</td>\n",
       "      <td>Banana</td>\n",
       "      <td>cow</td>\n",
       "    </tr>\n",
       "    <tr>\n",
       "      <th>2</th>\n",
       "      <td>12</td>\n",
       "      <td>orange</td>\n",
       "      <td>ball</td>\n",
       "    </tr>\n",
       "  </tbody>\n",
       "</table>\n",
       "</div>"
      ],
      "text/plain": [
       "    a       b     c\n",
       "0   4   apple   bat\n",
       "1   8  Banana   cow\n",
       "2  12  orange  ball"
      ]
     },
     "execution_count": 65,
     "metadata": {},
     "output_type": "execute_result"
    }
   ],
   "source": [
    "ku.read_csv(StringIO(data),index_col=False)"
   ]
  },
  {
   "cell_type": "code",
   "execution_count": 66,
   "id": "eeb10419",
   "metadata": {},
   "outputs": [],
   "source": [
    "# combining usecols and index_col\n",
    " data=('a,b,c\\n'\n",
    "     '4,apple,bat\\n'\n",
    "     '8,Banana,cow\\n'\n",
    "     '12,orange,ball')\n"
   ]
  },
  {
   "cell_type": "code",
   "execution_count": 67,
   "id": "2b3fd182",
   "metadata": {},
   "outputs": [
    {
     "data": {
      "text/html": [
       "<div>\n",
       "<style scoped>\n",
       "    .dataframe tbody tr th:only-of-type {\n",
       "        vertical-align: middle;\n",
       "    }\n",
       "\n",
       "    .dataframe tbody tr th {\n",
       "        vertical-align: top;\n",
       "    }\n",
       "\n",
       "    .dataframe thead th {\n",
       "        text-align: right;\n",
       "    }\n",
       "</style>\n",
       "<table border=\"1\" class=\"dataframe\">\n",
       "  <thead>\n",
       "    <tr style=\"text-align: right;\">\n",
       "      <th></th>\n",
       "      <th>b</th>\n",
       "      <th>c</th>\n",
       "    </tr>\n",
       "  </thead>\n",
       "  <tbody>\n",
       "    <tr>\n",
       "      <th>0</th>\n",
       "      <td>apple</td>\n",
       "      <td>bat</td>\n",
       "    </tr>\n",
       "    <tr>\n",
       "      <th>1</th>\n",
       "      <td>Banana</td>\n",
       "      <td>cow</td>\n",
       "    </tr>\n",
       "    <tr>\n",
       "      <th>2</th>\n",
       "      <td>orange</td>\n",
       "      <td>ball</td>\n",
       "    </tr>\n",
       "  </tbody>\n",
       "</table>\n",
       "</div>"
      ],
      "text/plain": [
       "        b     c\n",
       "0   apple   bat\n",
       "1  Banana   cow\n",
       "2  orange  ball"
      ]
     },
     "execution_count": 67,
     "metadata": {},
     "output_type": "execute_result"
    }
   ],
   "source": [
    "ku.read_csv(StringIO(data),usecols=['b','c'],index_col=False)"
   ]
  },
  {
   "cell_type": "code",
   "execution_count": 68,
   "id": "41d783b2",
   "metadata": {},
   "outputs": [],
   "source": [
    "##  Quoting and Escape characters very Useful in NLP\n",
    "\n",
    "data='a,b\\n\"hello, \\\\\"BOb\\\\\",nice to see you\",5'"
   ]
  },
  {
   "cell_type": "code",
   "execution_count": 69,
   "id": "56d7852e",
   "metadata": {},
   "outputs": [
    {
     "data": {
      "text/html": [
       "<div>\n",
       "<style scoped>\n",
       "    .dataframe tbody tr th:only-of-type {\n",
       "        vertical-align: middle;\n",
       "    }\n",
       "\n",
       "    .dataframe tbody tr th {\n",
       "        vertical-align: top;\n",
       "    }\n",
       "\n",
       "    .dataframe thead th {\n",
       "        text-align: right;\n",
       "    }\n",
       "</style>\n",
       "<table border=\"1\" class=\"dataframe\">\n",
       "  <thead>\n",
       "    <tr style=\"text-align: right;\">\n",
       "      <th></th>\n",
       "      <th>a</th>\n",
       "      <th>b</th>\n",
       "    </tr>\n",
       "  </thead>\n",
       "  <tbody>\n",
       "    <tr>\n",
       "      <th>0</th>\n",
       "      <td>hello, \"BOb\",nice to see you</td>\n",
       "      <td>5</td>\n",
       "    </tr>\n",
       "  </tbody>\n",
       "</table>\n",
       "</div>"
      ],
      "text/plain": [
       "                              a  b\n",
       "0  hello, \"BOb\",nice to see you  5"
      ]
     },
     "execution_count": 69,
     "metadata": {},
     "output_type": "execute_result"
    }
   ],
   "source": [
    "ku.read_csv(StringIO(data),escapechar='\\\\')"
   ]
  },
  {
   "cell_type": "code",
   "execution_count": 70,
   "id": "2ea06a4c",
   "metadata": {},
   "outputs": [],
   "source": [
    "### URL to CSV\n",
    "\n"
   ]
  },
  {
   "cell_type": "code",
   "execution_count": null,
   "id": "1f1256cf",
   "metadata": {},
   "outputs": [],
   "source": []
  },
  {
   "cell_type": "code",
   "execution_count": null,
   "id": "4e25e607",
   "metadata": {},
   "outputs": [],
   "source": []
  },
  {
   "cell_type": "markdown",
   "id": "f7dc22da",
   "metadata": {},
   "source": [
    "# Read Json to CSV"
   ]
  },
  {
   "cell_type": "code",
   "execution_count": 75,
   "id": "fa55ac32",
   "metadata": {},
   "outputs": [],
   "source": [
    "  data='{\"employee_name\":\"Brijesh\",\"Email\":\"brijeshpal8878@gmail.com\",\"Job profile\": [{\"te1\":\"Team Lead\",\"Title2\":\"student\"}]}'"
   ]
  },
  {
   "cell_type": "code",
   "execution_count": 97,
   "id": "5638571e",
   "metadata": {},
   "outputs": [],
   "source": [
    "a1=ku.read_json(data)"
   ]
  },
  {
   "cell_type": "code",
   "execution_count": 90,
   "id": "68d46a91",
   "metadata": {},
   "outputs": [
    {
     "ename": "ParserError",
     "evalue": "Error tokenizing data. C error: Expected 1 fields in line 9, saw 2\n",
     "output_type": "error",
     "traceback": [
      "\u001b[1;31m---------------------------------------------------------------------------\u001b[0m",
      "\u001b[1;31mParserError\u001b[0m                               Traceback (most recent call last)",
      "Cell \u001b[1;32mIn[90], line 3\u001b[0m\n\u001b[0;32m      1\u001b[0m \u001b[38;5;66;03m# direct from url\u001b[39;00m\n\u001b[1;32m----> 3\u001b[0m a\u001b[38;5;241m=\u001b[39mku\u001b[38;5;241m.\u001b[39mread_csv(\u001b[38;5;124m'\u001b[39m\u001b[38;5;124mhttps://www.kaggle.com/datasets/rtatman/iris-dataset-json-version\u001b[39m\u001b[38;5;124m'\u001b[39m)\n\u001b[0;32m      4\u001b[0m a\n",
      "File \u001b[1;32m~\\anaconda3\\Lib\\site-packages\\pandas\\io\\parsers\\readers.py:912\u001b[0m, in \u001b[0;36mread_csv\u001b[1;34m(filepath_or_buffer, sep, delimiter, header, names, index_col, usecols, dtype, engine, converters, true_values, false_values, skipinitialspace, skiprows, skipfooter, nrows, na_values, keep_default_na, na_filter, verbose, skip_blank_lines, parse_dates, infer_datetime_format, keep_date_col, date_parser, date_format, dayfirst, cache_dates, iterator, chunksize, compression, thousands, decimal, lineterminator, quotechar, quoting, doublequote, escapechar, comment, encoding, encoding_errors, dialect, on_bad_lines, delim_whitespace, low_memory, memory_map, float_precision, storage_options, dtype_backend)\u001b[0m\n\u001b[0;32m    899\u001b[0m kwds_defaults \u001b[38;5;241m=\u001b[39m _refine_defaults_read(\n\u001b[0;32m    900\u001b[0m     dialect,\n\u001b[0;32m    901\u001b[0m     delimiter,\n\u001b[1;32m   (...)\u001b[0m\n\u001b[0;32m    908\u001b[0m     dtype_backend\u001b[38;5;241m=\u001b[39mdtype_backend,\n\u001b[0;32m    909\u001b[0m )\n\u001b[0;32m    910\u001b[0m kwds\u001b[38;5;241m.\u001b[39mupdate(kwds_defaults)\n\u001b[1;32m--> 912\u001b[0m \u001b[38;5;28;01mreturn\u001b[39;00m _read(filepath_or_buffer, kwds)\n",
      "File \u001b[1;32m~\\anaconda3\\Lib\\site-packages\\pandas\\io\\parsers\\readers.py:583\u001b[0m, in \u001b[0;36m_read\u001b[1;34m(filepath_or_buffer, kwds)\u001b[0m\n\u001b[0;32m    580\u001b[0m     \u001b[38;5;28;01mreturn\u001b[39;00m parser\n\u001b[0;32m    582\u001b[0m \u001b[38;5;28;01mwith\u001b[39;00m parser:\n\u001b[1;32m--> 583\u001b[0m     \u001b[38;5;28;01mreturn\u001b[39;00m parser\u001b[38;5;241m.\u001b[39mread(nrows)\n",
      "File \u001b[1;32m~\\anaconda3\\Lib\\site-packages\\pandas\\io\\parsers\\readers.py:1704\u001b[0m, in \u001b[0;36mTextFileReader.read\u001b[1;34m(self, nrows)\u001b[0m\n\u001b[0;32m   1697\u001b[0m nrows \u001b[38;5;241m=\u001b[39m validate_integer(\u001b[38;5;124m\"\u001b[39m\u001b[38;5;124mnrows\u001b[39m\u001b[38;5;124m\"\u001b[39m, nrows)\n\u001b[0;32m   1698\u001b[0m \u001b[38;5;28;01mtry\u001b[39;00m:\n\u001b[0;32m   1699\u001b[0m     \u001b[38;5;66;03m# error: \"ParserBase\" has no attribute \"read\"\u001b[39;00m\n\u001b[0;32m   1700\u001b[0m     (\n\u001b[0;32m   1701\u001b[0m         index,\n\u001b[0;32m   1702\u001b[0m         columns,\n\u001b[0;32m   1703\u001b[0m         col_dict,\n\u001b[1;32m-> 1704\u001b[0m     ) \u001b[38;5;241m=\u001b[39m \u001b[38;5;28mself\u001b[39m\u001b[38;5;241m.\u001b[39m_engine\u001b[38;5;241m.\u001b[39mread(  \u001b[38;5;66;03m# type: ignore[attr-defined]\u001b[39;00m\n\u001b[0;32m   1705\u001b[0m         nrows\n\u001b[0;32m   1706\u001b[0m     )\n\u001b[0;32m   1707\u001b[0m \u001b[38;5;28;01mexcept\u001b[39;00m \u001b[38;5;167;01mException\u001b[39;00m:\n\u001b[0;32m   1708\u001b[0m     \u001b[38;5;28mself\u001b[39m\u001b[38;5;241m.\u001b[39mclose()\n",
      "File \u001b[1;32m~\\anaconda3\\Lib\\site-packages\\pandas\\io\\parsers\\c_parser_wrapper.py:234\u001b[0m, in \u001b[0;36mCParserWrapper.read\u001b[1;34m(self, nrows)\u001b[0m\n\u001b[0;32m    232\u001b[0m \u001b[38;5;28;01mtry\u001b[39;00m:\n\u001b[0;32m    233\u001b[0m     \u001b[38;5;28;01mif\u001b[39;00m \u001b[38;5;28mself\u001b[39m\u001b[38;5;241m.\u001b[39mlow_memory:\n\u001b[1;32m--> 234\u001b[0m         chunks \u001b[38;5;241m=\u001b[39m \u001b[38;5;28mself\u001b[39m\u001b[38;5;241m.\u001b[39m_reader\u001b[38;5;241m.\u001b[39mread_low_memory(nrows)\n\u001b[0;32m    235\u001b[0m         \u001b[38;5;66;03m# destructive to chunks\u001b[39;00m\n\u001b[0;32m    236\u001b[0m         data \u001b[38;5;241m=\u001b[39m _concatenate_chunks(chunks)\n",
      "File \u001b[1;32m~\\anaconda3\\Lib\\site-packages\\pandas\\_libs\\parsers.pyx:814\u001b[0m, in \u001b[0;36mpandas._libs.parsers.TextReader.read_low_memory\u001b[1;34m()\u001b[0m\n",
      "File \u001b[1;32m~\\anaconda3\\Lib\\site-packages\\pandas\\_libs\\parsers.pyx:875\u001b[0m, in \u001b[0;36mpandas._libs.parsers.TextReader._read_rows\u001b[1;34m()\u001b[0m\n",
      "File \u001b[1;32m~\\anaconda3\\Lib\\site-packages\\pandas\\_libs\\parsers.pyx:850\u001b[0m, in \u001b[0;36mpandas._libs.parsers.TextReader._tokenize_rows\u001b[1;34m()\u001b[0m\n",
      "File \u001b[1;32m~\\anaconda3\\Lib\\site-packages\\pandas\\_libs\\parsers.pyx:861\u001b[0m, in \u001b[0;36mpandas._libs.parsers.TextReader._check_tokenize_status\u001b[1;34m()\u001b[0m\n",
      "File \u001b[1;32m~\\anaconda3\\Lib\\site-packages\\pandas\\_libs\\parsers.pyx:2029\u001b[0m, in \u001b[0;36mpandas._libs.parsers.raise_parser_error\u001b[1;34m()\u001b[0m\n",
      "\u001b[1;31mParserError\u001b[0m: Error tokenizing data. C error: Expected 1 fields in line 9, saw 2\n"
     ]
    }
   ],
   "source": [
    "# direct from url\n",
    "\n",
    "a=ku.read_csv('https://www.kaggle.com/datasets/rtatman/iris-dataset-json-version')\n",
    "a"
   ]
  },
  {
   "cell_type": "code",
   "execution_count": 78,
   "id": "5244dcbd",
   "metadata": {},
   "outputs": [],
   "source": [
    "# convert json to csv"
   ]
  },
  {
   "cell_type": "code",
   "execution_count": 91,
   "id": "d73656fb",
   "metadata": {},
   "outputs": [],
   "source": [
    "a.to_csv('iris.csv')"
   ]
  },
  {
   "cell_type": "code",
   "execution_count": 99,
   "id": "b15217b4",
   "metadata": {},
   "outputs": [
    {
     "data": {
      "text/html": [
       "<div>\n",
       "<style scoped>\n",
       "    .dataframe tbody tr th:only-of-type {\n",
       "        vertical-align: middle;\n",
       "    }\n",
       "\n",
       "    .dataframe tbody tr th {\n",
       "        vertical-align: top;\n",
       "    }\n",
       "\n",
       "    .dataframe thead th {\n",
       "        text-align: right;\n",
       "    }\n",
       "</style>\n",
       "<table border=\"1\" class=\"dataframe\">\n",
       "  <thead>\n",
       "    <tr style=\"text-align: right;\">\n",
       "      <th></th>\n",
       "      <th>employee_name</th>\n",
       "      <th>Email</th>\n",
       "      <th>Job profile</th>\n",
       "    </tr>\n",
       "  </thead>\n",
       "  <tbody>\n",
       "    <tr>\n",
       "      <th>0</th>\n",
       "      <td>Brijesh</td>\n",
       "      <td>brijeshpal8878@gmail.com</td>\n",
       "      <td>{'te1': 'Team Lead', 'Title2': 'student'}</td>\n",
       "    </tr>\n",
       "  </tbody>\n",
       "</table>\n",
       "</div>"
      ],
      "text/plain": [
       "  employee_name                     Email  \\\n",
       "0       Brijesh  brijeshpal8878@gmail.com   \n",
       "\n",
       "                                 Job profile  \n",
       "0  {'te1': 'Team Lead', 'Title2': 'student'}  "
      ]
     },
     "execution_count": 99,
     "metadata": {},
     "output_type": "execute_result"
    }
   ],
   "source": [
    "a1"
   ]
  },
  {
   "cell_type": "code",
   "execution_count": 98,
   "id": "383e08fa",
   "metadata": {},
   "outputs": [
    {
     "data": {
      "text/plain": [
       "'{\"employee_name\":{\"0\":\"Brijesh\"},\"Email\":{\"0\":\"brijeshpal8878@gmail.com\"},\"Job profile\":{\"0\":{\"te1\":\"Team Lead\",\"Title2\":\"student\"}}}'"
      ]
     },
     "execution_count": 98,
     "metadata": {},
     "output_type": "execute_result"
    }
   ],
   "source": [
    "# convert json to different json format\n",
    "\n",
    "a1.to_json()"
   ]
  },
  {
   "cell_type": "code",
   "execution_count": null,
   "id": "dd5d122e",
   "metadata": {},
   "outputs": [],
   "source": []
  },
  {
   "cell_type": "code",
   "execution_count": null,
   "id": "a6c4373c",
   "metadata": {},
   "outputs": [],
   "source": []
  },
  {
   "cell_type": "markdown",
   "id": "a85dd310",
   "metadata": {},
   "source": [
    "# Reading HTML content"
   ]
  },
  {
   "cell_type": "code",
   "execution_count": 100,
   "id": "d043ffef",
   "metadata": {},
   "outputs": [],
   "source": [
    "url='https://www.fdic.gov/resources/resolutions/bank-failures/failed-bank-list/'"
   ]
  },
  {
   "cell_type": "code",
   "execution_count": 101,
   "id": "d44f1e43",
   "metadata": {},
   "outputs": [],
   "source": [
    "dfs= ku.read_html(url)"
   ]
  },
  {
   "cell_type": "code",
   "execution_count": 106,
   "id": "6cbc3709",
   "metadata": {},
   "outputs": [
    {
     "data": {
      "text/html": [
       "<div>\n",
       "<style scoped>\n",
       "    .dataframe tbody tr th:only-of-type {\n",
       "        vertical-align: middle;\n",
       "    }\n",
       "\n",
       "    .dataframe tbody tr th {\n",
       "        vertical-align: top;\n",
       "    }\n",
       "\n",
       "    .dataframe thead th {\n",
       "        text-align: right;\n",
       "    }\n",
       "</style>\n",
       "<table border=\"1\" class=\"dataframe\">\n",
       "  <thead>\n",
       "    <tr style=\"text-align: right;\">\n",
       "      <th></th>\n",
       "      <th>Bank NameBank</th>\n",
       "      <th>CityCity</th>\n",
       "      <th>StateSt</th>\n",
       "      <th>CertCert</th>\n",
       "      <th>Acquiring InstitutionAI</th>\n",
       "      <th>Closing DateClosing</th>\n",
       "      <th>FundFund</th>\n",
       "    </tr>\n",
       "  </thead>\n",
       "  <tbody>\n",
       "    <tr>\n",
       "      <th>0</th>\n",
       "      <td>Citizens Bank</td>\n",
       "      <td>Sac City</td>\n",
       "      <td>IA</td>\n",
       "      <td>8758</td>\n",
       "      <td>Iowa Trust &amp; Savings Bank</td>\n",
       "      <td>November 3, 2023</td>\n",
       "      <td>10545</td>\n",
       "    </tr>\n",
       "    <tr>\n",
       "      <th>1</th>\n",
       "      <td>Heartland Tri-State Bank</td>\n",
       "      <td>Elkhart</td>\n",
       "      <td>KS</td>\n",
       "      <td>25851</td>\n",
       "      <td>Dream First Bank, N.A.</td>\n",
       "      <td>July 28, 2023</td>\n",
       "      <td>10544</td>\n",
       "    </tr>\n",
       "    <tr>\n",
       "      <th>2</th>\n",
       "      <td>First Republic Bank</td>\n",
       "      <td>San Francisco</td>\n",
       "      <td>CA</td>\n",
       "      <td>59017</td>\n",
       "      <td>JPMorgan Chase Bank, N.A.</td>\n",
       "      <td>May 1, 2023</td>\n",
       "      <td>10543</td>\n",
       "    </tr>\n",
       "    <tr>\n",
       "      <th>3</th>\n",
       "      <td>Signature Bank</td>\n",
       "      <td>New York</td>\n",
       "      <td>NY</td>\n",
       "      <td>57053</td>\n",
       "      <td>Flagstar Bank, N.A.</td>\n",
       "      <td>March 12, 2023</td>\n",
       "      <td>10540</td>\n",
       "    </tr>\n",
       "    <tr>\n",
       "      <th>4</th>\n",
       "      <td>Silicon Valley Bank</td>\n",
       "      <td>Santa Clara</td>\n",
       "      <td>CA</td>\n",
       "      <td>24735</td>\n",
       "      <td>First–Citizens Bank &amp; Trust Company</td>\n",
       "      <td>March 10, 2023</td>\n",
       "      <td>10539</td>\n",
       "    </tr>\n",
       "    <tr>\n",
       "      <th>...</th>\n",
       "      <td>...</td>\n",
       "      <td>...</td>\n",
       "      <td>...</td>\n",
       "      <td>...</td>\n",
       "      <td>...</td>\n",
       "      <td>...</td>\n",
       "      <td>...</td>\n",
       "    </tr>\n",
       "    <tr>\n",
       "      <th>563</th>\n",
       "      <td>Superior Bank, FSB</td>\n",
       "      <td>Hinsdale</td>\n",
       "      <td>IL</td>\n",
       "      <td>32646</td>\n",
       "      <td>Superior Federal, FSB</td>\n",
       "      <td>July 27, 2001</td>\n",
       "      <td>6004</td>\n",
       "    </tr>\n",
       "    <tr>\n",
       "      <th>564</th>\n",
       "      <td>Malta National Bank</td>\n",
       "      <td>Malta</td>\n",
       "      <td>OH</td>\n",
       "      <td>6629</td>\n",
       "      <td>North Valley Bank</td>\n",
       "      <td>May 3, 2001</td>\n",
       "      <td>4648</td>\n",
       "    </tr>\n",
       "    <tr>\n",
       "      <th>565</th>\n",
       "      <td>First Alliance Bank &amp; Trust Co.</td>\n",
       "      <td>Manchester</td>\n",
       "      <td>NH</td>\n",
       "      <td>34264</td>\n",
       "      <td>Southern New Hampshire Bank &amp; Trust</td>\n",
       "      <td>February 2, 2001</td>\n",
       "      <td>4647</td>\n",
       "    </tr>\n",
       "    <tr>\n",
       "      <th>566</th>\n",
       "      <td>National State Bank of Metropolis</td>\n",
       "      <td>Metropolis</td>\n",
       "      <td>IL</td>\n",
       "      <td>3815</td>\n",
       "      <td>Banterra Bank of Marion</td>\n",
       "      <td>December 14, 2000</td>\n",
       "      <td>4646</td>\n",
       "    </tr>\n",
       "    <tr>\n",
       "      <th>567</th>\n",
       "      <td>Bank of Honolulu</td>\n",
       "      <td>Honolulu</td>\n",
       "      <td>HI</td>\n",
       "      <td>21029</td>\n",
       "      <td>Bank of the Orient</td>\n",
       "      <td>October 13, 2000</td>\n",
       "      <td>4645</td>\n",
       "    </tr>\n",
       "  </tbody>\n",
       "</table>\n",
       "<p>568 rows × 7 columns</p>\n",
       "</div>"
      ],
      "text/plain": [
       "                         Bank NameBank       CityCity StateSt  CertCert  \\\n",
       "0                        Citizens Bank       Sac City      IA      8758   \n",
       "1             Heartland Tri-State Bank        Elkhart      KS     25851   \n",
       "2                  First Republic Bank  San Francisco      CA     59017   \n",
       "3                       Signature Bank       New York      NY     57053   \n",
       "4                  Silicon Valley Bank    Santa Clara      CA     24735   \n",
       "..                                 ...            ...     ...       ...   \n",
       "563                 Superior Bank, FSB       Hinsdale      IL     32646   \n",
       "564                Malta National Bank          Malta      OH      6629   \n",
       "565    First Alliance Bank & Trust Co.     Manchester      NH     34264   \n",
       "566  National State Bank of Metropolis     Metropolis      IL      3815   \n",
       "567                   Bank of Honolulu       Honolulu      HI     21029   \n",
       "\n",
       "                 Acquiring InstitutionAI Closing DateClosing  FundFund  \n",
       "0              Iowa Trust & Savings Bank    November 3, 2023     10545  \n",
       "1                 Dream First Bank, N.A.       July 28, 2023     10544  \n",
       "2              JPMorgan Chase Bank, N.A.         May 1, 2023     10543  \n",
       "3                    Flagstar Bank, N.A.      March 12, 2023     10540  \n",
       "4    First–Citizens Bank & Trust Company      March 10, 2023     10539  \n",
       "..                                   ...                 ...       ...  \n",
       "563                Superior Federal, FSB       July 27, 2001      6004  \n",
       "564                    North Valley Bank         May 3, 2001      4648  \n",
       "565  Southern New Hampshire Bank & Trust    February 2, 2001      4647  \n",
       "566              Banterra Bank of Marion   December 14, 2000      4646  \n",
       "567                   Bank of the Orient    October 13, 2000      4645  \n",
       "\n",
       "[568 rows x 7 columns]"
      ]
     },
     "execution_count": 106,
     "metadata": {},
     "output_type": "execute_result"
    }
   ],
   "source": [
    "dfs[0]\n",
    "#print(type(dfs))"
   ]
  },
  {
   "cell_type": "markdown",
   "id": "543a67bb",
   "metadata": {},
   "source": [
    "# Reading Excel File"
   ]
  },
  {
   "cell_type": "code",
   "execution_count": 107,
   "id": "5f052713",
   "metadata": {},
   "outputs": [],
   "source": [
    "#a_excel=ku.read_excel('')"
   ]
  },
  {
   "cell_type": "code",
   "execution_count": null,
   "id": "11355871",
   "metadata": {},
   "outputs": [],
   "source": []
  },
  {
   "cell_type": "code",
   "execution_count": null,
   "id": "a2468f50",
   "metadata": {},
   "outputs": [],
   "source": []
  },
  {
   "cell_type": "markdown",
   "id": "2b73172c",
   "metadata": {},
   "source": [
    "# Pickling \n",
    "\n",
    "All pandas objects are equipped with to_pickle methods which use Pythons Pickle module to save Data structures to disk using the pickle format."
   ]
  },
  {
   "cell_type": "code",
   "execution_count": 108,
   "id": "89849714",
   "metadata": {},
   "outputs": [
    {
     "ename": "NameError",
     "evalue": "name 'a_excel' is not defined",
     "output_type": "error",
     "traceback": [
      "\u001b[1;31m---------------------------------------------------------------------------\u001b[0m",
      "\u001b[1;31mNameError\u001b[0m                                 Traceback (most recent call last)",
      "Cell \u001b[1;32mIn[108], line 1\u001b[0m\n\u001b[1;32m----> 1\u001b[0m a_excel\u001b[38;5;241m.\u001b[39mto_pickle(\u001b[38;5;124m'\u001b[39m\u001b[38;5;124mdf_excel\u001b[39m\u001b[38;5;124m'\u001b[39m)\n",
      "\u001b[1;31mNameError\u001b[0m: name 'a_excel' is not defined"
     ]
    }
   ],
   "source": [
    "a_excel.to_pickle('df_excel')"
   ]
  },
  {
   "cell_type": "code",
   "execution_count": 110,
   "id": "c1598e3d",
   "metadata": {},
   "outputs": [],
   "source": [
    "#a=ku.read_pickle('df_excel')"
   ]
  },
  {
   "cell_type": "code",
   "execution_count": null,
   "id": "0ac1272f",
   "metadata": {},
   "outputs": [],
   "source": []
  },
  {
   "cell_type": "code",
   "execution_count": null,
   "id": "cb832c3d",
   "metadata": {},
   "outputs": [],
   "source": []
  },
  {
   "cell_type": "code",
   "execution_count": null,
   "id": "2899dff6",
   "metadata": {},
   "outputs": [],
   "source": []
  },
  {
   "cell_type": "markdown",
   "id": "1eda1751",
   "metadata": {},
   "source": [
    "\n",
    "# MatlotLib \n",
    "\n",
    "\n",
    "matplotlib is a plotting library for the python programming language and its numerical mathematics extension NumPy. It provides an object-oriented API for embedding plots into applications using general-purpose GUI toolkits like Tkinter, wxpython,Qt,or GTK+.\n",
    "\n",
    "\n",
    "pros of matplotlib:\n",
    "\n",
    "> Generally easy to get started for simple plots\n",
    "> Support for custom labels  and texts\n",
    "> Great control of every element in a figure\n",
    "> High-quality output in many formats \n",
    "> Very customizable in general"
   ]
  },
  {
   "cell_type": "code",
   "execution_count": 113,
   "id": "f12eedf4",
   "metadata": {},
   "outputs": [],
   "source": [
    "import matplotlib.pyplot as plt\n",
    "\n",
    "%matplotlib inline\n",
    "# isko likhne se plt.show() nhi likhna padega"
   ]
  },
  {
   "cell_type": "code",
   "execution_count": 114,
   "id": "7f89b6ef",
   "metadata": {},
   "outputs": [],
   "source": [
    "import numpy as np\n",
    "import pandas as pd"
   ]
  },
  {
   "cell_type": "code",
   "execution_count": 116,
   "id": "cbc0a6be",
   "metadata": {},
   "outputs": [],
   "source": [
    "x=np.arange(0,10)\n",
    "y=np.arange(11,21)"
   ]
  },
  {
   "cell_type": "code",
   "execution_count": 117,
   "id": "6c6a57da",
   "metadata": {},
   "outputs": [],
   "source": [
    "a=np.arange(40,50)\n",
    "b=np.arange(50,60)"
   ]
  },
  {
   "cell_type": "code",
   "execution_count": 120,
   "id": "c56bbf25",
   "metadata": {},
   "outputs": [
    {
     "data": {
      "image/png": "[encoded data removed]",
      "text/plain": [
       "<Figure size 640x480 with 1 Axes>"
      ]
     },
     "metadata": {},
     "output_type": "display_data"
    }
   ],
   "source": [
    "# plotting using matplotlib\n",
    "\n",
    "# plt Scatter \n",
    "plt.scatter(x,y,c='b')\n",
    "plt.xlabel(' X axis')\n",
    "plt.ylabel('Y axis')\n",
    "plt.title('Graph in 2D')\n",
    "plt.savefig('Test.png')\n",
    "\n",
    "\n"
   ]
  },
  {
   "cell_type": "code",
   "execution_count": 121,
   "id": "c281fa1a",
   "metadata": {},
   "outputs": [],
   "source": [
    "y=x*x"
   ]
  },
  {
   "cell_type": "code",
   "execution_count": 122,
   "id": "efb29ee4",
   "metadata": {},
   "outputs": [
    {
     "data": {
      "text/plain": [
       "array([ 0,  1,  4,  9, 16, 25, 36, 49, 64, 81])"
      ]
     },
     "execution_count": 122,
     "metadata": {},
     "output_type": "execute_result"
    }
   ],
   "source": [
    "y"
   ]
  },
  {
   "cell_type": "code",
   "execution_count": 123,
   "id": "b2e68d15",
   "metadata": {},
   "outputs": [
    {
     "data": {
      "text/plain": [
       "[<matplotlib.lines.Line2D at 0x22aa44b0c90>]"
      ]
     },
     "execution_count": 123,
     "metadata": {},
     "output_type": "execute_result"
    },
    {
     "data": {
      "image/png": "[encoded data removed]",
      "text/plain": [
       "<Figure size 640x480 with 1 Axes>"
      ]
     },
     "metadata": {},
     "output_type": "display_data"
    }
   ],
   "source": [
    "## plt plot\n",
    "\n",
    "plt.plot(x,y)"
   ]
  },
  {
   "cell_type": "code",
   "execution_count": 126,
   "id": "86c84bfd",
   "metadata": {},
   "outputs": [
    {
     "name": "stderr",
     "output_type": "stream",
     "text": [
      "C:\\Users\\Brijesh kumar\\AppData\\Local\\Temp\\ipykernel_23436\\943968599.py:3: UserWarning: linestyle is redundantly defined by the 'linestyle' keyword argument and the fmt string \"r*--\" (-> linestyle='--'). The keyword argument will take precedence.\n",
      "  plt.plot(x,y,'r*--',linestyle='dashed',linewidth=2,markersize=12)\n"
     ]
    },
    {
     "data": {
      "text/plain": [
       "Text(0.5, 1.0, ' 2D Diagram')"
      ]
     },
     "execution_count": 126,
     "metadata": {},
     "output_type": "execute_result"
    },
    {
     "data": {
      "image/png": "[encoded data removed]",
      "text/plain": [
       "<Figure size 640x480 with 1 Axes>"
      ]
     },
     "metadata": {},
     "output_type": "display_data"
    }
   ],
   "source": [
    "## plt plot\n",
    "\n",
    "plt.plot(x,y,'r*--',linestyle='dashed',linewidth=2,markersize=12)\n",
    "plt.xlabel(' X axis')\n",
    "plt.ylabel('Y axis')\n",
    "plt.title(' 2D Diagram')"
   ]
  },
  {
   "cell_type": "code",
   "execution_count": 127,
   "id": "de53e961",
   "metadata": {},
   "outputs": [
    {
     "data": {
      "text/plain": [
       "[<matplotlib.lines.Line2D at 0x22aa082d790>]"
      ]
     },
     "execution_count": 127,
     "metadata": {},
     "output_type": "execute_result"
    },
    {
     "data": {
      "image/png": "[encoded data removed]",
      "text/plain": [
       "<Figure size 640x480 with 3 Axes>"
      ]
     },
     "metadata": {},
     "output_type": "display_data"
    }
   ],
   "source": [
    "## Creating Subplots\n",
    "# (2,2,1)= first row , second for column,third colour and design of line\n",
    "plt.subplot(2,2,1)\n",
    "plt.plot(x,y,'r--')\n",
    "plt.subplot(2,2,2)\n",
    "plt.plot(x,y,'g*--')\n",
    "plt.subplot(2,2,3)\n",
    "plt.plot(x,y,'bo')\n",
    "\n"
   ]
  },
  {
   "cell_type": "code",
   "execution_count": 128,
   "id": "77e890af",
   "metadata": {},
   "outputs": [
    {
     "data": {
      "image/png": "[encoded data removed]",
      "text/plain": [
       "<Figure size 640x480 with 1 Axes>"
      ]
     },
     "metadata": {},
     "output_type": "display_data"
    }
   ],
   "source": [
    "x=np.arange(1,11)\n",
    "y=3*x+5\n",
    "plt.xlabel(' X axis Caption')\n",
    "plt.ylabel('Y axis Caption')\n",
    "plt.title('Matplot Demo')\n",
    "plt.plot(x,y)\n",
    "plt.show()"
   ]
  },
  {
   "cell_type": "code",
   "execution_count": 129,
   "id": "73f94c9b",
   "metadata": {},
   "outputs": [
    {
     "data": {
      "text/plain": [
       "3.141592653589793"
      ]
     },
     "execution_count": 129,
     "metadata": {},
     "output_type": "execute_result"
    }
   ],
   "source": [
    "np.pi"
   ]
  },
  {
   "cell_type": "code",
   "execution_count": 136,
   "id": "bfb4fbfb",
   "metadata": {},
   "outputs": [
    {
     "data": {
      "image/png": "[encoded data removed]",
      "text/plain": [
       "<Figure size 640x480 with 1 Axes>"
      ]
     },
     "metadata": {},
     "output_type": "display_data"
    }
   ],
   "source": [
    "# compute the x and y coordinates for points on a sine curve \n",
    "\n",
    "X=np.arange(0,4*np.pi,0.1)\n",
    "y=np.sin(x)\n",
    "plt.title(\"Sine wave form\")\n",
    "\n",
    "#plot the points using matplotlib\n",
    "\n",
    "plt.plot(x, y)\n",
    "plt.show()\n"
   ]
  },
  {
   "cell_type": "code",
   "execution_count": 138,
   "id": "34023e04",
   "metadata": {},
   "outputs": [
    {
     "data": {
      "image/png": "[encoded data removed]",
      "text/plain": [
       "<Figure size 640x480 with 2 Axes>"
      ]
     },
     "metadata": {},
     "output_type": "display_data"
    }
   ],
   "source": [
    "#subplot()\n",
    "\n",
    "# compute the x and y coordinates for points on a sine curve \n",
    "\n",
    "X=np.arange(0, 5*np.pi, 0.1)\n",
    "y_sin=np.sin(x)\n",
    "y_cos=np.cos(x)\n",
    "\n",
    "# Set up a subplot grid that has height 2 and width 1\n",
    "# and set the first such subplot as active.\n",
    "\n",
    "plt.subplot(2,1,1)\n",
    "\n",
    "#make the first plot\n",
    "\n",
    "plt.plot(x,y_sin,\"r--\")\n",
    "plt.title('sine')\n",
    "\n",
    "# set the second subplot as active, and make the second plot \n",
    "\n",
    "plt.subplot(2,1,2)\n",
    "plt.plot(x,y_cos,'bo')\n",
    "plt.title('Cosine')\n",
    "\n",
    "\n",
    "# show the figure \n",
    "\n",
    "plt.show()\n",
    "\n",
    "\n",
    "\n"
   ]
  },
  {
   "cell_type": "code",
   "execution_count": 140,
   "id": "6333def6",
   "metadata": {},
   "outputs": [
    {
     "data": {
      "image/png": "[encoded data removed]",
      "text/plain": [
       "<Figure size 640x480 with 1 Axes>"
      ]
     },
     "metadata": {},
     "output_type": "display_data"
    }
   ],
   "source": [
    "# bar plot\n",
    "\n",
    "x=[2,8,10]\n",
    "y=[11,16,9]\n",
    "\n",
    "x2=[3,9,11]\n",
    "y2=[6,15,7]\n",
    "\n",
    "plt.bar(x,y, align=\"center\")\n",
    "plt.bar(x2,y2, color=\"y\")\n",
    "plt.xlabel(' X axis')\n",
    "plt.ylabel('Y axis')\n",
    "plt.title('Bar Graph')\n",
    "\n",
    "plt.show()\n",
    "\n"
   ]
  },
  {
   "cell_type": "markdown",
   "id": "25389aeb",
   "metadata": {},
   "source": [
    "# Histograms"
   ]
  },
  {
   "cell_type": "code",
   "execution_count": 145,
   "id": "6459af8a",
   "metadata": {},
   "outputs": [
    {
     "data": {
      "image/png": "[encoded data removed]",
      "text/plain": [
       "<Figure size 640x480 with 1 Axes>"
      ]
     },
     "metadata": {},
     "output_type": "display_data"
    }
   ],
   "source": [
    "a=np.array([22,87,5,43,56,73,55,54,11,20,51,5,79,31,27])\n",
    "plt.hist(a)# plot of histogram\n",
    "# plt.hist(a,bins=20)\n",
    "plt.title(\"Histogram\")\n",
    "plt.show()"
   ]
  },
  {
   "cell_type": "markdown",
   "id": "38c6db59",
   "metadata": {},
   "source": [
    "# Box Plot using Matplotlib"
   ]
  },
  {
   "cell_type": "code",
   "execution_count": 146,
   "id": "66d43614",
   "metadata": {
    "scrolled": true
   },
   "outputs": [
    {
     "data": {
      "image/png": "[encoded data removed]",
      "text/plain": [
       "<Figure size 640x480 with 1 Axes>"
      ]
     },
     "metadata": {},
     "output_type": "display_data"
    }
   ],
   "source": [
    "data=[np.random.normal(0,std,100) for std in range(1,4)]\n",
    "\n",
    "# retangular box plot\n",
    "\n",
    "plt.boxplot(data,vert=True,patch_artist=True);\n",
    "\n",
    "# circle in figure is outlier"
   ]
  },
  {
   "cell_type": "code",
   "execution_count": 147,
   "id": "45af774a",
   "metadata": {},
   "outputs": [
    {
     "data": {
      "text/plain": [
       "[array([-0.38017293,  0.5032827 ,  0.39815117,  1.05040818, -1.4618754 ,\n",
       "        -1.64255167, -0.39879457,  0.02849639,  0.06452824,  0.93246853,\n",
       "         0.05581798, -0.88216324,  0.6041793 ,  1.51561066,  0.04159966,\n",
       "        -0.09095396, -0.63990467,  0.70171651,  0.07167504, -1.40708668,\n",
       "         1.34832914, -1.32827727, -0.46192577, -1.59141682,  1.44065982,\n",
       "        -0.42166576, -0.9179829 ,  0.26841961, -0.58087908, -0.71046304,\n",
       "        -0.68908141, -0.09314437,  0.84220824, -0.66806475,  0.70249794,\n",
       "        -0.29863315,  0.85967999,  0.48244361,  0.04197678, -0.81935064,\n",
       "         0.01958228,  1.21610211, -0.10883813, -2.00786692,  2.09877234,\n",
       "        -0.82115815,  2.69264837, -1.21713719,  0.04225449, -1.28541613,\n",
       "         0.47007175,  1.09703519, -0.6214484 ,  0.63808676, -0.24149992,\n",
       "         0.91838307, -2.06873356, -0.3171756 ,  0.37563665, -0.01320176,\n",
       "         1.04859899, -0.41978038,  2.03171024,  0.52862142, -1.42797341,\n",
       "        -0.23281507,  0.15562804, -1.38427939, -0.24017414, -0.88497735,\n",
       "         0.93122868, -0.32477708, -0.65369294,  1.22674069,  1.38298741,\n",
       "        -1.71090126, -1.22230775, -0.39107231, -0.23637736,  0.23714474,\n",
       "         0.69221311, -0.47633563, -0.27109883,  0.87631549,  1.55078436,\n",
       "         0.5095894 , -1.37567294,  1.46087046,  0.60159366,  1.37786767,\n",
       "        -0.04154493,  0.7193758 , -0.30767489,  1.71865423, -1.54387378,\n",
       "         0.35316241,  1.40797904,  0.99650659, -0.04762152, -2.62077094]),\n",
       " array([ 0.83880848,  0.39722174, -0.85089264,  4.60735085,  1.39586339,\n",
       "        -0.18435296, -1.38393192,  0.33974476,  0.87146187,  4.71270949,\n",
       "         2.72756444, -1.47324781, -1.57212285,  1.35329475, -1.03193712,\n",
       "        -0.95695914,  0.44926628,  4.31573485, -3.07627666,  2.52904089,\n",
       "         1.01419199,  3.47282457, -1.13254376, -2.51150654,  4.43021633,\n",
       "         0.40276727,  0.95017665,  1.90323332,  0.59290824,  1.05674051,\n",
       "         0.52966625,  1.64849143,  1.96240253, -1.30232795, -2.94690396,\n",
       "         0.36014363, -1.60238305,  1.1873374 ,  2.94144527, -1.38723833,\n",
       "         0.63333407,  3.36274778,  4.90682748,  0.08054844, -1.13262286,\n",
       "        -0.68606298,  1.50138681, -2.62109531,  0.42516846, -3.30630771,\n",
       "        -1.05826613,  0.85796249,  2.71235831, -0.67110952, -0.61634059,\n",
       "        -0.0622389 , -3.25573496,  2.08548425,  3.39182014,  1.2439897 ,\n",
       "         1.42738356,  1.75929804,  0.27677942,  2.57427532, -1.20190063,\n",
       "         1.4745047 ,  0.44589501,  1.80112277,  1.20161648,  0.25475233,\n",
       "        -2.88639017,  2.98421768, -2.78354712,  3.71650597,  0.75949717,\n",
       "         1.05709644,  0.34760637, -1.36299848, -1.11982171, -0.14745236,\n",
       "         1.26424722,  2.37966359, -5.5213039 , -0.32762523, -0.15470522,\n",
       "         3.03060422, -1.69046935, -1.36284947, -3.64575779, -0.27156227,\n",
       "         3.12247349,  1.66377889,  1.17766783,  2.40255368, -1.80907713,\n",
       "        -2.42522234,  2.64483478,  1.38359565, -1.31014711, -4.13499902]),\n",
       " array([-1.79402931,  0.20689131, -3.26761815,  1.20251704,  0.12566613,\n",
       "         2.17358182,  2.00855272, -0.50338346,  7.72465003,  1.24854594,\n",
       "         5.68225071, -6.29215853, -0.43042315, -2.61890024,  0.89050201,\n",
       "         2.88793483,  4.19447919, -0.35152863, -0.45441107, -1.34086853,\n",
       "         4.78974104,  3.70909692, -3.29868296, -0.81873887,  2.30008847,\n",
       "         0.10133505, -5.46313086, -1.94729341, -5.87549443,  2.29885147,\n",
       "         4.73078371, -0.58743615, -3.07629882, -1.33734464,  3.35008875,\n",
       "        -2.01534673,  3.10196158, -2.4236777 , -0.25158218,  0.35036446,\n",
       "         4.11569287,  1.2876847 , -6.58569878,  0.84804703, -0.86778203,\n",
       "         0.94224686, -1.93819501, -1.9101003 ,  2.23136163, -2.49454799,\n",
       "         0.04256459,  2.63084584, -2.83011741, -1.37872502, -3.84404716,\n",
       "        -4.31550486, -2.30992414, -1.63519014, -0.93663191, -4.68792222,\n",
       "        -1.99064331, -6.44878812,  2.82828051,  3.05233126, -4.95326222,\n",
       "        -3.88691116, -1.48535529, -1.22287644,  8.34459049, -5.67290757,\n",
       "        -1.46511363,  3.99969315,  1.04337778, -0.66138524,  1.37521332,\n",
       "         1.55515537,  3.42079636, -2.74817947, -1.46439167, -4.87746359,\n",
       "         1.90733826, -6.43558652, -7.32187663,  5.10437966,  0.7143739 ,\n",
       "         0.2479034 ,  0.43721523,  4.11854322, -8.03261915, -0.57902275,\n",
       "        10.77182991,  0.83152487, -1.32909726,  3.46862504, -2.97618425,\n",
       "         2.87105495, -2.04723589, -0.13326374, -3.44722679, -4.10137127])]"
      ]
     },
     "execution_count": 147,
     "metadata": {},
     "output_type": "execute_result"
    }
   ],
   "source": [
    "data"
   ]
  },
  {
   "cell_type": "markdown",
   "id": "ab35eb8c",
   "metadata": {},
   "source": [
    "# Pie chart"
   ]
  },
  {
   "cell_type": "code",
   "execution_count": 151,
   "id": "db69a48c",
   "metadata": {},
   "outputs": [
    {
     "data": {
      "image/png": "[encoded data removed]",
      "text/plain": [
       "<Figure size 640x480 with 1 Axes>"
      ]
     },
     "metadata": {},
     "output_type": "display_data"
    }
   ],
   "source": [
    "# Data to plot\n",
    "\n",
    "labels='Python','C++','Ruby','Java'\n",
    "sizes=[215, 130, 245, 210]\n",
    "colors=['gold','yellowgreen','lightcoral','lightskyblue']\n",
    "explode=(0.3,0,0,0)  #explode 1st slice\n",
    "\n",
    "#plot\n",
    "\n",
    "plt.pie(sizes, explode=explode, labels=labels, colors=colors,\n",
    "       autopct='%1.1f%%', shadow=True)\n",
    "\n",
    "plt.axis('equal')\n",
    "plt.show()"
   ]
  },
  {
   "cell_type": "code",
   "execution_count": null,
   "id": "fa836ec7",
   "metadata": {},
   "outputs": [],
   "source": []
  }
 ],
 "metadata": {
  "kernelspec": {
   "display_name": "Python 3 (ipykernel)",
   "language": "python",
   "name": "python3"
  },
  "language_info": {
   "codemirror_mode": {
    "name": "ipython",
    "version": 3
   },
   "file_extension": ".py",
   "mimetype": "text/x-python",
   "name": "python",
   "nbconvert_exporter": "python",
   "pygments_lexer": "ipython3",
   "version": "3.11.7"
  }
 },
 "nbformat": 4,
 "nbformat_minor": 5
}
