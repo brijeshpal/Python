{
 "cells": [
  {
   "cell_type": "code",
   "execution_count": 18,
   "id": "040bf576",
   "metadata": {},
   "outputs": [],
   "source": [
    "#class car:\n",
    "#    pass"
   ]
  },
  {
   "cell_type": "code",
   "execution_count": 19,
   "id": "ec6278fb",
   "metadata": {},
   "outputs": [],
   "source": [
    "#car1=car()"
   ]
  },
  {
   "cell_type": "code",
   "execution_count": 20,
   "id": "d2f4d800",
   "metadata": {},
   "outputs": [],
   "source": [
    "#car1.windows=6\n",
    "#car1.mirror=8"
   ]
  },
  {
   "cell_type": "code",
   "execution_count": 21,
   "id": "1955fe5d",
   "metadata": {},
   "outputs": [],
   "source": [
    "#car1.windows"
   ]
  },
  {
   "cell_type": "code",
   "execution_count": 5,
   "id": "77521597",
   "metadata": {},
   "outputs": [],
   "source": [
    "class car:\n",
    "    def __init__(self,window,door,enginetype): # intilize a method or constructor\n",
    "        self.windows=window\n",
    "        self.doors=door\n",
    "        self.enginetypes=enginetype"
   ]
  },
  {
   "cell_type": "code",
   "execution_count": 6,
   "id": "c0aed915",
   "metadata": {},
   "outputs": [],
   "source": [
    "car1=car(4,5,'petrol')"
   ]
  },
  {
   "cell_type": "code",
   "execution_count": 7,
   "id": "fec30cdb",
   "metadata": {},
   "outputs": [
    {
     "data": {
      "text/plain": [
       "['__class__',\n",
       " '__delattr__',\n",
       " '__dict__',\n",
       " '__dir__',\n",
       " '__doc__',\n",
       " '__eq__',\n",
       " '__format__',\n",
       " '__ge__',\n",
       " '__getattribute__',\n",
       " '__getstate__',\n",
       " '__gt__',\n",
       " '__hash__',\n",
       " '__init__',\n",
       " '__init_subclass__',\n",
       " '__le__',\n",
       " '__lt__',\n",
       " '__module__',\n",
       " '__ne__',\n",
       " '__new__',\n",
       " '__reduce__',\n",
       " '__reduce_ex__',\n",
       " '__repr__',\n",
       " '__setattr__',\n",
       " '__sizeof__',\n",
       " '__str__',\n",
       " '__subclasshook__',\n",
       " '__weakref__',\n",
       " 'mirror',\n",
       " 'windows']"
      ]
     },
     "execution_count": 7,
     "metadata": {},
     "output_type": "execute_result"
    }
   ],
   "source": [
    "dir(car1)"
   ]
  },
  {
   "cell_type": "markdown",
   "id": "f1b5a3b8",
   "metadata": {},
   "source": [
    "# Python OOPs-Public,Protected And Private"
   ]
  },
  {
   "cell_type": "code",
   "execution_count": 26,
   "id": "45fbe681",
   "metadata": {},
   "outputs": [],
   "source": [
    "## all the class variables are public\n",
    "class Car():\n",
    "    def __init__(self,window,door,enginetype): # initialize a method or constructor\n",
    "        self.windows=window\n",
    "        self.doors=door\n",
    "        self.enginetypes=enginetype\n",
    "    \n",
    "    \n",
    "    \n",
    "    \n"
   ]
  },
  {
   "cell_type": "code",
   "execution_count": 3,
   "id": "ddf4500b",
   "metadata": {},
   "outputs": [],
   "source": [
    "BMW=Car(4,5,\"DIESel\")"
   ]
  },
  {
   "cell_type": "code",
   "execution_count": 8,
   "id": "e0267d94",
   "metadata": {},
   "outputs": [
    {
     "data": {
      "text/plain": [
       "<__main__.Car at 0x1a373885c50>"
      ]
     },
     "execution_count": 8,
     "metadata": {},
     "output_type": "execute_result"
    }
   ],
   "source": [
    "BMW"
   ]
  },
  {
   "cell_type": "code",
   "execution_count": 9,
   "id": "bfa82de5",
   "metadata": {},
   "outputs": [
    {
     "data": {
      "text/plain": [
       "['__class__',\n",
       " '__delattr__',\n",
       " '__dict__',\n",
       " '__dir__',\n",
       " '__doc__',\n",
       " '__eq__',\n",
       " '__format__',\n",
       " '__ge__',\n",
       " '__getattribute__',\n",
       " '__getstate__',\n",
       " '__gt__',\n",
       " '__hash__',\n",
       " '__init__',\n",
       " '__init_subclass__',\n",
       " '__le__',\n",
       " '__lt__',\n",
       " '__module__',\n",
       " '__ne__',\n",
       " '__new__',\n",
       " '__reduce__',\n",
       " '__reduce_ex__',\n",
       " '__repr__',\n",
       " '__setattr__',\n",
       " '__sizeof__',\n",
       " '__str__',\n",
       " '__subclasshook__',\n",
       " '__weakref__',\n",
       " 'doors',\n",
       " 'enginetypes',\n",
       " 'windows']"
      ]
     },
     "execution_count": 9,
     "metadata": {},
     "output_type": "execute_result"
    }
   ],
   "source": [
    "dir(BMW)"
   ]
  },
  {
   "cell_type": "code",
   "execution_count": 17,
   "id": "41a9ac3b",
   "metadata": {},
   "outputs": [
    {
     "data": {
      "text/plain": [
       "4"
      ]
     },
     "execution_count": 17,
     "metadata": {},
     "output_type": "execute_result"
    }
   ],
   "source": [
    "BMW.windows"
   ]
  },
  {
   "cell_type": "code",
   "execution_count": 7,
   "id": "358d85ca",
   "metadata": {},
   "outputs": [],
   "source": [
    "## all the class variables are protected\n",
    "## protected banane ke liye only variable name ke aage underscore laga do\n",
    "class Car():\n",
    "    def __init__(self,window,door,enginetype): # initialize a method or constructor\n",
    "        self._windows=window\n",
    "        self._doors=door\n",
    "        self._enginetypes=enginetype\n",
    "    "
   ]
  },
  {
   "cell_type": "code",
   "execution_count": 10,
   "id": "f451331f",
   "metadata": {},
   "outputs": [],
   "source": [
    "audi=Car(6,7,\"Petrol\")"
   ]
  },
  {
   "cell_type": "code",
   "execution_count": 11,
   "id": "4da072a8",
   "metadata": {},
   "outputs": [
    {
     "data": {
      "text/plain": [
       "<__main__.Car at 0x1a37386b4d0>"
      ]
     },
     "execution_count": 11,
     "metadata": {},
     "output_type": "execute_result"
    }
   ],
   "source": [
    "audi"
   ]
  },
  {
   "cell_type": "code",
   "execution_count": 12,
   "id": "fee9896c",
   "metadata": {},
   "outputs": [
    {
     "data": {
      "text/plain": [
       "['__class__',\n",
       " '__delattr__',\n",
       " '__dict__',\n",
       " '__dir__',\n",
       " '__doc__',\n",
       " '__eq__',\n",
       " '__format__',\n",
       " '__ge__',\n",
       " '__getattribute__',\n",
       " '__getstate__',\n",
       " '__gt__',\n",
       " '__hash__',\n",
       " '__init__',\n",
       " '__init_subclass__',\n",
       " '__le__',\n",
       " '__lt__',\n",
       " '__module__',\n",
       " '__ne__',\n",
       " '__new__',\n",
       " '__reduce__',\n",
       " '__reduce_ex__',\n",
       " '__repr__',\n",
       " '__setattr__',\n",
       " '__sizeof__',\n",
       " '__str__',\n",
       " '__subclasshook__',\n",
       " '__weakref__',\n",
       " '_doors',\n",
       " '_enginetypes',\n",
       " '_windows']"
      ]
     },
     "execution_count": 12,
     "metadata": {},
     "output_type": "execute_result"
    }
   ],
   "source": [
    "dir(audi)"
   ]
  },
  {
   "cell_type": "code",
   "execution_count": 16,
   "id": "98d37b4b",
   "metadata": {},
   "outputs": [
    {
     "ename": "AttributeError",
     "evalue": "'Car' object has no attribute 'windows'",
     "output_type": "error",
     "traceback": [
      "\u001b[1;31m---------------------------------------------------------------------------\u001b[0m",
      "\u001b[1;31mAttributeError\u001b[0m                            Traceback (most recent call last)",
      "Cell \u001b[1;32mIn[16], line 1\u001b[0m\n\u001b[1;32m----> 1\u001b[0m audi\u001b[38;5;241m.\u001b[39mwindows\n",
      "\u001b[1;31mAttributeError\u001b[0m: 'Car' object has no attribute 'windows'"
     ]
    }
   ],
   "source": [
    "audi.windows"
   ]
  },
  {
   "cell_type": "code",
   "execution_count": 29,
   "id": "9276adba",
   "metadata": {},
   "outputs": [],
   "source": [
    "## all the class variables are protected\n",
    "class Car():\n",
    "    def __init__(self,window,door,enginetype): # initialize a method or constructor\n",
    "        self._windows=window\n",
    "        self._doors=door\n",
    "        self._enginetypes=enginetype\n",
    "    "
   ]
  },
  {
   "cell_type": "code",
   "execution_count": 30,
   "id": "52255d69",
   "metadata": {},
   "outputs": [],
   "source": [
    "class Truck(Car):\n",
    "    def __init__(self,window,door,enginetype,horsepower): # initialize a method or constructor\n",
    "        super().__init__(window,door,enginetype)\n",
    "        self.horsepower=horsepower\n",
    "    "
   ]
  },
  {
   "cell_type": "code",
   "execution_count": 31,
   "id": "d4fc5c71",
   "metadata": {},
   "outputs": [
    {
     "data": {
      "text/plain": [
       "['__class__',\n",
       " '__delattr__',\n",
       " '__dict__',\n",
       " '__dir__',\n",
       " '__doc__',\n",
       " '__eq__',\n",
       " '__format__',\n",
       " '__ge__',\n",
       " '__getattribute__',\n",
       " '__getstate__',\n",
       " '__gt__',\n",
       " '__hash__',\n",
       " '__init__',\n",
       " '__init_subclass__',\n",
       " '__le__',\n",
       " '__lt__',\n",
       " '__module__',\n",
       " '__ne__',\n",
       " '__new__',\n",
       " '__reduce__',\n",
       " '__reduce_ex__',\n",
       " '__repr__',\n",
       " '__setattr__',\n",
       " '__sizeof__',\n",
       " '__str__',\n",
       " '__subclasshook__',\n",
       " '__weakref__',\n",
       " '_doors',\n",
       " '_enginetypes',\n",
       " '_windows',\n",
       " 'horsepower']"
      ]
     },
     "execution_count": 31,
     "metadata": {},
     "output_type": "execute_result"
    }
   ],
   "source": [
    "truck=Truck(4,4,\"Petrol\",400)\n",
    "dir(truck)"
   ]
  },
  {
   "cell_type": "code",
   "execution_count": 32,
   "id": "fc717ebd",
   "metadata": {},
   "outputs": [
    {
     "data": {
      "text/plain": [
       "4"
      ]
     },
     "execution_count": 32,
     "metadata": {},
     "output_type": "execute_result"
    }
   ],
   "source": [
    "truck._doors"
   ]
  },
  {
   "cell_type": "code",
   "execution_count": 33,
   "id": "cfc6d96a",
   "metadata": {},
   "outputs": [],
   "source": [
    "## private=can't be accessed or overridden anywhere\n",
    "## protected banane ke liye only variable name ke aage double underscore laga do\n",
    "class Car():\n",
    "    def __init__(self,window,door,enginetype): # initialize a method or constructor\n",
    "        self.__windows=window\n",
    "        self.__doors=door\n",
    "        self.__enginetypes=enginetype"
   ]
  },
  {
   "cell_type": "code",
   "execution_count": 34,
   "id": "2a822482",
   "metadata": {},
   "outputs": [],
   "source": [
    "audi=Car(4,4,\"Petrol\")"
   ]
  },
  {
   "cell_type": "code",
   "execution_count": 35,
   "id": "2f998b69",
   "metadata": {},
   "outputs": [
    {
     "data": {
      "text/plain": [
       "['_Car__doors',\n",
       " '_Car__enginetypes',\n",
       " '_Car__windows',\n",
       " '__class__',\n",
       " '__delattr__',\n",
       " '__dict__',\n",
       " '__dir__',\n",
       " '__doc__',\n",
       " '__eq__',\n",
       " '__format__',\n",
       " '__ge__',\n",
       " '__getattribute__',\n",
       " '__getstate__',\n",
       " '__gt__',\n",
       " '__hash__',\n",
       " '__init__',\n",
       " '__init_subclass__',\n",
       " '__le__',\n",
       " '__lt__',\n",
       " '__module__',\n",
       " '__ne__',\n",
       " '__new__',\n",
       " '__reduce__',\n",
       " '__reduce_ex__',\n",
       " '__repr__',\n",
       " '__setattr__',\n",
       " '__sizeof__',\n",
       " '__str__',\n",
       " '__subclasshook__',\n",
       " '__weakref__']"
      ]
     },
     "execution_count": 35,
     "metadata": {},
     "output_type": "execute_result"
    }
   ],
   "source": [
    "dir(audi)"
   ]
  },
  {
   "cell_type": "markdown",
   "id": "c3662c9e",
   "metadata": {},
   "source": [
    "#    # Python OOPS-Inheritance"
   ]
  },
  {
   "cell_type": "code",
   "execution_count": 42,
   "id": "ad53f0f3",
   "metadata": {},
   "outputs": [],
   "source": [
    "## all the class variables are public\n",
    "## car Blueprint\n",
    "class Car():\n",
    "    def __init__(self,window,door,enginetype): # initialize a method or constructor\n",
    "        self.windows=window\n",
    "        self.doors=door\n",
    "        self.enginetypes=enginetype\n",
    "    def drive(self):# drive is a function\n",
    "        print(\"The Person drives the car\")\n",
    "    "
   ]
  },
  {
   "cell_type": "code",
   "execution_count": 43,
   "id": "8d19acf2",
   "metadata": {},
   "outputs": [],
   "source": [
    "car=Car(4,5,\"Petrol\")"
   ]
  },
  {
   "cell_type": "code",
   "execution_count": 44,
   "id": "ed2a4a47",
   "metadata": {},
   "outputs": [
    {
     "data": {
      "text/plain": [
       "4"
      ]
     },
     "execution_count": 44,
     "metadata": {},
     "output_type": "execute_result"
    }
   ],
   "source": [
    "car.windows\n"
   ]
  },
  {
   "cell_type": "code",
   "execution_count": 45,
   "id": "88fc9927",
   "metadata": {},
   "outputs": [
    {
     "data": {
      "text/plain": [
       "['__class__',\n",
       " '__delattr__',\n",
       " '__dict__',\n",
       " '__dir__',\n",
       " '__doc__',\n",
       " '__eq__',\n",
       " '__format__',\n",
       " '__ge__',\n",
       " '__getattribute__',\n",
       " '__getstate__',\n",
       " '__gt__',\n",
       " '__hash__',\n",
       " '__init__',\n",
       " '__init_subclass__',\n",
       " '__le__',\n",
       " '__lt__',\n",
       " '__module__',\n",
       " '__ne__',\n",
       " '__new__',\n",
       " '__reduce__',\n",
       " '__reduce_ex__',\n",
       " '__repr__',\n",
       " '__setattr__',\n",
       " '__sizeof__',\n",
       " '__str__',\n",
       " '__subclasshook__',\n",
       " '__weakref__',\n",
       " 'doors',\n",
       " 'drive',\n",
       " 'enginetypes',\n",
       " 'windows']"
      ]
     },
     "execution_count": 45,
     "metadata": {},
     "output_type": "execute_result"
    }
   ],
   "source": [
    "dir(car)"
   ]
  },
  {
   "cell_type": "code",
   "execution_count": 46,
   "id": "5299ecb4",
   "metadata": {},
   "outputs": [
    {
     "name": "stdout",
     "output_type": "stream",
     "text": [
      "The Person drives the car\n"
     ]
    }
   ],
   "source": [
    "car.drive()"
   ]
  },
  {
   "cell_type": "code",
   "execution_count": 48,
   "id": "d7eabec1",
   "metadata": {},
   "outputs": [],
   "source": [
    "class audi(Car):\n",
    "    def __init__(self,window,door,enginetype,enableai):\n",
    "        super().__init__(window,door,enginetype)\n",
    "        self.enableai=enableai\n",
    "    def selfdriving(self):\n",
    "        print(\"Audi Support selfdriving\")\n",
    "        "
   ]
  },
  {
   "cell_type": "code",
   "execution_count": 50,
   "id": "b9e75109",
   "metadata": {},
   "outputs": [],
   "source": [
    "audi1=audi(5,6,\"petrol\",True)#enableai is true"
   ]
  },
  {
   "cell_type": "code",
   "execution_count": 51,
   "id": "b34ccf2b",
   "metadata": {},
   "outputs": [
    {
     "data": {
      "text/plain": [
       "['__class__',\n",
       " '__delattr__',\n",
       " '__dict__',\n",
       " '__dir__',\n",
       " '__doc__',\n",
       " '__eq__',\n",
       " '__format__',\n",
       " '__ge__',\n",
       " '__getattribute__',\n",
       " '__getstate__',\n",
       " '__gt__',\n",
       " '__hash__',\n",
       " '__init__',\n",
       " '__init_subclass__',\n",
       " '__le__',\n",
       " '__lt__',\n",
       " '__module__',\n",
       " '__ne__',\n",
       " '__new__',\n",
       " '__reduce__',\n",
       " '__reduce_ex__',\n",
       " '__repr__',\n",
       " '__setattr__',\n",
       " '__sizeof__',\n",
       " '__str__',\n",
       " '__subclasshook__',\n",
       " '__weakref__',\n",
       " 'doors',\n",
       " 'drive',\n",
       " 'enableai',\n",
       " 'enginetypes',\n",
       " 'selfdriving',\n",
       " 'windows']"
      ]
     },
     "execution_count": 51,
     "metadata": {},
     "output_type": "execute_result"
    }
   ],
   "source": [
    "dir(audi1)"
   ]
  },
  {
   "cell_type": "code",
   "execution_count": 52,
   "id": "d6bb90cd",
   "metadata": {},
   "outputs": [
    {
     "name": "stdout",
     "output_type": "stream",
     "text": [
      "The Person drives the car\n"
     ]
    }
   ],
   "source": [
    "audi1.drive()"
   ]
  },
  {
   "cell_type": "code",
   "execution_count": 53,
   "id": "56518232",
   "metadata": {},
   "outputs": [
    {
     "data": {
      "text/plain": [
       "method"
      ]
     },
     "execution_count": 53,
     "metadata": {},
     "output_type": "execute_result"
    }
   ],
   "source": [
    "type(audi1.drive)"
   ]
  },
  {
   "cell_type": "code",
   "execution_count": 54,
   "id": "a7f45364",
   "metadata": {},
   "outputs": [
    {
     "data": {
      "text/plain": [
       "bool"
      ]
     },
     "execution_count": 54,
     "metadata": {},
     "output_type": "execute_result"
    }
   ],
   "source": [
    "type(audi1.enableai)"
   ]
  },
  {
   "cell_type": "code",
   "execution_count": 56,
   "id": "846a2874",
   "metadata": {},
   "outputs": [
    {
     "data": {
      "text/plain": [
       "int"
      ]
     },
     "execution_count": 56,
     "metadata": {},
     "output_type": "execute_result"
    }
   ],
   "source": [
    "type(audi1.doors)"
   ]
  },
  {
   "cell_type": "code",
   "execution_count": null,
   "id": "5e165f5c",
   "metadata": {},
   "outputs": [],
   "source": []
  }
 ],
 "metadata": {
  "kernelspec": {
   "display_name": "Python 3 (ipykernel)",
   "language": "python",
   "name": "python3"
  },
  "language_info": {
   "codemirror_mode": {
    "name": "ipython",
    "version": 3
   },
   "file_extension": ".py",
   "mimetype": "text/x-python",
   "name": "python",
   "nbconvert_exporter": "python",
   "pygments_lexer": "ipython3",
   "version": "3.11.5"
  }
 },
 "nbformat": 4,
 "nbformat_minor": 5
}
