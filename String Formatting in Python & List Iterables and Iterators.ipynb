{
 "cells": [
  {
   "cell_type": "code",
   "execution_count": 1,
   "id": "e2e54c22",
   "metadata": {},
   "outputs": [],
   "source": [
    "def greeting(name):\n",
    "    return 'Hello {} Welcome to the my World'.format(name)"
   ]
  },
  {
   "cell_type": "code",
   "execution_count": 3,
   "id": "e99272f5",
   "metadata": {},
   "outputs": [
    {
     "data": {
      "text/plain": [
       "'Hello Brijesh Kumar Welcome to the my World'"
      ]
     },
     "execution_count": 3,
     "metadata": {},
     "output_type": "execute_result"
    }
   ],
   "source": [
    "greeting('Brijesh Kumar')"
   ]
  },
  {
   "cell_type": "code",
   "execution_count": 4,
   "id": "81cd8358",
   "metadata": {},
   "outputs": [],
   "source": [
    "def welcome_insaan(firstname,middlename,lastname):\n",
    "    return 'Welcome {} your middle name is {} and last name is {}'.format(firstname,middlename,lastname)"
   ]
  },
  {
   "cell_type": "code",
   "execution_count": 5,
   "id": "83fe799f",
   "metadata": {},
   "outputs": [
    {
     "data": {
      "text/plain": [
       "'Welcome Brijesh your middle name is Kumar and last name is pal'"
      ]
     },
     "execution_count": 5,
     "metadata": {},
     "output_type": "execute_result"
    }
   ],
   "source": [
    "welcome_insaan(\"Brijesh\",\"Kumar\",\"pal\")"
   ]
  },
  {
   "cell_type": "code",
   "execution_count": 6,
   "id": "84cd4ad7",
   "metadata": {},
   "outputs": [],
   "source": [
    "def welcome_email(name,age):\n",
    "    return 'welcome {name}. your age is {age}'.format(name=name,age=age)"
   ]
  },
  {
   "cell_type": "code",
   "execution_count": 7,
   "id": "4589f6ba",
   "metadata": {},
   "outputs": [
    {
     "data": {
      "text/plain": [
       "'welcome Brijesh. your age is 21'"
      ]
     },
     "execution_count": 7,
     "metadata": {},
     "output_type": "execute_result"
    }
   ],
   "source": [
    "welcome_email(\"Brijesh\",21)"
   ]
  },
  {
   "cell_type": "markdown",
   "id": "dbcf0c64",
   "metadata": {},
   "source": [
    "# Python List Iterables vs Iterators"
   ]
  },
  {
   "cell_type": "code",
   "execution_count": 8,
   "id": "6b807ce6",
   "metadata": {},
   "outputs": [
    {
     "name": "stdout",
     "output_type": "stream",
     "text": [
      "1\n",
      "2\n",
      "3\n",
      "4\n",
      "5\n",
      "6\n",
      "7\n"
     ]
    }
   ],
   "source": [
    "# iterable\n",
    "lst=[1,2,3,4,5,6,7]\n",
    "for i in lst:\n",
    "    print(i)"
   ]
  },
  {
   "cell_type": "code",
   "execution_count": 9,
   "id": "dee553cc",
   "metadata": {},
   "outputs": [],
   "source": [
    "# iterator\n",
    "lst1=iter(lst)\n",
    "\n",
    "\n",
    "\n",
    "# Docstring:\n",
    "# iter(iterable) -> iterator\n",
    "# iter(callable, sentinel) -> iterator"
   ]
  },
  {
   "cell_type": "code",
   "execution_count": 10,
   "id": "4c5a6c26",
   "metadata": {},
   "outputs": [
    {
     "data": {
      "text/plain": [
       "<list_iterator at 0x23698d85c60>"
      ]
     },
     "execution_count": 10,
     "metadata": {},
     "output_type": "execute_result"
    }
   ],
   "source": [
    "lst1"
   ]
  },
  {
   "cell_type": "code",
   "execution_count": 12,
   "id": "84fd01da",
   "metadata": {},
   "outputs": [
    {
     "data": {
      "text/plain": [
       "2"
      ]
     },
     "execution_count": 12,
     "metadata": {},
     "output_type": "execute_result"
    }
   ],
   "source": [
    "# onle one element enter the memory at a time \n",
    "next(lst1)"
   ]
  },
  {
   "cell_type": "code",
   "execution_count": 13,
   "id": "f5d5a2b2",
   "metadata": {},
   "outputs": [
    {
     "name": "stdout",
     "output_type": "stream",
     "text": [
      "3\n",
      "4\n",
      "5\n",
      "6\n",
      "7\n"
     ]
    }
   ],
   "source": [
    "# next jha tk execute hua h uske bad se print hoga loop me \n",
    "# start se print karana h to next ko ek bhi bar execute nhi karo\n",
    "for i in lst1:\n",
    "    print(i)"
   ]
  },
  {
   "cell_type": "code",
   "execution_count": null,
   "id": "f391adf4",
   "metadata": {},
   "outputs": [],
   "source": []
  }
 ],
 "metadata": {
  "kernelspec": {
   "display_name": "Python 3 (ipykernel)",
   "language": "python",
   "name": "python3"
  },
  "language_info": {
   "codemirror_mode": {
    "name": "ipython",
    "version": 3
   },
   "file_extension": ".py",
   "mimetype": "text/x-python",
   "name": "python",
   "nbconvert_exporter": "python",
   "pygments_lexer": "ipython3",
   "version": "3.11.5"
  }
 },
 "nbformat": 4,
 "nbformat_minor": 5
}
