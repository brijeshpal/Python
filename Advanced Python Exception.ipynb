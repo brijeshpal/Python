{
 "cells": [
  {
   "cell_type": "markdown",
   "id": "ec004564",
   "metadata": {},
   "source": [
    "# Python Exception Handling \n",
    "\n",
    "Error & Exception basic diff\n",
    "\n",
    "The error indicates trouble that primarily occurs due to the scarcity of system resources. \n",
    "The exceptions are the issues that can appear at runtime and compile time"
   ]
  },
  {
   "cell_type": "code",
   "execution_count": 1,
   "id": "ce04773d",
   "metadata": {},
   "outputs": [
    {
     "ename": "NameError",
     "evalue": "name 'b' is not defined",
     "output_type": "error",
     "traceback": [
      "\u001b[1;31m---------------------------------------------------------------------------\u001b[0m",
      "\u001b[1;31mNameError\u001b[0m                                 Traceback (most recent call last)",
      "Cell \u001b[1;32mIn[1], line 1\u001b[0m\n\u001b[1;32m----> 1\u001b[0m a\u001b[38;5;241m=\u001b[39mb\n",
      "\u001b[1;31mNameError\u001b[0m: name 'b' is not defined"
     ]
    }
   ],
   "source": [
    "a=b"
   ]
  },
  {
   "cell_type": "code",
   "execution_count": 3,
   "id": "1455169c",
   "metadata": {},
   "outputs": [
    {
     "name": "stdout",
     "output_type": "stream",
     "text": [
      "name 'b' is not defined\n"
     ]
    }
   ],
   "source": [
    "try:\n",
    "    ## code block where exception can occur\n",
    "    a=b\n",
    "except Exception as ex:\n",
    "    print(ex)\n",
    "    #print(\"Some problem may have occured\")\n",
    "    "
   ]
  },
  {
   "cell_type": "code",
   "execution_count": null,
   "id": "9f695be6",
   "metadata": {},
   "outputs": [],
   "source": []
  },
  {
   "cell_type": "code",
   "execution_count": 4,
   "id": "cc08f904",
   "metadata": {},
   "outputs": [
    {
     "name": "stdout",
     "output_type": "stream",
     "text": [
      "The user have not defined the variable\n"
     ]
    }
   ],
   "source": [
    "try:\n",
    "     ## code block where exception can occur\n",
    "    a=b\n",
    "except NameError:\n",
    "    print(\"The user have not defined the variable\")\n",
    "except Exception as ex:\n",
    "    print(ex)"
   ]
  },
  {
   "cell_type": "code",
   "execution_count": 5,
   "id": "b355b9b3",
   "metadata": {},
   "outputs": [
    {
     "ename": "TypeError",
     "evalue": "unsupported operand type(s) for +: 'int' and 'str'",
     "output_type": "error",
     "traceback": [
      "\u001b[1;31m---------------------------------------------------------------------------\u001b[0m",
      "\u001b[1;31mTypeError\u001b[0m                                 Traceback (most recent call last)",
      "Cell \u001b[1;32mIn[5], line 3\u001b[0m\n\u001b[0;32m      1\u001b[0m a\u001b[38;5;241m=\u001b[39m\u001b[38;5;241m1\u001b[39m\n\u001b[0;32m      2\u001b[0m b\u001b[38;5;241m=\u001b[39m\u001b[38;5;124m'\u001b[39m\u001b[38;5;124ms\u001b[39m\u001b[38;5;124m'\u001b[39m\n\u001b[1;32m----> 3\u001b[0m c\u001b[38;5;241m=\u001b[39ma\u001b[38;5;241m+\u001b[39mb\n",
      "\u001b[1;31mTypeError\u001b[0m: unsupported operand type(s) for +: 'int' and 'str'"
     ]
    }
   ],
   "source": [
    "a=1\n",
    "b='s'\n",
    "c=a+b"
   ]
  },
  {
   "cell_type": "code",
   "execution_count": 6,
   "id": "129cd61f",
   "metadata": {},
   "outputs": [
    {
     "name": "stdout",
     "output_type": "stream",
     "text": [
      "try to make datatypes similar\n"
     ]
    }
   ],
   "source": [
    "try:\n",
    "     ## code block where exception can occur\n",
    "    a=1\n",
    "    b='s'\n",
    "    c=a+b\n",
    "except NameError:\n",
    "    print(\"The user have not defined the variable\")\n",
    "except TypeError:\n",
    "    print(\"try to make datatypes similar\")\n",
    "except Exception as ex:## generic exception class written in last\n",
    "    print(ex)"
   ]
  },
  {
   "cell_type": "code",
   "execution_count": 8,
   "id": "d7ac9f77",
   "metadata": {},
   "outputs": [
    {
     "name": "stdout",
     "output_type": "stream",
     "text": [
      "Enter the number 1:  23\n",
      "Enter the number 2:  43\n",
      "66\n",
      "989\n",
      "0.5348837209302325\n"
     ]
    }
   ],
   "source": [
    "try:\n",
    "    a=int(input('Enter the number 1:  '))\n",
    "    b=int(input('Enter the number 2:  '))\n",
    "    c=a+b \n",
    "    d=a*b\n",
    "    e=a/b\n",
    "    print(c)\n",
    "    print(d)\n",
    "    print(e)\n",
    "except NameError:#child class\n",
    "    print(\"The user have not defined the variable\")\n",
    "except TypeError:#child class\n",
    "    print(\"try to make datatypes similar\")\n",
    "except Exception as ex:## generic exception class written in last\n",
    "    print(ex)"
   ]
  },
  {
   "cell_type": "code",
   "execution_count": 9,
   "id": "504e37f4",
   "metadata": {},
   "outputs": [
    {
     "name": "stdout",
     "output_type": "stream",
     "text": [
      "Enter the number 1:  12\n",
      "Enter the number 2:  0\n",
      "division by zero\n"
     ]
    }
   ],
   "source": [
    "try:\n",
    "     ## code block where exception can occur\n",
    "    a=int(input('Enter the number 1:  '))\n",
    "    b=int(input('Enter the number 2:  '))\n",
    "    c=a+b ##\n",
    "    d=a*b\n",
    "    e=a/b\n",
    "    print(c)\n",
    "    print(d)\n",
    "    print(e)\n",
    "except NameError:\n",
    "    print(\"The user have not defined the variable\")\n",
    "except TypeError:\n",
    "    print(\"try to make datatypes similar\")\n",
    "except Exception as ex:\n",
    "    print(ex)"
   ]
  },
  {
   "cell_type": "code",
   "execution_count": 10,
   "id": "ac5a393f",
   "metadata": {},
   "outputs": [
    {
     "ename": "ZeroDivisionError",
     "evalue": "division by zero",
     "output_type": "error",
     "traceback": [
      "\u001b[1;31m---------------------------------------------------------------------------\u001b[0m",
      "\u001b[1;31mZeroDivisionError\u001b[0m                         Traceback (most recent call last)",
      "Cell \u001b[1;32mIn[10], line 1\u001b[0m\n\u001b[1;32m----> 1\u001b[0m \u001b[38;5;241m12\u001b[39m\u001b[38;5;241m/\u001b[39m\u001b[38;5;241m0\u001b[39m\n",
      "\u001b[1;31mZeroDivisionError\u001b[0m: division by zero"
     ]
    }
   ],
   "source": [
    "12/0"
   ]
  },
  {
   "cell_type": "code",
   "execution_count": 11,
   "id": "7ce75308",
   "metadata": {},
   "outputs": [
    {
     "name": "stdout",
     "output_type": "stream",
     "text": [
      "Enter the number 1:  12\n",
      "Enter the number 2:  0\n",
      "Please provide number greater than zero\n"
     ]
    }
   ],
   "source": [
    "try:\n",
    "     ## code block where exception can occur\n",
    "    a=int(input('Enter the number 1:  '))\n",
    "    b=int(input('Enter the number 2:  '))\n",
    "    c=a+b ##\n",
    "    d=a*b\n",
    "    e=a/b\n",
    "    print(c)\n",
    "    print(d)\n",
    "    print(e)\n",
    "except NameError:#child class\n",
    "    print(\"The user have not defined the variable\")\n",
    "except ZeroDivisionError:#child class\n",
    "    print(\"Please provide number greater than zero\")\n",
    "except TypeError:#child class\n",
    "    print(\"try to make datatypes similar\")\n",
    "except Exception as ex:## generic exception class written in last\n",
    "    print(ex)"
   ]
  },
  {
   "cell_type": "code",
   "execution_count": 12,
   "id": "2e176424",
   "metadata": {},
   "outputs": [
    {
     "name": "stdout",
     "output_type": "stream",
     "text": [
      "Enter the number 1:  12\n",
      "Enter the number 2:  3\n",
      "15\n",
      "36\n",
      "4.0\n"
     ]
    }
   ],
   "source": [
    "# try else\n",
    "try:\n",
    "     ## code block where exception can occur\n",
    "    a=int(input('Enter the number 1:  '))\n",
    "    b=int(input('Enter the number 2:  '))\n",
    "    c=a+b ##\n",
    "    d=a*b\n",
    "    e=a/b\n",
    "except NameError:#child class\n",
    "    print(\"The user have not defined the variable\")\n",
    "except ZeroDivisionError:#child class\n",
    "    print(\"Please provide number greater than zero\")\n",
    "except TypeError:#child class\n",
    "    print(\"try to make datatypes similar\")\n",
    "except Exception as ex:## generic exception class written in last\n",
    "    print(ex)\n",
    "else:\n",
    "    print(c)\n",
    "    print(d)\n",
    "    print(e)\n",
    "    "
   ]
  },
  {
   "cell_type": "code",
   "execution_count": 14,
   "id": "fd031226",
   "metadata": {},
   "outputs": [
    {
     "name": "stdout",
     "output_type": "stream",
     "text": [
      "Enter the number 1:  12\n",
      "Enter the number 2:  0\n",
      "Please provide number greater than zero\n",
      "The Execution has done\n"
     ]
    }
   ],
   "source": [
    "# try else finally\n",
    "try:\n",
    "     ## code block where exception can occur\n",
    "    a=int(input('Enter the number 1:  '))\n",
    "    b=int(input('Enter the number 2:  '))\n",
    "    c=a/b\n",
    "except NameError:#child class\n",
    "    print(\"The user have not defined the variable\")\n",
    "except ZeroDivisionError:#child class\n",
    "    print(\"Please provide number greater than zero\")\n",
    "except TypeError:#child class\n",
    "    print(\"try to make datatypes similar\")\n",
    "except Exception as ex:## generic exception class written in last\n",
    "    print(ex)\n",
    "else:\n",
    "    print(c)\n",
    "finally:\n",
    "    print(\"The Execution has done\")\n",
    "    "
   ]
  },
  {
   "cell_type": "markdown",
   "id": "c7f7f89d",
   "metadata": {},
   "source": [
    "# Custom Exception"
   ]
  },
  {
   "cell_type": "code",
   "execution_count": 4,
   "id": "15099dec",
   "metadata": {},
   "outputs": [],
   "source": [
    "class Error(Exception):\n",
    "    pass\n",
    "class dobException(Error):\n",
    "    pass"
   ]
  },
  {
   "cell_type": "code",
   "execution_count": 8,
   "id": "cc14abfb",
   "metadata": {},
   "outputs": [
    {
     "name": "stdout",
     "output_type": "stream",
     "text": [
      "Enter the year of Birth: 2001\n",
      "the age is valid. You can apply for the exams.\n"
     ]
    }
   ],
   "source": [
    "year=int(input(\"Enter the year of Birth: \"))\n",
    "age=2023-year\n",
    "try:\n",
    "    if age<=30 & age>20:\n",
    "        print(\"the age is valid. You can apply for the exams.\")\n",
    "    else:\n",
    "        raise dobException\n",
    "except dobException:\n",
    "    print(\"The age is not valid\")"
   ]
  },
  {
   "cell_type": "code",
   "execution_count": null,
   "id": "d131e1a0",
   "metadata": {},
   "outputs": [],
   "source": []
  }
 ],
 "metadata": {
  "kernelspec": {
   "display_name": "Python 3 (ipykernel)",
   "language": "python",
   "name": "python3"
  },
  "language_info": {
   "codemirror_mode": {
    "name": "ipython",
    "version": 3
   },
   "file_extension": ".py",
   "mimetype": "text/x-python",
   "name": "python",
   "nbconvert_exporter": "python",
   "pygments_lexer": "ipython3",
   "version": "3.11.5"
  }
 },
 "nbformat": 4,
 "nbformat_minor": 5
}
